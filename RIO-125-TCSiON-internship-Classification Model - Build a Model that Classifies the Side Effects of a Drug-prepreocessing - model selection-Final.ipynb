{
 "cells": [
  {
   "cell_type": "code",
   "execution_count": 1,
   "id": "ef78e247",
   "metadata": {},
   "outputs": [],
   "source": [
    "import numpy as np\n",
    "import pandas as pd\n",
    "import seaborn as sns\n",
    "import matplotlib.pyplot as plt\n",
    "\n",
    "import warnings\n",
    "warnings.filterwarnings('ignore')"
   ]
  },
  {
   "cell_type": "code",
   "execution_count": 2,
   "id": "cbddc058",
   "metadata": {},
   "outputs": [],
   "source": [
    "data = pd.read_csv(r'C:\\Users\\User\\Desktop\\TCS ineternship dataset\\webmd.csv')"
   ]
  },
  {
   "cell_type": "code",
   "execution_count": 3,
   "id": "20e64eac",
   "metadata": {},
   "outputs": [
    {
     "data": {
      "text/html": [
       "<div>\n",
       "<style scoped>\n",
       "    .dataframe tbody tr th:only-of-type {\n",
       "        vertical-align: middle;\n",
       "    }\n",
       "\n",
       "    .dataframe tbody tr th {\n",
       "        vertical-align: top;\n",
       "    }\n",
       "\n",
       "    .dataframe thead th {\n",
       "        text-align: right;\n",
       "    }\n",
       "</style>\n",
       "<table border=\"1\" class=\"dataframe\">\n",
       "  <thead>\n",
       "    <tr style=\"text-align: right;\">\n",
       "      <th></th>\n",
       "      <th>Age</th>\n",
       "      <th>Condition</th>\n",
       "      <th>Date</th>\n",
       "      <th>Drug</th>\n",
       "      <th>DrugId</th>\n",
       "      <th>EaseofUse</th>\n",
       "      <th>Effectiveness</th>\n",
       "      <th>Reviews</th>\n",
       "      <th>Satisfaction</th>\n",
       "      <th>Sex</th>\n",
       "      <th>Sides</th>\n",
       "      <th>UsefulCount</th>\n",
       "    </tr>\n",
       "  </thead>\n",
       "  <tbody>\n",
       "    <tr>\n",
       "      <th>0</th>\n",
       "      <td>75 or over</td>\n",
       "      <td>Stuffy Nose</td>\n",
       "      <td>9/21/2014</td>\n",
       "      <td>25dph-7.5peh</td>\n",
       "      <td>146724</td>\n",
       "      <td>5</td>\n",
       "      <td>5</td>\n",
       "      <td>I'm a retired physician and of all the meds I ...</td>\n",
       "      <td>5</td>\n",
       "      <td>Male</td>\n",
       "      <td>Drowsiness,  dizziness ,  dry mouth /nose/thro...</td>\n",
       "      <td>0</td>\n",
       "    </tr>\n",
       "    <tr>\n",
       "      <th>1</th>\n",
       "      <td>25-34</td>\n",
       "      <td>Cold Symptoms</td>\n",
       "      <td>1/13/2011</td>\n",
       "      <td>25dph-7.5peh</td>\n",
       "      <td>146724</td>\n",
       "      <td>5</td>\n",
       "      <td>5</td>\n",
       "      <td>cleared me right up even with my throat hurtin...</td>\n",
       "      <td>5</td>\n",
       "      <td>Female</td>\n",
       "      <td>Drowsiness,  dizziness ,  dry mouth /nose/thro...</td>\n",
       "      <td>1</td>\n",
       "    </tr>\n",
       "    <tr>\n",
       "      <th>2</th>\n",
       "      <td>65-74</td>\n",
       "      <td>Other</td>\n",
       "      <td>7/16/2012</td>\n",
       "      <td>warfarin (bulk) 100 % powder</td>\n",
       "      <td>144731</td>\n",
       "      <td>2</td>\n",
       "      <td>3</td>\n",
       "      <td>why did my PTINR go from a normal of 2.5 to ov...</td>\n",
       "      <td>3</td>\n",
       "      <td>Female</td>\n",
       "      <td></td>\n",
       "      <td>0</td>\n",
       "    </tr>\n",
       "    <tr>\n",
       "      <th>3</th>\n",
       "      <td>75 or over</td>\n",
       "      <td>Other</td>\n",
       "      <td>9/23/2010</td>\n",
       "      <td>warfarin (bulk) 100 % powder</td>\n",
       "      <td>144731</td>\n",
       "      <td>2</td>\n",
       "      <td>2</td>\n",
       "      <td>FALLING AND DON'T REALISE IT</td>\n",
       "      <td>1</td>\n",
       "      <td>Female</td>\n",
       "      <td></td>\n",
       "      <td>0</td>\n",
       "    </tr>\n",
       "    <tr>\n",
       "      <th>4</th>\n",
       "      <td>35-44</td>\n",
       "      <td>Other</td>\n",
       "      <td>1/6/2009</td>\n",
       "      <td>warfarin (bulk) 100 % powder</td>\n",
       "      <td>144731</td>\n",
       "      <td>1</td>\n",
       "      <td>1</td>\n",
       "      <td>My grandfather was prescribed this medication ...</td>\n",
       "      <td>1</td>\n",
       "      <td>Male</td>\n",
       "      <td></td>\n",
       "      <td>1</td>\n",
       "    </tr>\n",
       "  </tbody>\n",
       "</table>\n",
       "</div>"
      ],
      "text/plain": [
       "          Age      Condition       Date                          Drug  DrugId  \\\n",
       "0  75 or over    Stuffy Nose  9/21/2014                  25dph-7.5peh  146724   \n",
       "1       25-34  Cold Symptoms  1/13/2011                  25dph-7.5peh  146724   \n",
       "2       65-74          Other  7/16/2012  warfarin (bulk) 100 % powder  144731   \n",
       "3  75 or over          Other  9/23/2010  warfarin (bulk) 100 % powder  144731   \n",
       "4       35-44          Other   1/6/2009  warfarin (bulk) 100 % powder  144731   \n",
       "\n",
       "   EaseofUse  Effectiveness  \\\n",
       "0          5              5   \n",
       "1          5              5   \n",
       "2          2              3   \n",
       "3          2              2   \n",
       "4          1              1   \n",
       "\n",
       "                                             Reviews  Satisfaction     Sex  \\\n",
       "0  I'm a retired physician and of all the meds I ...             5    Male   \n",
       "1  cleared me right up even with my throat hurtin...             5  Female   \n",
       "2  why did my PTINR go from a normal of 2.5 to ov...             3  Female   \n",
       "3                       FALLING AND DON'T REALISE IT             1  Female   \n",
       "4  My grandfather was prescribed this medication ...             1    Male   \n",
       "\n",
       "                                               Sides  UsefulCount  \n",
       "0  Drowsiness,  dizziness ,  dry mouth /nose/thro...            0  \n",
       "1  Drowsiness,  dizziness ,  dry mouth /nose/thro...            1  \n",
       "2                                                               0  \n",
       "3                                                               0  \n",
       "4                                                               1  "
      ]
     },
     "execution_count": 3,
     "metadata": {},
     "output_type": "execute_result"
    }
   ],
   "source": [
    "data.head()"
   ]
  },
  {
   "cell_type": "code",
   "execution_count": 4,
   "id": "fb606846",
   "metadata": {},
   "outputs": [
    {
     "data": {
      "text/html": [
       "<div>\n",
       "<style scoped>\n",
       "    .dataframe tbody tr th:only-of-type {\n",
       "        vertical-align: middle;\n",
       "    }\n",
       "\n",
       "    .dataframe tbody tr th {\n",
       "        vertical-align: top;\n",
       "    }\n",
       "\n",
       "    .dataframe thead th {\n",
       "        text-align: right;\n",
       "    }\n",
       "</style>\n",
       "<table border=\"1\" class=\"dataframe\">\n",
       "  <thead>\n",
       "    <tr style=\"text-align: right;\">\n",
       "      <th></th>\n",
       "      <th>Age</th>\n",
       "      <th>Condition</th>\n",
       "      <th>Date</th>\n",
       "      <th>Drug</th>\n",
       "      <th>DrugId</th>\n",
       "      <th>EaseofUse</th>\n",
       "      <th>Effectiveness</th>\n",
       "      <th>Reviews</th>\n",
       "      <th>Satisfaction</th>\n",
       "      <th>Sex</th>\n",
       "      <th>Sides</th>\n",
       "      <th>UsefulCount</th>\n",
       "    </tr>\n",
       "  </thead>\n",
       "  <tbody>\n",
       "    <tr>\n",
       "      <th>362801</th>\n",
       "      <td>55-64</td>\n",
       "      <td>Stop Smoking</td>\n",
       "      <td>11/14/2008</td>\n",
       "      <td>chantix</td>\n",
       "      <td>144470</td>\n",
       "      <td>5</td>\n",
       "      <td>5</td>\n",
       "      <td>I took the whole 12 weeks.I could have stopped...</td>\n",
       "      <td>5</td>\n",
       "      <td>Female</td>\n",
       "      <td>Nausea ,  headache ,  vomiting , drowsiness, g...</td>\n",
       "      <td>2</td>\n",
       "    </tr>\n",
       "    <tr>\n",
       "      <th>362802</th>\n",
       "      <td></td>\n",
       "      <td>Other</td>\n",
       "      <td>11/14/2008</td>\n",
       "      <td>chantix</td>\n",
       "      <td>144470</td>\n",
       "      <td>2</td>\n",
       "      <td>3</td>\n",
       "      <td>My dad strated taking Chantix about 1 month ag...</td>\n",
       "      <td>1</td>\n",
       "      <td></td>\n",
       "      <td>Nausea ,  headache ,  vomiting , drowsiness, g...</td>\n",
       "      <td>16</td>\n",
       "    </tr>\n",
       "    <tr>\n",
       "      <th>362803</th>\n",
       "      <td>25-34</td>\n",
       "      <td>Stop Smoking</td>\n",
       "      <td>11/13/2008</td>\n",
       "      <td>chantix</td>\n",
       "      <td>144470</td>\n",
       "      <td>2</td>\n",
       "      <td>4</td>\n",
       "      <td>As long as I was on chantix, I didn't smoke.  ...</td>\n",
       "      <td>2</td>\n",
       "      <td>Female</td>\n",
       "      <td>Nausea ,  headache ,  vomiting , drowsiness, g...</td>\n",
       "      <td>3</td>\n",
       "    </tr>\n",
       "    <tr>\n",
       "      <th>362804</th>\n",
       "      <td>55-64</td>\n",
       "      <td>Stop Smoking</td>\n",
       "      <td>11/13/2008</td>\n",
       "      <td>chantix</td>\n",
       "      <td>144470</td>\n",
       "      <td>5</td>\n",
       "      <td>5</td>\n",
       "      <td>Started this medication Oct 5th 2008. Haven't ...</td>\n",
       "      <td>5</td>\n",
       "      <td>Male</td>\n",
       "      <td>Nausea ,  headache ,  vomiting , drowsiness, g...</td>\n",
       "      <td>1</td>\n",
       "    </tr>\n",
       "    <tr>\n",
       "      <th>362805</th>\n",
       "      <td>45-54</td>\n",
       "      <td>Stop Smoking</td>\n",
       "      <td>11/12/2008</td>\n",
       "      <td>chantix</td>\n",
       "      <td>144470</td>\n",
       "      <td>4</td>\n",
       "      <td>5</td>\n",
       "      <td>One year ago, I tried Chantix and had to stop ...</td>\n",
       "      <td>5</td>\n",
       "      <td>Female</td>\n",
       "      <td>Nausea ,  headache ,  vomiting , drowsiness, g...</td>\n",
       "      <td>3</td>\n",
       "    </tr>\n",
       "  </tbody>\n",
       "</table>\n",
       "</div>"
      ],
      "text/plain": [
       "          Age     Condition        Date     Drug  DrugId  EaseofUse  \\\n",
       "362801  55-64  Stop Smoking  11/14/2008  chantix  144470          5   \n",
       "362802                Other  11/14/2008  chantix  144470          2   \n",
       "362803  25-34  Stop Smoking  11/13/2008  chantix  144470          2   \n",
       "362804  55-64  Stop Smoking  11/13/2008  chantix  144470          5   \n",
       "362805  45-54  Stop Smoking  11/12/2008  chantix  144470          4   \n",
       "\n",
       "        Effectiveness                                            Reviews  \\\n",
       "362801              5  I took the whole 12 weeks.I could have stopped...   \n",
       "362802              3  My dad strated taking Chantix about 1 month ag...   \n",
       "362803              4  As long as I was on chantix, I didn't smoke.  ...   \n",
       "362804              5  Started this medication Oct 5th 2008. Haven't ...   \n",
       "362805              5  One year ago, I tried Chantix and had to stop ...   \n",
       "\n",
       "        Satisfaction     Sex  \\\n",
       "362801             5  Female   \n",
       "362802             1           \n",
       "362803             2  Female   \n",
       "362804             5    Male   \n",
       "362805             5  Female   \n",
       "\n",
       "                                                    Sides  UsefulCount  \n",
       "362801  Nausea ,  headache ,  vomiting , drowsiness, g...            2  \n",
       "362802  Nausea ,  headache ,  vomiting , drowsiness, g...           16  \n",
       "362803  Nausea ,  headache ,  vomiting , drowsiness, g...            3  \n",
       "362804  Nausea ,  headache ,  vomiting , drowsiness, g...            1  \n",
       "362805  Nausea ,  headache ,  vomiting , drowsiness, g...            3  "
      ]
     },
     "execution_count": 4,
     "metadata": {},
     "output_type": "execute_result"
    }
   ],
   "source": [
    "data.tail()"
   ]
  },
  {
   "cell_type": "raw",
   "id": "0e4b1c15",
   "metadata": {},
   "source": [
    "Description of the dataset\n",
    "\n",
    "Age : Age of the patient\n",
    "\n",
    "Condition : Condition/symptom from which the patient is suffering\n",
    "\n",
    "Date : Date of usage\n",
    "\n",
    "Drug : Name of the drug\n",
    "\n",
    "DrugId : Identity/code of drug\n",
    "\n",
    "EaseofUse : Patient's 5-Star rating on the ease of use of drug\n",
    "\n",
    "Effectiveness : Patient's 10-Star rating on the effectiveness of drug\n",
    "\n",
    "Reviews : Patient's review\n",
    "\n",
    "Satisfaction : Patient's 10-Star rating on satisfaction\n",
    "\n",
    "Sex : Gender of the patient\n",
    "\n",
    "Sides : Side effects of the drug\n",
    "\n",
    "UsefulCount : Number of users who found the review useful"
   ]
  },
  {
   "cell_type": "code",
   "execution_count": 5,
   "id": "00d2603b",
   "metadata": {},
   "outputs": [
    {
     "data": {
      "text/plain": [
       "(362806, 12)"
      ]
     },
     "execution_count": 5,
     "metadata": {},
     "output_type": "execute_result"
    }
   ],
   "source": [
    "# Check the no of rows and columns\n",
    "data.shape"
   ]
  },
  {
   "cell_type": "code",
   "execution_count": 6,
   "id": "5cdea644",
   "metadata": {},
   "outputs": [
    {
     "data": {
      "text/html": [
       "<div>\n",
       "<style scoped>\n",
       "    .dataframe tbody tr th:only-of-type {\n",
       "        vertical-align: middle;\n",
       "    }\n",
       "\n",
       "    .dataframe tbody tr th {\n",
       "        vertical-align: top;\n",
       "    }\n",
       "\n",
       "    .dataframe thead th {\n",
       "        text-align: right;\n",
       "    }\n",
       "</style>\n",
       "<table border=\"1\" class=\"dataframe\">\n",
       "  <thead>\n",
       "    <tr style=\"text-align: right;\">\n",
       "      <th></th>\n",
       "      <th>DrugId</th>\n",
       "      <th>EaseofUse</th>\n",
       "      <th>Effectiveness</th>\n",
       "      <th>Satisfaction</th>\n",
       "      <th>UsefulCount</th>\n",
       "    </tr>\n",
       "  </thead>\n",
       "  <tbody>\n",
       "    <tr>\n",
       "      <th>count</th>\n",
       "      <td>362806.000000</td>\n",
       "      <td>362806.000000</td>\n",
       "      <td>362806.000000</td>\n",
       "      <td>362806.000000</td>\n",
       "      <td>362806.000000</td>\n",
       "    </tr>\n",
       "    <tr>\n",
       "      <th>mean</th>\n",
       "      <td>36879.370774</td>\n",
       "      <td>4.019829</td>\n",
       "      <td>3.532061</td>\n",
       "      <td>3.135408</td>\n",
       "      <td>6.744916</td>\n",
       "    </tr>\n",
       "    <tr>\n",
       "      <th>std</th>\n",
       "      <td>52624.412971</td>\n",
       "      <td>1.317711</td>\n",
       "      <td>1.455961</td>\n",
       "      <td>1.611106</td>\n",
       "      <td>9.324240</td>\n",
       "    </tr>\n",
       "    <tr>\n",
       "      <th>min</th>\n",
       "      <td>1.000000</td>\n",
       "      <td>1.000000</td>\n",
       "      <td>1.000000</td>\n",
       "      <td>1.000000</td>\n",
       "      <td>0.000000</td>\n",
       "    </tr>\n",
       "    <tr>\n",
       "      <th>25%</th>\n",
       "      <td>4896.000000</td>\n",
       "      <td>3.000000</td>\n",
       "      <td>3.000000</td>\n",
       "      <td>1.000000</td>\n",
       "      <td>1.000000</td>\n",
       "    </tr>\n",
       "    <tr>\n",
       "      <th>50%</th>\n",
       "      <td>9548.000000</td>\n",
       "      <td>5.000000</td>\n",
       "      <td>4.000000</td>\n",
       "      <td>3.000000</td>\n",
       "      <td>4.000000</td>\n",
       "    </tr>\n",
       "    <tr>\n",
       "      <th>75%</th>\n",
       "      <td>63522.000000</td>\n",
       "      <td>5.000000</td>\n",
       "      <td>5.000000</td>\n",
       "      <td>5.000000</td>\n",
       "      <td>9.000000</td>\n",
       "    </tr>\n",
       "    <tr>\n",
       "      <th>max</th>\n",
       "      <td>178546.000000</td>\n",
       "      <td>10.000000</td>\n",
       "      <td>10.000000</td>\n",
       "      <td>10.000000</td>\n",
       "      <td>255.000000</td>\n",
       "    </tr>\n",
       "  </tbody>\n",
       "</table>\n",
       "</div>"
      ],
      "text/plain": [
       "              DrugId      EaseofUse  Effectiveness   Satisfaction  \\\n",
       "count  362806.000000  362806.000000  362806.000000  362806.000000   \n",
       "mean    36879.370774       4.019829       3.532061       3.135408   \n",
       "std     52624.412971       1.317711       1.455961       1.611106   \n",
       "min         1.000000       1.000000       1.000000       1.000000   \n",
       "25%      4896.000000       3.000000       3.000000       1.000000   \n",
       "50%      9548.000000       5.000000       4.000000       3.000000   \n",
       "75%     63522.000000       5.000000       5.000000       5.000000   \n",
       "max    178546.000000      10.000000      10.000000      10.000000   \n",
       "\n",
       "         UsefulCount  \n",
       "count  362806.000000  \n",
       "mean        6.744916  \n",
       "std         9.324240  \n",
       "min         0.000000  \n",
       "25%         1.000000  \n",
       "50%         4.000000  \n",
       "75%         9.000000  \n",
       "max       255.000000  "
      ]
     },
     "execution_count": 6,
     "metadata": {},
     "output_type": "execute_result"
    }
   ],
   "source": [
    "#statistical summary of the dataset\n",
    "data.describe()"
   ]
  },
  {
   "cell_type": "code",
   "execution_count": 7,
   "id": "a228a93b",
   "metadata": {},
   "outputs": [
    {
     "name": "stdout",
     "output_type": "stream",
     "text": [
      "<class 'pandas.core.frame.DataFrame'>\n",
      "RangeIndex: 362806 entries, 0 to 362805\n",
      "Data columns (total 12 columns):\n",
      " #   Column         Non-Null Count   Dtype \n",
      "---  ------         --------------   ----- \n",
      " 0   Age            362806 non-null  object\n",
      " 1   Condition      362806 non-null  object\n",
      " 2   Date           362806 non-null  object\n",
      " 3   Drug           362806 non-null  object\n",
      " 4   DrugId         362806 non-null  int64 \n",
      " 5   EaseofUse      362806 non-null  int64 \n",
      " 6   Effectiveness  362806 non-null  int64 \n",
      " 7   Reviews        362769 non-null  object\n",
      " 8   Satisfaction   362806 non-null  int64 \n",
      " 9   Sex            362806 non-null  object\n",
      " 10  Sides          362806 non-null  object\n",
      " 11  UsefulCount    362806 non-null  int64 \n",
      "dtypes: int64(5), object(7)\n",
      "memory usage: 33.2+ MB\n"
     ]
    }
   ],
   "source": [
    "#overview of the dataset\n",
    "data.info()"
   ]
  },
  {
   "cell_type": "code",
   "execution_count": 8,
   "id": "04d64d9d",
   "metadata": {},
   "outputs": [
    {
     "data": {
      "text/plain": [
       "Index(['Age', 'Condition', 'Date', 'Drug', 'DrugId', 'EaseofUse',\n",
       "       'Effectiveness', 'Reviews', 'Satisfaction', 'Sex', 'Sides',\n",
       "       'UsefulCount'],\n",
       "      dtype='object')"
      ]
     },
     "execution_count": 8,
     "metadata": {},
     "output_type": "execute_result"
    }
   ],
   "source": [
    "#check the column names\n",
    "data.columns"
   ]
  },
  {
   "cell_type": "markdown",
   "id": "b52010d0",
   "metadata": {},
   "source": [
    "## Let us examine numerical features in the dataset "
   ]
  },
  {
   "cell_type": "code",
   "execution_count": 9,
   "id": "e1fa9447",
   "metadata": {},
   "outputs": [
    {
     "data": {
      "text/plain": [
       "Index(['DrugId', 'EaseofUse', 'Effectiveness', 'Satisfaction', 'UsefulCount'], dtype='object')"
      ]
     },
     "execution_count": 9,
     "metadata": {},
     "output_type": "execute_result"
    }
   ],
   "source": [
    "data_numerical = data.select_dtypes(include=[int])\n",
    "data_numerical.columns"
   ]
  },
  {
   "cell_type": "markdown",
   "id": "38b92f2f",
   "metadata": {},
   "source": [
    "## Let us examine categorical features in the dataset "
   ]
  },
  {
   "cell_type": "code",
   "execution_count": 10,
   "id": "76763226",
   "metadata": {},
   "outputs": [
    {
     "data": {
      "text/plain": [
       "Index(['Age', 'Condition', 'Date', 'Drug', 'Reviews', 'Sex', 'Sides'], dtype='object')"
      ]
     },
     "execution_count": 10,
     "metadata": {},
     "output_type": "execute_result"
    }
   ],
   "source": [
    "data_categorical = data.select_dtypes(include=[object])\n",
    "\n",
    "data_categorical.columns"
   ]
  },
  {
   "cell_type": "markdown",
   "id": "36154a17",
   "metadata": {},
   "source": [
    "### Adding Name & Race column"
   ]
  },
  {
   "cell_type": "code",
   "execution_count": 11,
   "id": "88a4fb2b",
   "metadata": {},
   "outputs": [
    {
     "data": {
      "text/html": [
       "<div>\n",
       "<style scoped>\n",
       "    .dataframe tbody tr th:only-of-type {\n",
       "        vertical-align: middle;\n",
       "    }\n",
       "\n",
       "    .dataframe tbody tr th {\n",
       "        vertical-align: top;\n",
       "    }\n",
       "\n",
       "    .dataframe thead th {\n",
       "        text-align: right;\n",
       "    }\n",
       "</style>\n",
       "<table border=\"1\" class=\"dataframe\">\n",
       "  <thead>\n",
       "    <tr style=\"text-align: right;\">\n",
       "      <th></th>\n",
       "      <th>Name</th>\n",
       "    </tr>\n",
       "  </thead>\n",
       "  <tbody>\n",
       "    <tr>\n",
       "      <th>0</th>\n",
       "      <td>Sung</td>\n",
       "    </tr>\n",
       "    <tr>\n",
       "      <th>1</th>\n",
       "      <td>Marty</td>\n",
       "    </tr>\n",
       "    <tr>\n",
       "      <th>2</th>\n",
       "      <td>Nicolas</td>\n",
       "    </tr>\n",
       "    <tr>\n",
       "      <th>3</th>\n",
       "      <td>Mauro</td>\n",
       "    </tr>\n",
       "    <tr>\n",
       "      <th>4</th>\n",
       "      <td>Johna</td>\n",
       "    </tr>\n",
       "  </tbody>\n",
       "</table>\n",
       "</div>"
      ],
      "text/plain": [
       "      Name\n",
       "0     Sung\n",
       "1    Marty\n",
       "2  Nicolas\n",
       "3    Mauro\n",
       "4    Johna"
      ]
     },
     "execution_count": 11,
     "metadata": {},
     "output_type": "execute_result"
    }
   ],
   "source": [
    "from mimesis import Person\n",
    "\n",
    "# Initialize the Person provider\n",
    "person = Person('en')\n",
    "\n",
    "# Function to create fake names for 'n' rows\n",
    "def fake_names(n):\n",
    "    names = [person.name() for _ in range(n)]\n",
    "    return names\n",
    "\n",
    "# Generate fake names for 362,806 rows\n",
    "names = fake_names(362806)\n",
    "\n",
    "# Create a DataFrame with the generated names\n",
    "data_name = pd.DataFrame(names, columns=['Name'])\n",
    "\n",
    "# Display the first few rows of the DataFrame\n",
    "data_name.head()"
   ]
  },
  {
   "cell_type": "code",
   "execution_count": 12,
   "id": "cb118da4",
   "metadata": {},
   "outputs": [
    {
     "data": {
      "text/html": [
       "<div>\n",
       "<style scoped>\n",
       "    .dataframe tbody tr th:only-of-type {\n",
       "        vertical-align: middle;\n",
       "    }\n",
       "\n",
       "    .dataframe tbody tr th {\n",
       "        vertical-align: top;\n",
       "    }\n",
       "\n",
       "    .dataframe thead th {\n",
       "        text-align: right;\n",
       "    }\n",
       "</style>\n",
       "<table border=\"1\" class=\"dataframe\">\n",
       "  <thead>\n",
       "    <tr style=\"text-align: right;\">\n",
       "      <th></th>\n",
       "      <th>Race</th>\n",
       "    </tr>\n",
       "  </thead>\n",
       "  <tbody>\n",
       "    <tr>\n",
       "      <th>0</th>\n",
       "      <td>Asian</td>\n",
       "    </tr>\n",
       "    <tr>\n",
       "      <th>1</th>\n",
       "      <td>White</td>\n",
       "    </tr>\n",
       "    <tr>\n",
       "      <th>2</th>\n",
       "      <td>Hispanic</td>\n",
       "    </tr>\n",
       "    <tr>\n",
       "      <th>3</th>\n",
       "      <td>Asian</td>\n",
       "    </tr>\n",
       "    <tr>\n",
       "      <th>4</th>\n",
       "      <td>Hispanic</td>\n",
       "    </tr>\n",
       "  </tbody>\n",
       "</table>\n",
       "</div>"
      ],
      "text/plain": [
       "       Race\n",
       "0     Asian\n",
       "1     White\n",
       "2  Hispanic\n",
       "3     Asian\n",
       "4  Hispanic"
      ]
     },
     "execution_count": 12,
     "metadata": {},
     "output_type": "execute_result"
    }
   ],
   "source": [
    "import random\n",
    "\n",
    "# Define the race options and their respective probabilities\n",
    "options = [(\"White\", 0.32), (\"Hispanic\", 0.28), (\"Black\", 0.22), (\"Asian\", 0.18)]\n",
    "\n",
    "# Generate random race values for 362,806 rows\n",
    "words = [random.choices([o[0] for o in options], [o[1] for o in options])[0] for _ in range(362806)]\n",
    "\n",
    "# Create a DataFrame with the generated race values\n",
    "data_race = pd.DataFrame(words, columns=['Race'])\n",
    "\n",
    "# Display the first few rows of the DataFrame\n",
    "data_race.head()"
   ]
  },
  {
   "cell_type": "code",
   "execution_count": 13,
   "id": "75854b97",
   "metadata": {},
   "outputs": [
    {
     "data": {
      "text/html": [
       "<div>\n",
       "<style scoped>\n",
       "    .dataframe tbody tr th:only-of-type {\n",
       "        vertical-align: middle;\n",
       "    }\n",
       "\n",
       "    .dataframe tbody tr th {\n",
       "        vertical-align: top;\n",
       "    }\n",
       "\n",
       "    .dataframe thead th {\n",
       "        text-align: right;\n",
       "    }\n",
       "</style>\n",
       "<table border=\"1\" class=\"dataframe\">\n",
       "  <thead>\n",
       "    <tr style=\"text-align: right;\">\n",
       "      <th></th>\n",
       "      <th>Name</th>\n",
       "      <th>Race</th>\n",
       "      <th>Age</th>\n",
       "      <th>Condition</th>\n",
       "      <th>Date</th>\n",
       "      <th>Drug</th>\n",
       "      <th>DrugId</th>\n",
       "      <th>EaseofUse</th>\n",
       "      <th>Effectiveness</th>\n",
       "      <th>Reviews</th>\n",
       "      <th>Satisfaction</th>\n",
       "      <th>Sex</th>\n",
       "      <th>Sides</th>\n",
       "      <th>UsefulCount</th>\n",
       "    </tr>\n",
       "  </thead>\n",
       "  <tbody>\n",
       "    <tr>\n",
       "      <th>0</th>\n",
       "      <td>Sung</td>\n",
       "      <td>Asian</td>\n",
       "      <td>75 or over</td>\n",
       "      <td>Stuffy Nose</td>\n",
       "      <td>9/21/2014</td>\n",
       "      <td>25dph-7.5peh</td>\n",
       "      <td>146724</td>\n",
       "      <td>5</td>\n",
       "      <td>5</td>\n",
       "      <td>I'm a retired physician and of all the meds I ...</td>\n",
       "      <td>5</td>\n",
       "      <td>Male</td>\n",
       "      <td>Drowsiness,  dizziness ,  dry mouth /nose/thro...</td>\n",
       "      <td>0</td>\n",
       "    </tr>\n",
       "    <tr>\n",
       "      <th>1</th>\n",
       "      <td>Marty</td>\n",
       "      <td>White</td>\n",
       "      <td>25-34</td>\n",
       "      <td>Cold Symptoms</td>\n",
       "      <td>1/13/2011</td>\n",
       "      <td>25dph-7.5peh</td>\n",
       "      <td>146724</td>\n",
       "      <td>5</td>\n",
       "      <td>5</td>\n",
       "      <td>cleared me right up even with my throat hurtin...</td>\n",
       "      <td>5</td>\n",
       "      <td>Female</td>\n",
       "      <td>Drowsiness,  dizziness ,  dry mouth /nose/thro...</td>\n",
       "      <td>1</td>\n",
       "    </tr>\n",
       "    <tr>\n",
       "      <th>2</th>\n",
       "      <td>Nicolas</td>\n",
       "      <td>Hispanic</td>\n",
       "      <td>65-74</td>\n",
       "      <td>Other</td>\n",
       "      <td>7/16/2012</td>\n",
       "      <td>warfarin (bulk) 100 % powder</td>\n",
       "      <td>144731</td>\n",
       "      <td>2</td>\n",
       "      <td>3</td>\n",
       "      <td>why did my PTINR go from a normal of 2.5 to ov...</td>\n",
       "      <td>3</td>\n",
       "      <td>Female</td>\n",
       "      <td></td>\n",
       "      <td>0</td>\n",
       "    </tr>\n",
       "    <tr>\n",
       "      <th>3</th>\n",
       "      <td>Mauro</td>\n",
       "      <td>Asian</td>\n",
       "      <td>75 or over</td>\n",
       "      <td>Other</td>\n",
       "      <td>9/23/2010</td>\n",
       "      <td>warfarin (bulk) 100 % powder</td>\n",
       "      <td>144731</td>\n",
       "      <td>2</td>\n",
       "      <td>2</td>\n",
       "      <td>FALLING AND DON'T REALISE IT</td>\n",
       "      <td>1</td>\n",
       "      <td>Female</td>\n",
       "      <td></td>\n",
       "      <td>0</td>\n",
       "    </tr>\n",
       "    <tr>\n",
       "      <th>4</th>\n",
       "      <td>Johna</td>\n",
       "      <td>Hispanic</td>\n",
       "      <td>35-44</td>\n",
       "      <td>Other</td>\n",
       "      <td>1/6/2009</td>\n",
       "      <td>warfarin (bulk) 100 % powder</td>\n",
       "      <td>144731</td>\n",
       "      <td>1</td>\n",
       "      <td>1</td>\n",
       "      <td>My grandfather was prescribed this medication ...</td>\n",
       "      <td>1</td>\n",
       "      <td>Male</td>\n",
       "      <td></td>\n",
       "      <td>1</td>\n",
       "    </tr>\n",
       "  </tbody>\n",
       "</table>\n",
       "</div>"
      ],
      "text/plain": [
       "      Name      Race         Age      Condition       Date  \\\n",
       "0     Sung     Asian  75 or over    Stuffy Nose  9/21/2014   \n",
       "1    Marty     White       25-34  Cold Symptoms  1/13/2011   \n",
       "2  Nicolas  Hispanic       65-74          Other  7/16/2012   \n",
       "3    Mauro     Asian  75 or over          Other  9/23/2010   \n",
       "4    Johna  Hispanic       35-44          Other   1/6/2009   \n",
       "\n",
       "                           Drug  DrugId  EaseofUse  Effectiveness  \\\n",
       "0                  25dph-7.5peh  146724          5              5   \n",
       "1                  25dph-7.5peh  146724          5              5   \n",
       "2  warfarin (bulk) 100 % powder  144731          2              3   \n",
       "3  warfarin (bulk) 100 % powder  144731          2              2   \n",
       "4  warfarin (bulk) 100 % powder  144731          1              1   \n",
       "\n",
       "                                             Reviews  Satisfaction     Sex  \\\n",
       "0  I'm a retired physician and of all the meds I ...             5    Male   \n",
       "1  cleared me right up even with my throat hurtin...             5  Female   \n",
       "2  why did my PTINR go from a normal of 2.5 to ov...             3  Female   \n",
       "3                       FALLING AND DON'T REALISE IT             1  Female   \n",
       "4  My grandfather was prescribed this medication ...             1    Male   \n",
       "\n",
       "                                               Sides  UsefulCount  \n",
       "0  Drowsiness,  dizziness ,  dry mouth /nose/thro...            0  \n",
       "1  Drowsiness,  dizziness ,  dry mouth /nose/thro...            1  \n",
       "2                                                               0  \n",
       "3                                                               0  \n",
       "4                                                               1  "
      ]
     },
     "execution_count": 13,
     "metadata": {},
     "output_type": "execute_result"
    }
   ],
   "source": [
    "data1 = pd.concat([data_name, data_race, data], axis=1).reindex(data.index)\n",
    "data1.head()"
   ]
  },
  {
   "cell_type": "markdown",
   "id": "4a2aeb7c",
   "metadata": {},
   "source": [
    "### Missing Value Handling "
   ]
  },
  {
   "cell_type": "code",
   "execution_count": 14,
   "id": "66ff2cd8",
   "metadata": {},
   "outputs": [
    {
     "name": "stdout",
     "output_type": "stream",
     "text": [
      "Name              0\n",
      "Race              0\n",
      "Age               0\n",
      "Condition         0\n",
      "Date              0\n",
      "Drug              0\n",
      "DrugId            0\n",
      "EaseofUse         0\n",
      "Effectiveness     0\n",
      "Reviews          37\n",
      "Satisfaction      0\n",
      "Sex               0\n",
      "Sides             0\n",
      "UsefulCount       0\n",
      "dtype: int64\n"
     ]
    }
   ],
   "source": [
    "# check the null values\n",
    "missing_values = data1.isna().sum()\n",
    "print(missing_values)"
   ]
  },
  {
   "cell_type": "code",
   "execution_count": 15,
   "id": "4ac2be79",
   "metadata": {},
   "outputs": [
    {
     "data": {
      "text/plain": [
       "Name             0\n",
       "Race             0\n",
       "Age              0\n",
       "Condition        0\n",
       "Date             0\n",
       "Drug             0\n",
       "DrugId           0\n",
       "EaseofUse        0\n",
       "Effectiveness    0\n",
       "Reviews          0\n",
       "Satisfaction     0\n",
       "Sex              0\n",
       "Sides            0\n",
       "UsefulCount      0\n",
       "dtype: int64"
      ]
     },
     "execution_count": 15,
     "metadata": {},
     "output_type": "execute_result"
    }
   ],
   "source": [
    "# Nan rows were dropped\n",
    "data1.dropna(axis = 0, inplace = True)\n",
    "data1.isna().sum()"
   ]
  },
  {
   "cell_type": "code",
   "execution_count": 16,
   "id": "d2cce039",
   "metadata": {},
   "outputs": [
    {
     "data": {
      "text/plain": [
       "(362769, 14)"
      ]
     },
     "execution_count": 16,
     "metadata": {},
     "output_type": "execute_result"
    }
   ],
   "source": [
    "data1.shape"
   ]
  },
  {
   "cell_type": "code",
   "execution_count": 17,
   "id": "127eddcc",
   "metadata": {},
   "outputs": [],
   "source": [
    "#Since Reviews is having more than half of the values as unique we can neglect this column.\n",
    "data1.drop(\"Reviews\",axis=1,inplace=True) "
   ]
  },
  {
   "cell_type": "markdown",
   "id": "85a42bc9",
   "metadata": {},
   "source": [
    "### Checking each column values"
   ]
  },
  {
   "cell_type": "code",
   "execution_count": 18,
   "id": "039f4d3a",
   "metadata": {},
   "outputs": [
    {
     "data": {
      "text/plain": [
       "Female    238203\n",
       "Male       98033\n",
       "           26533\n",
       "Name: Sex, dtype: int64"
      ]
     },
     "execution_count": 18,
     "metadata": {},
     "output_type": "execute_result"
    }
   ],
   "source": [
    "data1['Sex'].value_counts()"
   ]
  },
  {
   "cell_type": "code",
   "execution_count": 19,
   "id": "f2ce7ac3",
   "metadata": {},
   "outputs": [
    {
     "data": {
      "text/plain": [
       "45-54         80032\n",
       "55-64         75129\n",
       "35-44         55010\n",
       "25-34         49705\n",
       "65-74         41215\n",
       "19-24         24230\n",
       "75 or over    15225\n",
       "              12199\n",
       "13-18          7045\n",
       "7-12           1644\n",
       "3-6             838\n",
       "0-2             497\n",
       "Name: Age, dtype: int64"
      ]
     },
     "execution_count": 19,
     "metadata": {},
     "output_type": "execute_result"
    }
   ],
   "source": [
    "data1['Age'].value_counts()"
   ]
  },
  {
   "cell_type": "code",
   "execution_count": 20,
   "id": "c4b0884c",
   "metadata": {},
   "outputs": [
    {
     "data": {
      "text/plain": [
       "['25dph-7.5peh',\n",
       " 'warfarin (bulk) 100 % powder',\n",
       " 'wymzya fe',\n",
       " '12 hour nasal relief spray, non-aerosol',\n",
       " 'pyrogallol crystals',\n",
       " 'lyza',\n",
       " 'lysiplex plus liquid',\n",
       " 'lysteda',\n",
       " 'pyrithione zinc shampoo',\n",
       " 'lysine acetate 4,000 mg oral powder packet',\n",
       " 'lynparza tablet',\n",
       " 'lynparza',\n",
       " 'lymphazurin vial',\n",
       " 'lyrica',\n",
       " 'lysodren',\n",
       " 'lydia pinkham herbal',\n",
       " 'pyrithione zinc bar',\n",
       " 'lycopene',\n",
       " 'pyrilamine-chlophedianol liquid',\n",
       " 'pyrilamine maleate powder',\n",
       " 'pyridoxine hcl',\n",
       " 'pyridostigmine bromide solution',\n",
       " 'pyridostigmine bromide',\n",
       " 'pyridostigmine bromide (bulk) 100 % powder',\n",
       " 'pyrethrins-piperonyl butoxide shampoo',\n",
       " 'pyrantel pamoate suspension',\n",
       " 'pyrazinamide',\n",
       " 'pyridium',\n",
       " 'pylera',\n",
       " 'luxiq foam',\n",
       " 'luxamend cream',\n",
       " 'lmx 5 cream',\n",
       " 'lmx 4 cream',\n",
       " 'loestrin',\n",
       " 'lo-zumandimine (28) 3 mg-0.02 mg tablet contraceptives',\n",
       " 'loxapine',\n",
       " 'low-ogestrel',\n",
       " 'low dose aspirin ec',\n",
       " 'lovenox syringe',\n",
       " 'lovaza',\n",
       " 'lovastatin tablet, extended release 24 hr',\n",
       " 'lovastatin',\n",
       " 'loutrex cream',\n",
       " 'lotrimin ultra cream',\n",
       " 'lotrimin af 2 % topical powder',\n",
       " 'lotronex',\n",
       " 'lotrimin af jock itch powder 2 % topical spray',\n",
       " 'lotrimin af powder 2 % topical spray',\n",
       " 'lotrisone cream',\n",
       " 'lotrel',\n",
       " 'loteprednol etabonate ointment',\n",
       " 'loteprednol etabonate drops, suspension',\n",
       " 'loteprednol etabonate drops, gel',\n",
       " 'lotensin hct',\n",
       " 'lotensin',\n",
       " 'lotemax ointment',\n",
       " 'lotemax drops, gel',\n",
       " 'lorzone',\n",
       " 'losartan potassium',\n",
       " 'losartan-hydrochlorothiazide',\n",
       " 'loseasonique',\n",
       " 'loryna',\n",
       " 'lortab',\n",
       " 'lorcet',\n",
       " 'lorcaserin tablet',\n",
       " 'lorazepam vial',\n",
       " 'lorazepam-d5w plastic bag, injection',\n",
       " 'lorcet plus',\n",
       " 'lorazepam concentrate',\n",
       " 'lorazepam (bulk) 100 % powder',\n",
       " 'lorcaserin tablet, extended release 24 hr',\n",
       " 'loratadine-d',\n",
       " 'lorcet hd',\n",
       " 'lorazepam intensol',\n",
       " 'loratadine-pseudoephed',\n",
       " 'loratadine tablet,disintegrating',\n",
       " 'lorazepam-0.9% nacl plastic bag, injection',\n",
       " 'lorazepam',\n",
       " 'loratadine (bulk) 100 % powder',\n",
       " 'loratadine d',\n",
       " 'loratadine',\n",
       " 'lorata-d',\n",
       " 'loradamed',\n",
       " 'lopreeza',\n",
       " 'lopressor hct',\n",
       " 'lopressor ampul',\n",
       " 'loprox suspension, topical',\n",
       " 'loprox cream',\n",
       " 'lopressor',\n",
       " 'lopid',\n",
       " 'loperamide (bulk) powder',\n",
       " 'loperamide liquid',\n",
       " 'loperamide',\n",
       " 'loperamide-simethicone tablet',\n",
       " 'lonsurf',\n",
       " 'lomotil',\n",
       " 'lomustine capsule',\n",
       " 'long lasting vaginal gel with prefilled applicator',\n",
       " 'lonhala magnair starter 25 mcg/ml solution for nebulization',\n",
       " 'lomedia 24 fe',\n",
       " 'lomaira',\n",
       " 'lokelma 10 gram oral powder packet',\n",
       " 'lofibra',\n",
       " 'lohist-d',\n",
       " 'loestrin tablet',\n",
       " 'loestrin fe tablet',\n",
       " 'loestrin fe',\n",
       " 'lodrane d',\n",
       " 'lodosyn',\n",
       " 'lodine',\n",
       " 'locoid cream',\n",
       " 'locoid lipocream cream',\n",
       " 'luzu cream',\n",
       " 'lo loestrin fe',\n",
       " 'livalo',\n",
       " 'little remedies spray, non-aerosol',\n",
       " 'little tummys gas relief 40 mg/0.6 ml oral drops,suspension simethicone',\n",
       " 'lithostat',\n",
       " 'lithobid',\n",
       " 'lithium carbonate (bulk) 99 % powder',\n",
       " 'lithium carbonate',\n",
       " 'lister-v',\n",
       " 'lithium',\n",
       " 'lithium aspartate capsule',\n",
       " 'lithate',\n",
       " 'lisinopril-hydrochlorothiazide',\n",
       " 'lisinopril solution',\n",
       " 'lisinopril (bulk) 100 % powder',\n",
       " 'lithium carbonate er',\n",
       " 'lisdexamfetamine capsule',\n",
       " 'liraglutide pen injector',\n",
       " 'lisinopril',\n",
       " 'liquimat lotion',\n",
       " 'liquitears drops',\n",
       " 'liquid calcium + vitamin d',\n",
       " 'liquid corn and callus remover 17 % topical',\n",
       " 'liquid bandage solution, non-',\n",
       " 'liquid antacid',\n",
       " 'liquid b12',\n",
       " 'liquibid d-r',\n",
       " 'liquibid pd-r',\n",
       " 'liquacel',\n",
       " 'lipo-flavonoid plus',\n",
       " 'lipofen',\n",
       " 'lipochol plus',\n",
       " 'lipobase cream',\n",
       " 'lipodox vial',\n",
       " 'lipitor',\n",
       " 'lipase-protease-amylase tablet',\n",
       " 'liothyronine sodium vial',\n",
       " 'liothyronine sodium',\n",
       " 'linzess',\n",
       " 'liothyronine (bulk) 100 % powder',\n",
       " 'liotrix tablet',\n",
       " 'lipochol',\n",
       " 'lioresal intrathecal ampul',\n",
       " 'linezolid tablet',\n",
       " 'linezolid',\n",
       " 'lincocin vial',\n",
       " 'lincomycin hcl vial',\n",
       " 'lindane shampoo',\n",
       " 'linagliptin-metformin tablet, immediate release and extended release, biphasic 24hr (tablet,immed & ext release,biphasic 24hr)',\n",
       " 'linagliptin-metformin tablet',\n",
       " 'linaclotide capsule',\n",
       " 'linagliptin tablet',\n",
       " 'limbrel250',\n",
       " 'liletta 19.5 mcg/24 hrs (5 yrs) 52 mg intrauterine device contraceptives',\n",
       " 'limbrel',\n",
       " 'lillow',\n",
       " 'limbrel500',\n",
       " 'lidozenpatch adhesive patch, medicated',\n",
       " 'lidopro ointment',\n",
       " 'lidorx gel with pump',\n",
       " 'lidoderm adhesive patch, medicated',\n",
       " 'lidocaine-prilocaine cream',\n",
       " 'lidocaine-hydrocortisone cream with applicator',\n",
       " 'lidocaine-epinephrine (pf) solution',\n",
       " 'lidocaine ointment topical local anesthetics',\n",
       " 'lidocaine with 8.4% sod bicarb syringe',\n",
       " 'lidocaine hcl vial',\n",
       " 'lidocaine hcl syringe',\n",
       " 'lidocaine hcl viscous solution',\n",
       " 'lidocaine hcl jelly',\n",
       " 'lidocaine hcl in 7.5% dextrose ampul',\n",
       " 'lidocaine hcl pen injector',\n",
       " 'lidocaine hcl solution, non-',\n",
       " 'lidocaine hcl cream',\n",
       " 'lidocaine cream topical local anesthetics',\n",
       " 'lidocaine hcl ampul',\n",
       " 'lidocaine hcl (bulk) 100 % powder',\n",
       " 'lidocaine adhesive patch, medicated topical local anesthetics',\n",
       " 'lidocaine 2 % mucosal solution',\n",
       " 'lidocaine (pf) gel',\n",
       " 'lidocaine (bulk) powder',\n",
       " 'lice treatment shampoo scabicides & pediculocides',\n",
       " 'lice treatment topical liquid',\n",
       " 'lice treatment liquid',\n",
       " 'lice treatment liquid scabicides & pediculocides',\n",
       " 'lialda',\n",
       " 'librax',\n",
       " 'lutera',\n",
       " 'lutein-zeaxanthin',\n",
       " 'lurasidone tablet',\n",
       " 'lupron depot-ped syringe kit',\n",
       " 'lupron depot syringe kit lhrh(gnrh) agonist analog pituitary suppressants',\n",
       " 'lupron depot (6 month) 45 mg intramuscular syringe kit',\n",
       " 'lupron depot-ped kit',\n",
       " 'lupron depot syringe kit',\n",
       " 'lupron depot 3.75 mg intramuscular syringe kit',\n",
       " 'lupron depot (3 month) 22.5 mg intramuscular syringe kit',\n",
       " 'lupron depot 7.5 mg intramuscular syringe kit',\n",
       " 'lupaneta pack kit, syringe and tablet',\n",
       " 'lupaneta pack (3 month) 11.25 mg im syringe and 5 (90) tablets,kit',\n",
       " 'lunesta',\n",
       " 'lumizyme vial',\n",
       " 'lumigan drops',\n",
       " 'lumify drops',\n",
       " 'luliconazole cream',\n",
       " \"lugol's\",\n",
       " 'lubrifresh pm ointment',\n",
       " 'lucentis vial',\n",
       " 'lucemyra',\n",
       " 'lubrin insert',\n",
       " 'sween cream',\n",
       " 'lubricant eye drops 0.5 %',\n",
       " 'lubiprostone capsule',\n",
       " 'water vial',\n",
       " 'laxative pills tablet',\n",
       " 'laxative peg 3350 17 gram/dose oral powder',\n",
       " 'laxative pills',\n",
       " 'layolis fe',\n",
       " 'laxative maximum strength',\n",
       " 'laxative dietary supplement',\n",
       " 'lazanda aerosol, spray with pump',\n",
       " 'lavender oil',\n",
       " 'lax stool softener with senna',\n",
       " 'laxa clear 17 gram/dose oral powder',\n",
       " 'latuda',\n",
       " 'latisse drops, with applicator',\n",
       " 'latanoprost drops',\n",
       " 'larissia',\n",
       " 'lasix',\n",
       " 'larin',\n",
       " 'lastacaft drops',\n",
       " 'larin fe',\n",
       " 'larin tablet',\n",
       " 'larin fe tablet',\n",
       " 'lapatinib tablet',\n",
       " 'lantiseptic skin protectant 50 % cream',\n",
       " 'lantus vial',\n",
       " 'lantus solostar insulin pen',\n",
       " 'lanthanum tablet, chewable',\n",
       " 'lansoprazol-amoxicil-clarithro',\n",
       " 'lansoprazole tablet,disintegrating,delayed release',\n",
       " 'lanthanum 1,000 mg oral powder packet',\n",
       " 'lansoprazole (bulk) 100 % powder',\n",
       " 'lansoprazole',\n",
       " 'lanoxin',\n",
       " 'lanolin cream',\n",
       " 'lamotrigine tablet',\n",
       " 'lamotrigine odt',\n",
       " 'lamotrigine er',\n",
       " 'lubricant eye (pg-peg 400) 0.4 %-0.3 % drops',\n",
       " 'lamisil at gel',\n",
       " 'lamotrigine (bulk) 100 % powder',\n",
       " 'lamotrigine',\n",
       " 'lamisil spray, non-aerosol',\n",
       " 'lamivudine solution',\n",
       " 'lamivudine',\n",
       " 'lamisil tablet',\n",
       " 'lamivudine tablet',\n",
       " 'lamictal xr (green)',\n",
       " 'lamisil at cream',\n",
       " 'lamictal xr (orange)',\n",
       " 'lamictal xr (blue)',\n",
       " 'lamictal xr',\n",
       " 'lamictal odt (green)',\n",
       " 'lamictal tablet',\n",
       " 'lamictal odt (orange)',\n",
       " 'lamictal odt (blue)',\n",
       " 'lamictal (orange)',\n",
       " 'lamictal (blue)',\n",
       " 'lamictal odt',\n",
       " 'lamictal (green)',\n",
       " 'lactulose solution, laxatives',\n",
       " 'lamictal',\n",
       " 'lactulose',\n",
       " 'lactose fast acting',\n",
       " 'lactobacillus reuteri drops, suspension',\n",
       " 'lactobacillus rhamnosus gg capsule, sprinkle',\n",
       " 'lactobacillus acidoph-pectin tablet, chewable',\n",
       " 'lactobacillus acidophilus 100 million cell capsule',\n",
       " 'lactobac-bifidobac-glob pr con capsule',\n",
       " 'lacto.acidophilus-bif.animalis capsule, sprinkle',\n",
       " 'lactinol hx cream',\n",
       " 'lexiva',\n",
       " 'lexiscan syringe',\n",
       " 'levulan solution with applicator',\n",
       " 'levsin-sl tablet, sublingual',\n",
       " 'levothyroxine 500 mcg intravenous powder for solution thyroid hormones',\n",
       " 'levsin',\n",
       " 'levothyroxine (bulk) 100 % powder',\n",
       " 'levothyroxine sodium',\n",
       " 'lexapro',\n",
       " 'levoxyl',\n",
       " 'levothyroxine solution',\n",
       " 'lactinex tablet, chewable',\n",
       " 'levorphanol tartrate (bulk) 100 % powder',\n",
       " 'levorphanol tartrate',\n",
       " 'lactinex',\n",
       " 'levora-28 tablet',\n",
       " 'lactic acid cream',\n",
       " 'lactated ringers solution, intravenous',\n",
       " 'lactic acid lotion',\n",
       " 'lactase enzyme',\n",
       " 'lactaid fast act',\n",
       " 'lactaid',\n",
       " 'lacosamide solution',\n",
       " 'lacrisert insert',\n",
       " 'lactase',\n",
       " 'labetalol hcl syringe',\n",
       " 'lacosamide tablet',\n",
       " 'lac-hydrin five lotion',\n",
       " 'lac-dose',\n",
       " 'labetalol (bulk) powder',\n",
       " 'l-tyrosine',\n",
       " 'labetalol hcl',\n",
       " 'l-tryptophan',\n",
       " 'l-proline crystals',\n",
       " 'l-methyl-mc',\n",
       " 'l-phenylalanine',\n",
       " 'l-methyl-mc nac',\n",
       " 'levophed bitartrate ampul',\n",
       " 'levonorgestrel-eth estradiol tablet, dose pack, 3 months contraceptives',\n",
       " 'levora-28',\n",
       " 'levonorgestrel-eth estradiol',\n",
       " 'levonorgestrel intrauterine device',\n",
       " 'levonorgestrel tablet contraceptives',\n",
       " 'levonorgestrel-eth estradiol tablet',\n",
       " 'levonorgestrel 14 mcg/24 hour (3 years) intrauterine device',\n",
       " 'levonorgestrel-eth estradiol tablet contraceptives',\n",
       " 'levonorg-eth estrad eth',\n",
       " 'levomilnacipran capsule, extended release 24 hr (capsule, er hr)',\n",
       " 'levonest',\n",
       " 'levomefolate-b2-b6-b12 tablet',\n",
       " 'levofloxacin-d5w solution, intravenous piggyback',\n",
       " 'levoleucovorin calcium vial',\n",
       " 'levofloxacin vial',\n",
       " 'levofloxacin solution',\n",
       " 'levocetirizine dihydrochloride',\n",
       " 'l-methylfolate calcium',\n",
       " 'levofloxacin (bulk) 100 % powder',\n",
       " 'l-methylfolate',\n",
       " 'levofloxacin',\n",
       " 'l-methylfolate ca p-5-p me-cbl',\n",
       " 'l-lysine tablet',\n",
       " 'l-methyl-b6-b12',\n",
       " 'l-lysine ointment',\n",
       " 'l-glutamine powder',\n",
       " 'l-lysine',\n",
       " 'l-glutamine',\n",
       " 'l-cysteine',\n",
       " 'l-carnitine',\n",
       " 'l-arginine',\n",
       " 'levocarnitine tartrate 250 mg capsule not applicable',\n",
       " 'levitra',\n",
       " 'levmetamfetamine inhaler',\n",
       " 'levobunolol hcl drops',\n",
       " 'levetiracetam tablet for suspension',\n",
       " 'levetiracetam vial',\n",
       " 'levemir vial',\n",
       " 'levetiracetam',\n",
       " 'levbid',\n",
       " 'levemir flextouch insulin pen',\n",
       " 'levalbuterol concentrate vial for nebulizer',\n",
       " 'levalbuterol hcl vial for nebulizer',\n",
       " 'levalbuterol tartrate hfa aerosol with adapter',\n",
       " 'leuprolide syringe kit',\n",
       " 'levetiracetam (bulk) 100 % powder',\n",
       " 'levaquin',\n",
       " 'leuprolide acetate vial',\n",
       " 'leuprolide kit',\n",
       " 'leuprolide (3 month) syringe kit',\n",
       " 'leukine vial',\n",
       " 'leukeran',\n",
       " 'leuprolide 7.5 mg (1 month) subcutaneous syringe',\n",
       " 'leucovorin calcium vial',\n",
       " 'leucovorin calcium (bulk) powder',\n",
       " 'leuprolide (6 month) syringe kit',\n",
       " 'letrozole',\n",
       " 'leucovorin calcium',\n",
       " 'letairis',\n",
       " 'lessina',\n",
       " 'lescol xl',\n",
       " 'lenvima',\n",
       " 'lescol',\n",
       " 'lenvatinib capsule',\n",
       " 'lenalidomide capsule',\n",
       " 'lemtrada vial',\n",
       " 'leflunomide',\n",
       " 'leena',\n",
       " 'ledipasvir-sofosbuvir',\n",
       " 'lecithin capsule',\n",
       " 'water liquid',\n",
       " 'wart remover gel keratolytics (callus, corn and removers)',\n",
       " 'wal-zyr d',\n",
       " 'warfarin sodium',\n",
       " 'wal-tussin liquid',\n",
       " 'wal-zan 150',\n",
       " 'wal-zyr',\n",
       " 'wal-tussin cough',\n",
       " 'wal-sleep z',\n",
       " 'wal-phed tablet oral decongestants',\n",
       " 'wal-profen',\n",
       " 'wal-som capsule',\n",
       " 'wal-phed tablet',\n",
       " 'wal-phed pe sinus-allergy',\n",
       " 'wal-phed pe',\n",
       " 'wal-phed',\n",
       " 'wal-mucil plus calcium',\n",
       " 'wal-itin tablet,disintegrating',\n",
       " 'wal-itin',\n",
       " 'wal-mucil',\n",
       " 'wal-itin d',\n",
       " 'wal-flu night severe cold',\n",
       " 'wal-four spray, non-aerosol',\n",
       " 'wal-finate',\n",
       " 'wal-finate-d',\n",
       " 'wal-fex d 24 hour',\n",
       " 'wal-fex allergy',\n",
       " 'wal-fex allergy tablet antihistamines',\n",
       " 'wal-dryl cream',\n",
       " 'wal-dryl allergy',\n",
       " 'wakix 17.8 mg tablet narcolepsy therapy - h3-receptor antagonist/inverse agonist',\n",
       " 'wal-act d cold & allergy',\n",
       " 'wal-dram',\n",
       " '40pse-400gfn-20dm',\n",
       " '20dm-4cpm',\n",
       " '60pse-400gfn',\n",
       " '4 way spray, non-aerosol',\n",
       " 'azurette',\n",
       " '15dm-100gfn-5peh',\n",
       " 'azulfidine tablet, delayed release (enteric coated)',\n",
       " 'azulfidine',\n",
       " '8 hour pain relief',\n",
       " 'aztreonam vial',\n",
       " 'azopt suspension, drops (final dose form)',\n",
       " 'azor',\n",
       " '5-hydroxy-l-tryptophan powder',\n",
       " 'azo bladder control',\n",
       " 'azithromycin vial with threaded port',\n",
       " 'azithromycin tablet macrolide antibiotics',\n",
       " '7-keto dhea powder',\n",
       " '12 hour decongestant',\n",
       " 'azithromycin drops',\n",
       " '7-oxodehydroepiandrosterone (bulk) powder',\n",
       " '5-hydroxytryptophan (5-htp) capsule',\n",
       " 'azithromycin tablet',\n",
       " 'azithromycin packet macrolide antibiotics',\n",
       " 'azilsartan medoxomil tablet',\n",
       " 'azilsartan med-chlorthalidone tablet',\n",
       " 'azithromycin',\n",
       " 'azilect',\n",
       " 'azithromycin (bulk) 100 % powder',\n",
       " 'azelex cream',\n",
       " 'azelaic acid gel',\n",
       " 'azelastine hcl aerosol, spray with pump',\n",
       " 'azelastine hcl drops',\n",
       " 'azelaic acid foam',\n",
       " 'azelastine-fluticasone spray, non-aerosol',\n",
       " 'azasite drops',\n",
       " 'azathioprine (bulk) powder',\n",
       " 'azelaic acid cream',\n",
       " 'azactam vial',\n",
       " 'azasan',\n",
       " 'azathioprine sodium vial',\n",
       " 'azathioprine',\n",
       " 'azactam-iso-osmotic dextrose solution, piggyback premix frozen',\n",
       " 'azacitidine vial',\n",
       " 'nystop 100,000 unit/gram topical powder',\n",
       " 'nytol quickcaps',\n",
       " 'nystatin-triamcinolone cream',\n",
       " 'nystatin suspension, (final dose form)',\n",
       " 'nystatin 100,000 unit/gram topical powder',\n",
       " 'nystatin cream',\n",
       " 'nplate vial',\n",
       " 'noxafil tablet, delayed release (enteric coated)',\n",
       " 'novolog mix 70-30 flexpen insulin pen',\n",
       " 'noxafil',\n",
       " 'novolog mix 70-30 vial',\n",
       " 'novolog vial',\n",
       " 'novolog flexpen insulin pen',\n",
       " 'novolog cartridge',\n",
       " 'novolin r vial',\n",
       " 'novolin 70-30 vial',\n",
       " 'novolin n vial',\n",
       " 'novarel vial',\n",
       " 'novaferrum drops',\n",
       " 'nourianz 40 mg tablet antiparkinson adjuvant - adenosine receptor antagonist',\n",
       " 'norwegian cod liver oil',\n",
       " 'norvir',\n",
       " 'norvasc',\n",
       " 'norvir 100 mg oral powder packet',\n",
       " 'nortriptyline hcl',\n",
       " 'nortrel 1/35 (28) 1 mg-35 mcg tablet',\n",
       " 'norpace',\n",
       " 'nortrel 1/35 (21) 1 mg-35 mcg tablet',\n",
       " 'northera',\n",
       " 'norpace cr',\n",
       " 'norpramin',\n",
       " 'nortrel tablet',\n",
       " 'norvir capsule',\n",
       " 'nortriptyline (bulk) powder',\n",
       " 'nortrel',\n",
       " 'norethin-eth estra-ferrous fum tablet contraceptives',\n",
       " 'noritate cream',\n",
       " 'norinyl 1+35',\n",
       " 'norgestimate-ethinyl estradiol',\n",
       " 'normal saline flush injection syringe',\n",
       " 'norgesic forte 50 mg-770 mg-60 mg tablet antiplatelet drugs-excluding asa 325 and below',\n",
       " 'norethin-eth estra-ferrous fum tablet',\n",
       " 'norforms suppository, vaginal',\n",
       " 'norgestrel-ethiny estra',\n",
       " 'norethindron-ethinyl estradiol tablet contraceptives',\n",
       " 'norethindron-ethinyl estradiol',\n",
       " 'norethindrone ac (lupaneta)',\n",
       " 'norethindrone acetate (bulk) powder',\n",
       " 'norepinephrine bitartrate vial',\n",
       " 'norethindrone-ethin estradiol tablet',\n",
       " 'norethindrone-e.estradiol-iron tablet',\n",
       " 'norethindrone',\n",
       " 'norditropin flexpro pen injector',\n",
       " 'norel ad',\n",
       " 'norco',\n",
       " 'nora-be',\n",
       " 'non-drying sinus pe',\n",
       " 'non-drowsy allergy',\n",
       " 'non-aspirin pain relief',\n",
       " 'non-aspirin extra strength',\n",
       " 'nomlands lotion',\n",
       " 'nohist-dm',\n",
       " 'noctiva 0.83 mcg/spray (0.1 ml) nasal spray',\n",
       " 'no flush niacin',\n",
       " 'nodolor',\n",
       " 'no doz',\n",
       " 'np thyroid',\n",
       " 'nuvaring ring, vaginal',\n",
       " 'nts patch, transdermal 24 hours',\n",
       " 'nuvail nail film solution',\n",
       " 'nuvigil',\n",
       " 'nutricap',\n",
       " 'nutren pulmonary',\n",
       " 'nuplazid',\n",
       " 'nuox gel',\n",
       " 'numoisyn liquid',\n",
       " 'nulojix vial',\n",
       " 'nulytely with flavor packs',\n",
       " 'nullo',\n",
       " 'nulev',\n",
       " 'nu-iron 150',\n",
       " 'nuedexta',\n",
       " 'nu-derm cream',\n",
       " 'nu-derm sunfader cream',\n",
       " 'nucynta',\n",
       " 'nucynta er',\n",
       " 'neo-synalar cream',\n",
       " 'neo-synalar 0.5 % (0.35 base)-0.025 topical cream',\n",
       " 'nadolol',\n",
       " 'neurontin',\n",
       " 'ozurdex implant',\n",
       " 'neurin-sl tablet, sublingual',\n",
       " 'oxyzal wet dressing solution, non-',\n",
       " 'oxytocin-d5w plastic bag, injection',\n",
       " 'oxytrol for women patch,transdermal 4 day',\n",
       " 'oxytrol patch, transdermal semiweekly',\n",
       " 'oxytocin-0.9% nacl plastic bag, injection',\n",
       " 'oxymorphone hcl er',\n",
       " 'oxytocin (bulk) powder',\n",
       " 'oxytocin vial',\n",
       " 'oxymetholone tablet',\n",
       " 'oxymorphone hcl',\n",
       " 'oxymetazoline hcl spray, non-aerosol',\n",
       " 'oxycodone myristate capsule sprinkle, extended release 12 hour (tamper resistant) (capsule sprinkle,er hr(tamper resist))',\n",
       " 'oxycodone hcl-aspirin',\n",
       " 'oxycodone tablet, oral only',\n",
       " 'oxycodone hcl-ibuprofen',\n",
       " 'oxycontin',\n",
       " 'oxycodone hcl solution',\n",
       " 'oxycodone-acetaminophen',\n",
       " 'oxybutynin patch, transdermal semiweekly',\n",
       " 'oxycodone (bulk) 100 % powder',\n",
       " 'oxybutynin chloride gel in packet',\n",
       " 'oxybutynin chloride er',\n",
       " 'oxycodone hcl',\n",
       " 'oxycodone hcl er',\n",
       " 'oxistat cream',\n",
       " 'oxsoralen-ultra',\n",
       " 'oxtellar xr',\n",
       " 'oxipor vhc lotion',\n",
       " 'oxervate drops',\n",
       " 'oxaprozin',\n",
       " 'oxazepam',\n",
       " 'oxaydo',\n",
       " 'oxandrolone',\n",
       " 'oxcarbazepine tablet',\n",
       " 'oxcarbazepine tablet, extended release 24 hr',\n",
       " 'nucala vial',\n",
       " 'oxcarbazepine',\n",
       " 'oxandrin',\n",
       " 'oxacillin sodium vial with threaded port',\n",
       " 'oyster shell calcium-vit d3',\n",
       " 'oxaliplatin vial',\n",
       " 'oxacillin solution, piggyback premix frozen',\n",
       " 'oyster shell + d',\n",
       " 'navelbine vial',\n",
       " 'ozempic pen injector',\n",
       " 'nauzene',\n",
       " 'nature-throid',\n",
       " 'natural psyllium fiber 3.4 gram/5.8 gram oral powder',\n",
       " 'natural herbal diuretic',\n",
       " 'natural pain relieving gel',\n",
       " 'natural senna laxative',\n",
       " 'natrol 5-htp',\n",
       " 'natrecor vial',\n",
       " 'natesto gel in metered-dose pump',\n",
       " 'natpara cartridge',\n",
       " 'natroba suspension, topical',\n",
       " 'natelle one',\n",
       " 'natazia',\n",
       " 'nateglinide',\n",
       " 'natamycin drops, suspension',\n",
       " 'natalizumab solution',\n",
       " 'nasonex aerosol, spray with pump',\n",
       " 'natacyn suspension, drops (final dose form)',\n",
       " 'nascobal spray, non-aerosol',\n",
       " 'nasalcrom aerosol, spray with pump',\n",
       " 'nasalcare with irrigator nasal powder packet',\n",
       " 'nasalcare refill nasal powder packet',\n",
       " 'nasal spray extra moisturizing spray, non-aerosol',\n",
       " 'nasal spray (oxymetazoline) 0.05 %',\n",
       " 'nasal spray (sodium chloride) 0.65 % aerosol',\n",
       " 'nasal mist aerosol',\n",
       " 'nasal four spray, non-aerosol',\n",
       " 'nasal decongestant tablet, extended release',\n",
       " 'nasal decongestant',\n",
       " 'nasaflo with packet',\n",
       " 'nasal decongestant pe',\n",
       " 'naropin vial',\n",
       " 'nasacort spray, non-aerosol',\n",
       " 'nasa mist spray, non-aerosol',\n",
       " 'naratriptan hcl',\n",
       " 'nardil',\n",
       " 'naproxen-pseudoephedrine tablet, extended release 12 hr',\n",
       " 'naramin',\n",
       " 'naproxen tablet',\n",
       " 'naproxen sodium',\n",
       " 'naproxen-esomeprazole tablet, immediate release and delayed release, biphasic (tablet,ir & release,biphasic)',\n",
       " 'naproxen sodium powder',\n",
       " 'naproxen suspension, (final dose form)',\n",
       " 'naprelan',\n",
       " 'naprosyn',\n",
       " 'naproxen (bulk) powder',\n",
       " 'naproxen sodium cr',\n",
       " 'naphcon-a drops',\n",
       " 'naproxen',\n",
       " 'naprosyn tablet',\n",
       " 'nano vm 4-8 5 mg-100 mcg oral powder',\n",
       " 'namenda xr',\n",
       " 'nandrolone decanoate 200 mg/ml intramuscular oil androgens/anabolic steroids',\n",
       " 'namenda solution',\n",
       " 'namzaric',\n",
       " 'naltrexone-bupropion tablet, extended release',\n",
       " 'naltrexone (bulk) 100 % powder',\n",
       " 'naltrexone hcl',\n",
       " 'naloxone 2 mg/0.4 ml injection,auto-injector opioid antagonists',\n",
       " 'namenda',\n",
       " 'naloxegol tablet',\n",
       " 'naloxone (bulk) powder',\n",
       " 'naloxone hcl vial',\n",
       " 'naltrexone microspheres suspension, extended release, reconstituted (suspension, er, reconstituted)',\n",
       " 'nalfon',\n",
       " 'naftifine hcl cream',\n",
       " 'nalbuphine hcl ampul',\n",
       " 'naftin cream topical antifungals',\n",
       " 'naftin gel topical antifungals',\n",
       " 'naftifine gel',\n",
       " 'nafcillin sodium vial with threaded port',\n",
       " 'nadolol-bendroflumethiazide',\n",
       " 'nadolol (bulk) powder',\n",
       " 'nac',\n",
       " 'nabilone capsule',\n",
       " 'next choice one dose',\n",
       " 'nexterone plastic bag, injection',\n",
       " 'nexplanon implant',\n",
       " 'n-acetyl-alpha-d-glucosamine powder',\n",
       " 'nexium',\n",
       " 'nexavir vial',\n",
       " 'nexafed',\n",
       " 'nexa plus',\n",
       " 'nexavar',\n",
       " 'nexium 24hr',\n",
       " 'nexium i.v. vial',\n",
       " 'nucort lotion',\n",
       " 'nexium 24hr tablet, delayed release (enteric coated)',\n",
       " 'nexcare skin crack care film-forming liquid with applicator',\n",
       " 'nevanac suspension, drops (final dose form)',\n",
       " 'nymalize',\n",
       " 'neutrogena t/sal 3 % shampoo keratolytics (shampoos)',\n",
       " 'neutrogena t-gel 0.5 % shampoo',\n",
       " 'neutrogena oil-free acne wash 2 % topical cleanser',\n",
       " 'neutraphor cream',\n",
       " 'neut vial',\n",
       " 'neutrasal 538 mg mucosal powder in packet',\n",
       " 'neurontin capsule',\n",
       " 'neupro patch, transdermal 24 hours',\n",
       " 'neulasta syringe',\n",
       " 'nestabs',\n",
       " 'nesina',\n",
       " 'nestabs abc',\n",
       " 'nestabs dha',\n",
       " 'nerlynx',\n",
       " 'nephro-vite rx',\n",
       " 'neptazane',\n",
       " 'nephrocaps',\n",
       " 'nepro carb steady',\n",
       " 'nepafenac drops, suspension',\n",
       " 'nizatidine',\n",
       " 'niz shampoo',\n",
       " 'neo-synephrine 12 hour aerosol, spray with pump',\n",
       " 'nix creme rinse 1 % topical liquid',\n",
       " 'niz a-d shampoo',\n",
       " 'nivolumab solution',\n",
       " 'nystatin',\n",
       " 'nitro-time',\n",
       " 'nitrostat tablet, sublingual',\n",
       " 'nitromist aerosol, spray',\n",
       " 'nitroglycerin tablet, sublingual',\n",
       " 'nitroglycerin spray, non-aerosol',\n",
       " 'nitropress vial',\n",
       " 'nitrolingual spray, non-aerosol',\n",
       " 'nitroglycerin vial',\n",
       " 'nitroglycerin 2 % transdermal ointment',\n",
       " 'nitroglycerin patch patch, transdermal 24 hours',\n",
       " 'nitroglycerin 400 mcg sublingual powder in a packet',\n",
       " 'nitroglycerin',\n",
       " 'neosporin ointment',\n",
       " 'neosporin cream',\n",
       " 'neosalus cp cream',\n",
       " 'neo-polycin ointment',\n",
       " 'neosporin + pain relief cream',\n",
       " 'neosporin drops',\n",
       " 'neosporin g.u. irrigant ampul',\n",
       " 'neosporin + pain relief ointment',\n",
       " 'neomycin-polymyxin-hydrocort solution, non-',\n",
       " 'neoprofen vial',\n",
       " 'neomycin-polymyxin-dexameth ointment',\n",
       " 'neomycin-polymyxin-hc suspension, drops (final dose form)',\n",
       " 'neomycin-polymyxin-gramicidin drops',\n",
       " 'neomycin-polymyxin-hydrocort 3.5 mg-10,000 unit/ml-1 % ear drops,susp',\n",
       " 'neomycin-bacitracin-polymyxin ointment',\n",
       " 'neomycin sulfate (bulk) powder',\n",
       " 'neomycin sulfate',\n",
       " 'neomycin-bacitracin-poly-hc ointment',\n",
       " 'nitrofurantoin suspension, (final dose form)',\n",
       " 'nitrofurantoin',\n",
       " 'nitrofurantoin mono-macro',\n",
       " 'nitrofurantoin powder',\n",
       " 'nitrofurantoin macrocrystal (bulk) 100 % powder',\n",
       " 'nitric acid liquid',\n",
       " 'nitro-dur patch, transdermal 24 hours',\n",
       " 'nitro-bid ointment',\n",
       " 'ninjacof-xg',\n",
       " 'nitazoxanide suspension for reconstitution',\n",
       " 'nisoldipine',\n",
       " 'nisoldipine tablet, extended release 24 hr calcium channel blockers',\n",
       " 'nintedanib capsule',\n",
       " 'ninlaro',\n",
       " 'ninjacof-d',\n",
       " 'nimodipine',\n",
       " 'nimbex vial',\n",
       " 'ninjacof',\n",
       " 'nilandron',\n",
       " 'nilotinib capsule',\n",
       " 'nikki',\n",
       " 'nighttime sleep aid',\n",
       " 'neocate junior 16 gram-478 kcal/100 g oral powder',\n",
       " 'nighttime sleep gel',\n",
       " 'nighttime d cold-flu relief',\n",
       " 'nighttime cold-flu relief capsule',\n",
       " 'nembutal sodium vial',\n",
       " 'neilmed sinus rinse packet, with device',\n",
       " 'necon 7/7/7 (28) 0.5 mg/0.75 mg/1 mg-35 mcg tablet',\n",
       " 'nefazodone hcl',\n",
       " 'necon tablet',\n",
       " 'necon',\n",
       " 'necon 0.5/35 (28) 0.5 mg-35 mcg tablet',\n",
       " 'ne solution',\n",
       " 'nebupent vial for nebulizer',\n",
       " 'nebivolol tablet',\n",
       " 'ne',\n",
       " 'nifedipine er',\n",
       " 'nicotrol cartridge',\n",
       " 'nifedipine',\n",
       " 'nifedipine (bulk) powder',\n",
       " 'nicotrol ns spray, non-aerosol',\n",
       " 'nicotine patch patch, transdermal 24 hours',\n",
       " 'nicotine polacrilex (bulk) 20 % powder',\n",
       " 'nicotine gum',\n",
       " 'nicotine cartridge',\n",
       " 'nicotine lozenge',\n",
       " 'nicorette lozenge',\n",
       " 'nicorette gum',\n",
       " 'nicoderm cq patch, transdermal 24 hours',\n",
       " 'nicomide',\n",
       " 'nicazel',\n",
       " 'nicazel forte',\n",
       " 'nicardipine hcl',\n",
       " 'niaspan',\n",
       " 'nyamyc 100,000 unit/gram topical powder',\n",
       " 'niacinamide',\n",
       " 'niacin flush free',\n",
       " 'niacin er',\n",
       " 'niacor',\n",
       " 'niacin capsule',\n",
       " 'niacin (bulk) powder',\n",
       " 'ovide lotion',\n",
       " 'ovcon-35',\n",
       " 'ovidrel syringe',\n",
       " 'otrexup auto-injector',\n",
       " 'ovasitol 2,000 mg-50 mg oral powder packet',\n",
       " 'ovace plus shampoo',\n",
       " 'ovace plus foam',\n",
       " 'ovace cleanser',\n",
       " 'ovace plus cream',\n",
       " 'optison vial',\n",
       " 'optiray 350 vial',\n",
       " 'optiray 320 syringe',\n",
       " 'optimal d3',\n",
       " 'optiflex-c',\n",
       " 'optimark vial',\n",
       " 'optifast 70',\n",
       " 'opcon-a drops',\n",
       " 'opium tincture',\n",
       " 'opsumit',\n",
       " 'opdivo vial',\n",
       " 'opana',\n",
       " 'orthovisc syringe',\n",
       " 'opana er',\n",
       " 'ortho-novum tablet',\n",
       " 'opana ampul',\n",
       " 'ortho-nesic gel',\n",
       " 'ortho-cyclen',\n",
       " 'ortho-novum',\n",
       " 'ortho tri-cyclen lo',\n",
       " 'orsythia',\n",
       " 'ortho tri-cyclen',\n",
       " 'ortho micronor',\n",
       " 'orphengesic forte 50 mg-770 mg-60 mg tablet antiplatelet drugs-excluding asa 325 and below',\n",
       " 'orphenadrine citrate ampul',\n",
       " 'orilissa',\n",
       " 'orphenadrine citrate',\n",
       " 'orphenadrine citrate powder',\n",
       " 'orphenadrine-asa-caffeine 50 mg-770 mg-60 mg tablet antiplatelet drugs-excluding asa 325 and below',\n",
       " 'orlistat capsule',\n",
       " 'oritavancin solution, reconstituted (recon soln)',\n",
       " 'orkambi',\n",
       " 'orfadin',\n",
       " 'orencia vial',\n",
       " 'organ-i nr',\n",
       " 'orenitram er',\n",
       " 'orencia syringe',\n",
       " 'oravig tablet, buccal, muco-adhesive',\n",
       " 'orazinc',\n",
       " 'orencia clickject auto-injector',\n",
       " 'orasep spray, non-aerosol',\n",
       " 'orapred odt',\n",
       " 'osteo bi-flex tablet',\n",
       " 'orap',\n",
       " 'oracea',\n",
       " 'ostera',\n",
       " 'oracit',\n",
       " 'osteo bi-flex',\n",
       " 'osteo bi-flex 250 mg-200 mg tablet',\n",
       " 'osphena',\n",
       " 'osmolite 1.5 cal',\n",
       " 'otezla tablet, dose pack',\n",
       " 'osmoprep',\n",
       " 'outgro liquid',\n",
       " 'otezla',\n",
       " 'ospemifene tablet',\n",
       " 'oscimin tablet,disintegrating',\n",
       " 'oseni',\n",
       " 'onglyza',\n",
       " 'onmel',\n",
       " 'onzetra xsail 11 mg powder for nasal inhalation',\n",
       " 'onexton gel',\n",
       " 'onfi',\n",
       " \"one-a-day women's\",\n",
       " 'one-a-day women vitacraves',\n",
       " 'one-a-day teen advantage',\n",
       " 'one-a-day trubiotics',\n",
       " 'one-a-day vitacraves',\n",
       " \"one-a-day men's 50 plus tablet\",\n",
       " \"one-a-day men's\",\n",
       " 'one-a-day menopause formula',\n",
       " 'one-a-day',\n",
       " 'one-a-day maximum formula',\n",
       " 'one-a-day essential',\n",
       " 'one paste',\n",
       " \"one daily women's health\",\n",
       " 'one daily womens 50 plus',\n",
       " 'ovace plus cleanser, extended release',\n",
       " 'oseltamivir phosphate',\n",
       " 'oseltamivir suspension for reconstitution',\n",
       " \"one a day women's prenatal dha\",\n",
       " 'ondansetron odt',\n",
       " 'ondansetron hcl (bulk) 100 % powder',\n",
       " 'ondansetron hcl',\n",
       " 'ondansetron hcl vial',\n",
       " 'oncovite',\n",
       " 'oscimin sl tablet, sublingual',\n",
       " 'os-cal 500-vit d3',\n",
       " 'oscimin',\n",
       " 'oncaspar vial',\n",
       " 'onabotulinumtoxina solution, reconstituted (recon soln)',\n",
       " 'olysio',\n",
       " 'olux-e foam',\n",
       " 'olux foam',\n",
       " 'omnitrope cartridge',\n",
       " 'ogestrel',\n",
       " 'omniscan vial',\n",
       " 'oil of oregano',\n",
       " 'omnipaque 300 mg iodine/ml intravenous solution',\n",
       " 'omnipred suspension, drops (final dose form)',\n",
       " 'omnipaque 350 mg iodine/ml intravenous solution',\n",
       " 'omnipaque vial',\n",
       " 'omnaris aerosol, spray with pump',\n",
       " 'omeprazole-clarith-amoxicillin combination package',\n",
       " 'omidria vial',\n",
       " 'omeprazole magnesium suspension, delayed release, reconstituted (suspension, reconstitut)',\n",
       " 'omnicap',\n",
       " 'omera',\n",
       " 'omeprazole-sodium bicarbonate',\n",
       " 'omeprazole magnesium tablet, delayed release (enteric coated)',\n",
       " 'omeprazole magnesium',\n",
       " 'omeprazole (bulk) 100 % powder',\n",
       " 'omega3-vitb6-b12-e-fa-fish oil capsule',\n",
       " 'omeprazole capsule,delayed release (enteric coated)',\n",
       " 'omeprazole',\n",
       " 'omega-3-dha-epa-dpa-fish oil capsule',\n",
       " 'omega-3 krill oil capsule',\n",
       " 'omega-3 capsule,delayed release (enteric coated)',\n",
       " 'omega-3 fatty acids 1,000 mg capsule',\n",
       " 'omega-3 fish oil capsule',\n",
       " 'omega-3 krill oil',\n",
       " 'omega-3 fish oil 300 mg-1,000 mg capsule',\n",
       " 'omega-3 + d',\n",
       " 'omega-3 acid ethyl esters',\n",
       " 'omega 3-6-9 fatty acids',\n",
       " 'omega 3-6-9',\n",
       " 'omalizumab solution, reconstituted (recon soln)',\n",
       " 'omega 3-6-9 complex',\n",
       " 'omeclamox-pak',\n",
       " 'omacetaxine solution, reconstituted (recon soln)',\n",
       " 'olumiant',\n",
       " 'ondansetron film',\n",
       " 'olopatadine hcl drops',\n",
       " 'olopatadine hcl aerosol, spray with pump',\n",
       " 'olodaterol mist',\n",
       " 'olmesartan-amlodipine-hctz',\n",
       " 'olive oil oral',\n",
       " 'olmesartan-hydrochlorothiazide',\n",
       " 'olmesartan medoxomil',\n",
       " 'olive leaf extract',\n",
       " 'olanzapine vial',\n",
       " 'olanzapine odt',\n",
       " 'olanzapine-fluoxetine hcl',\n",
       " 'olanzapine pamoate suspension for reconstitution',\n",
       " 'olanzapine',\n",
       " 'odorless garlic',\n",
       " 'o-cal prenatal',\n",
       " 'obinutuzumab solution',\n",
       " 'obtrex dha',\n",
       " 'obagi nu-derm clear 4 % topical cream',\n",
       " 'ob complete petite',\n",
       " 'ob complete one',\n",
       " 'ocuvite lutein & zeaxanthin',\n",
       " 'ocuvite adult 50+ capsule',\n",
       " 'ocusoft lid scrub plus pads, medicated',\n",
       " 'ocusoft lid scrub pads, medicated',\n",
       " 'ocuflox drops',\n",
       " 'odomzo',\n",
       " 'odactra tablet, sublingual',\n",
       " 'octreoscan kit',\n",
       " 'odefsey',\n",
       " 'octylseal liquid',\n",
       " 'octreotide acetate vial',\n",
       " 'octoxynol liquid',\n",
       " 'ocean blue prenatal dha',\n",
       " 'ocean blue omega-3 + d3',\n",
       " ...]"
      ]
     },
     "execution_count": 20,
     "metadata": {},
     "output_type": "execute_result"
    }
   ],
   "source": [
    "data1['Drug'].unique().tolist()"
   ]
  },
  {
   "cell_type": "code",
   "execution_count": 21,
   "id": "ef75ec8a",
   "metadata": {},
   "outputs": [
    {
     "data": {
      "text/plain": [
       "7093"
      ]
     },
     "execution_count": 21,
     "metadata": {},
     "output_type": "execute_result"
    }
   ],
   "source": [
    "data1['Drug'].nunique()"
   ]
  },
  {
   "cell_type": "code",
   "execution_count": 22,
   "id": "014e9a62",
   "metadata": {},
   "outputs": [
    {
     "data": {
      "text/plain": [
       "cymbalta                                 4648\n",
       "lisinopril                               4267\n",
       "lisinopril solution                      4267\n",
       "lexapro                                  4134\n",
       "hydrocodone-acetaminophen                3943\n",
       "                                         ... \n",
       "huperzine serrate a (bulk) 1 % powder       1\n",
       "sorbsan topical wound dressing 3\" x         1\n",
       "q-pap extra strength                        1\n",
       "symax                                       1\n",
       "vanadium granules                           1\n",
       "Name: Drug, Length: 7093, dtype: int64"
      ]
     },
     "execution_count": 22,
     "metadata": {},
     "output_type": "execute_result"
    }
   ],
   "source": [
    "data1['Drug'].value_counts()"
   ]
  },
  {
   "cell_type": "code",
   "execution_count": 23,
   "id": "720dc5cb",
   "metadata": {},
   "outputs": [
    {
     "data": {
      "text/plain": [
       "5     111537\n",
       "1     100897\n",
       "4      63149\n",
       "3      51846\n",
       "2      35337\n",
       "6          2\n",
       "10         1\n",
       "Name: Satisfaction, dtype: int64"
      ]
     },
     "execution_count": 23,
     "metadata": {},
     "output_type": "execute_result"
    }
   ],
   "source": [
    "data1['Satisfaction'].value_counts()"
   ]
  },
  {
   "cell_type": "code",
   "execution_count": 24,
   "id": "b9f23c98",
   "metadata": {},
   "outputs": [
    {
     "data": {
      "text/plain": [
       "5     130375\n",
       "4      81815\n",
       "3      60397\n",
       "1      59384\n",
       "2      30795\n",
       "6          2\n",
       "10         1\n",
       "Name: Effectiveness, dtype: int64"
      ]
     },
     "execution_count": 24,
     "metadata": {},
     "output_type": "execute_result"
    }
   ],
   "source": [
    "data1['Effectiveness'].value_counts()"
   ]
  },
  {
   "cell_type": "code",
   "execution_count": 25,
   "id": "d855ad6a",
   "metadata": {},
   "outputs": [
    {
     "data": {
      "text/plain": [
       "5     192635\n",
       "4      74721\n",
       "3      41298\n",
       "1      35926\n",
       "2      18186\n",
       "6          2\n",
       "10         1\n",
       "Name: EaseofUse, dtype: int64"
      ]
     },
     "execution_count": 25,
     "metadata": {},
     "output_type": "execute_result"
    }
   ],
   "source": [
    "data1['EaseofUse'].value_counts()"
   ]
  },
  {
   "cell_type": "code",
   "execution_count": 26,
   "id": "92d20281",
   "metadata": {},
   "outputs": [],
   "source": [
    "data1 = data1.drop(data1[(data1['Satisfaction'] == 10) | (data1['Satisfaction'] == 6)].index, axis=0)"
   ]
  },
  {
   "cell_type": "code",
   "execution_count": 27,
   "id": "ba907613",
   "metadata": {},
   "outputs": [
    {
     "data": {
      "text/plain": [
       "5    111537\n",
       "1    100897\n",
       "4     63149\n",
       "3     51846\n",
       "2     35337\n",
       "Name: Satisfaction, dtype: int64"
      ]
     },
     "execution_count": 27,
     "metadata": {},
     "output_type": "execute_result"
    }
   ],
   "source": [
    "data1['Satisfaction'].value_counts()"
   ]
  },
  {
   "cell_type": "code",
   "execution_count": 28,
   "id": "bb794419",
   "metadata": {},
   "outputs": [
    {
     "data": {
      "text/plain": [
       "5    130375\n",
       "4     81815\n",
       "3     60397\n",
       "1     59384\n",
       "2     30795\n",
       "Name: Effectiveness, dtype: int64"
      ]
     },
     "execution_count": 28,
     "metadata": {},
     "output_type": "execute_result"
    }
   ],
   "source": [
    "data1['Effectiveness'].value_counts()"
   ]
  },
  {
   "cell_type": "code",
   "execution_count": 29,
   "id": "ecd236ba",
   "metadata": {},
   "outputs": [
    {
     "data": {
      "text/plain": [
       "5    192635\n",
       "4     74721\n",
       "3     41298\n",
       "1     35926\n",
       "2     18186\n",
       "Name: EaseofUse, dtype: int64"
      ]
     },
     "execution_count": 29,
     "metadata": {},
     "output_type": "execute_result"
    }
   ],
   "source": [
    "data1['EaseofUse'].value_counts()"
   ]
  },
  {
   "cell_type": "code",
   "execution_count": 30,
   "id": "153f247b",
   "metadata": {},
   "outputs": [
    {
     "data": {
      "text/plain": [
       "(362766, 13)"
      ]
     },
     "execution_count": 30,
     "metadata": {},
     "output_type": "execute_result"
    }
   ],
   "source": [
    "data1.shape"
   ]
  },
  {
   "cell_type": "markdown",
   "id": "090d071b",
   "metadata": {},
   "source": [
    "## A drug named Lisinopril solution/Lisinopril with DrugId 6873 is selected in building a classification model to determine side effects."
   ]
  },
  {
   "cell_type": "code",
   "execution_count": 31,
   "id": "4d15629f",
   "metadata": {},
   "outputs": [],
   "source": [
    "data2 = data1[data1.DrugId == 6873]"
   ]
  },
  {
   "cell_type": "code",
   "execution_count": 32,
   "id": "2629aec2",
   "metadata": {},
   "outputs": [
    {
     "data": {
      "text/html": [
       "<div>\n",
       "<style scoped>\n",
       "    .dataframe tbody tr th:only-of-type {\n",
       "        vertical-align: middle;\n",
       "    }\n",
       "\n",
       "    .dataframe tbody tr th {\n",
       "        vertical-align: top;\n",
       "    }\n",
       "\n",
       "    .dataframe thead th {\n",
       "        text-align: right;\n",
       "    }\n",
       "</style>\n",
       "<table border=\"1\" class=\"dataframe\">\n",
       "  <thead>\n",
       "    <tr style=\"text-align: right;\">\n",
       "      <th></th>\n",
       "      <th>Name</th>\n",
       "      <th>Race</th>\n",
       "      <th>Age</th>\n",
       "      <th>Condition</th>\n",
       "      <th>Date</th>\n",
       "      <th>Drug</th>\n",
       "      <th>DrugId</th>\n",
       "      <th>EaseofUse</th>\n",
       "      <th>Effectiveness</th>\n",
       "      <th>Satisfaction</th>\n",
       "      <th>Sex</th>\n",
       "      <th>Sides</th>\n",
       "      <th>UsefulCount</th>\n",
       "    </tr>\n",
       "  </thead>\n",
       "  <tbody>\n",
       "    <tr>\n",
       "      <th>9197</th>\n",
       "      <td>Alphonse</td>\n",
       "      <td>White</td>\n",
       "      <td></td>\n",
       "      <td>High Blood Pressure</td>\n",
       "      <td>2/29/2020</td>\n",
       "      <td>lisinopril solution</td>\n",
       "      <td>6873</td>\n",
       "      <td>5</td>\n",
       "      <td>5</td>\n",
       "      <td>5</td>\n",
       "      <td></td>\n",
       "      <td>Dizziness ,  lightheadedness , tiredness, or  ...</td>\n",
       "      <td>14</td>\n",
       "    </tr>\n",
       "    <tr>\n",
       "      <th>9203</th>\n",
       "      <td>Angelena</td>\n",
       "      <td>White</td>\n",
       "      <td>75 or over</td>\n",
       "      <td>High Blood Pressure</td>\n",
       "      <td>2/8/2020</td>\n",
       "      <td>lisinopril solution</td>\n",
       "      <td>6873</td>\n",
       "      <td>5</td>\n",
       "      <td>4</td>\n",
       "      <td>4</td>\n",
       "      <td>Female</td>\n",
       "      <td>Dizziness ,  lightheadedness , tiredness, or  ...</td>\n",
       "      <td>3</td>\n",
       "    </tr>\n",
       "    <tr>\n",
       "      <th>9209</th>\n",
       "      <td>Hosea</td>\n",
       "      <td>Hispanic</td>\n",
       "      <td>55-64</td>\n",
       "      <td>High Blood Pressure</td>\n",
       "      <td>1/14/2020</td>\n",
       "      <td>lisinopril solution</td>\n",
       "      <td>6873</td>\n",
       "      <td>4</td>\n",
       "      <td>5</td>\n",
       "      <td>4</td>\n",
       "      <td>Male</td>\n",
       "      <td>Dizziness ,  lightheadedness , tiredness, or  ...</td>\n",
       "      <td>3</td>\n",
       "    </tr>\n",
       "    <tr>\n",
       "      <th>9215</th>\n",
       "      <td>Chong</td>\n",
       "      <td>Asian</td>\n",
       "      <td>65-74</td>\n",
       "      <td>High Blood Pressure</td>\n",
       "      <td>10/17/2019</td>\n",
       "      <td>lisinopril solution</td>\n",
       "      <td>6873</td>\n",
       "      <td>5</td>\n",
       "      <td>5</td>\n",
       "      <td>5</td>\n",
       "      <td>Male</td>\n",
       "      <td>Dizziness ,  lightheadedness , tiredness, or  ...</td>\n",
       "      <td>6</td>\n",
       "    </tr>\n",
       "    <tr>\n",
       "      <th>9221</th>\n",
       "      <td>Adaline</td>\n",
       "      <td>Black</td>\n",
       "      <td>55-64</td>\n",
       "      <td>High Blood Pressure</td>\n",
       "      <td>10/13/2019</td>\n",
       "      <td>lisinopril solution</td>\n",
       "      <td>6873</td>\n",
       "      <td>2</td>\n",
       "      <td>4</td>\n",
       "      <td>2</td>\n",
       "      <td>Male</td>\n",
       "      <td>Dizziness ,  lightheadedness , tiredness, or  ...</td>\n",
       "      <td>12</td>\n",
       "    </tr>\n",
       "  </tbody>\n",
       "</table>\n",
       "</div>"
      ],
      "text/plain": [
       "          Name      Race         Age            Condition        Date  \\\n",
       "9197  Alphonse     White              High Blood Pressure   2/29/2020   \n",
       "9203  Angelena     White  75 or over  High Blood Pressure    2/8/2020   \n",
       "9209     Hosea  Hispanic       55-64  High Blood Pressure   1/14/2020   \n",
       "9215     Chong     Asian       65-74  High Blood Pressure  10/17/2019   \n",
       "9221   Adaline     Black       55-64  High Blood Pressure  10/13/2019   \n",
       "\n",
       "                     Drug  DrugId  EaseofUse  Effectiveness  Satisfaction  \\\n",
       "9197  lisinopril solution    6873          5              5             5   \n",
       "9203  lisinopril solution    6873          5              4             4   \n",
       "9209  lisinopril solution    6873          4              5             4   \n",
       "9215  lisinopril solution    6873          5              5             5   \n",
       "9221  lisinopril solution    6873          2              4             2   \n",
       "\n",
       "         Sex                                              Sides  UsefulCount  \n",
       "9197          Dizziness ,  lightheadedness , tiredness, or  ...           14  \n",
       "9203  Female  Dizziness ,  lightheadedness , tiredness, or  ...            3  \n",
       "9209    Male  Dizziness ,  lightheadedness , tiredness, or  ...            3  \n",
       "9215    Male  Dizziness ,  lightheadedness , tiredness, or  ...            6  \n",
       "9221    Male  Dizziness ,  lightheadedness , tiredness, or  ...           12  "
      ]
     },
     "execution_count": 32,
     "metadata": {},
     "output_type": "execute_result"
    }
   ],
   "source": [
    "data2.head()"
   ]
  },
  {
   "cell_type": "code",
   "execution_count": 33,
   "id": "39072554",
   "metadata": {},
   "outputs": [
    {
     "data": {
      "text/plain": [
       "(8534, 13)"
      ]
     },
     "execution_count": 33,
     "metadata": {},
     "output_type": "execute_result"
    }
   ],
   "source": [
    "data2.shape"
   ]
  },
  {
   "cell_type": "code",
   "execution_count": 34,
   "id": "46648674",
   "metadata": {},
   "outputs": [
    {
     "data": {
      "text/plain": [
       "1651"
      ]
     },
     "execution_count": 34,
     "metadata": {},
     "output_type": "execute_result"
    }
   ],
   "source": [
    "data.Sides.nunique()"
   ]
  },
  {
   "cell_type": "code",
   "execution_count": 35,
   "id": "6e51731e",
   "metadata": {},
   "outputs": [
    {
     "data": {
      "text/plain": [
       "1    3034\n",
       "5    1740\n",
       "3    1440\n",
       "4    1296\n",
       "2    1024\n",
       "Name: Satisfaction, dtype: int64"
      ]
     },
     "execution_count": 35,
     "metadata": {},
     "output_type": "execute_result"
    }
   ],
   "source": [
    "data2['Satisfaction'].value_counts()"
   ]
  },
  {
   "cell_type": "markdown",
   "id": "c288a259",
   "metadata": {},
   "source": [
    "### Missing Value Handling"
   ]
  },
  {
   "cell_type": "code",
   "execution_count": 36,
   "id": "66d862d8",
   "metadata": {},
   "outputs": [
    {
     "data": {
      "text/plain": [
       "Name               0\n",
       "Race               0\n",
       "Age              270\n",
       "Condition          0\n",
       "Date               0\n",
       "Drug               0\n",
       "DrugId             0\n",
       "EaseofUse          0\n",
       "Effectiveness      0\n",
       "Satisfaction       0\n",
       "Sex              494\n",
       "Sides              0\n",
       "UsefulCount        0\n",
       "dtype: int64"
      ]
     },
     "execution_count": 36,
     "metadata": {},
     "output_type": "execute_result"
    }
   ],
   "source": [
    "# Handling instances with whitespaces\n",
    "for i in data2:\n",
    "    data2[i]=np.where(data2[i]==\" \",np.NAN,data2[i])\n",
    "    \n",
    "data2.isna().sum()"
   ]
  },
  {
   "cell_type": "code",
   "execution_count": 37,
   "id": "6b122035",
   "metadata": {},
   "outputs": [
    {
     "data": {
      "text/plain": [
       "Name             0\n",
       "Race             0\n",
       "Age              0\n",
       "Condition        0\n",
       "Date             0\n",
       "Drug             0\n",
       "DrugId           0\n",
       "EaseofUse        0\n",
       "Effectiveness    0\n",
       "Satisfaction     0\n",
       "Sex              0\n",
       "Sides            0\n",
       "UsefulCount      0\n",
       "dtype: int64"
      ]
     },
     "execution_count": 37,
     "metadata": {},
     "output_type": "execute_result"
    }
   ],
   "source": [
    "data2.dropna(axis=0, inplace = True)\n",
    "data2.isna().sum()"
   ]
  },
  {
   "cell_type": "code",
   "execution_count": 38,
   "id": "1957e272",
   "metadata": {},
   "outputs": [
    {
     "data": {
      "text/plain": [
       "(7940, 13)"
      ]
     },
     "execution_count": 38,
     "metadata": {},
     "output_type": "execute_result"
    }
   ],
   "source": [
    "data2.shape"
   ]
  },
  {
   "cell_type": "code",
   "execution_count": 39,
   "id": "a3b1b495",
   "metadata": {},
   "outputs": [
    {
     "data": {
      "text/plain": [
       "55-64         2294\n",
       "45-54         2098\n",
       "65-74         1474\n",
       "35-44         1036\n",
       "75 or over     634\n",
       "25-34          340\n",
       "19-24           54\n",
       "13-18            6\n",
       "0-2              2\n",
       "7-12             2\n",
       "Name: Age, dtype: int64"
      ]
     },
     "execution_count": 39,
     "metadata": {},
     "output_type": "execute_result"
    }
   ],
   "source": [
    "data2.Age.value_counts()"
   ]
  },
  {
   "cell_type": "code",
   "execution_count": 40,
   "id": "5646a246",
   "metadata": {},
   "outputs": [],
   "source": [
    "data2['Age'].replace(to_replace = ['12-Jul'], value = '7-12', inplace = True)"
   ]
  },
  {
   "cell_type": "code",
   "execution_count": 41,
   "id": "bf541444",
   "metadata": {},
   "outputs": [
    {
     "data": {
      "text/plain": [
       "55-64         2294\n",
       "45-54         2098\n",
       "65-74         1474\n",
       "35-44         1036\n",
       "75 or over     634\n",
       "25-34          340\n",
       "19-24           54\n",
       "13-18            6\n",
       "0-2              2\n",
       "7-12             2\n",
       "Name: Age, dtype: int64"
      ]
     },
     "execution_count": 41,
     "metadata": {},
     "output_type": "execute_result"
    }
   ],
   "source": [
    "data2.Age.value_counts()"
   ]
  },
  {
   "cell_type": "code",
   "execution_count": 42,
   "id": "c6fcb248",
   "metadata": {},
   "outputs": [
    {
     "data": {
      "text/plain": [
       "Female    4716\n",
       "Male      3224\n",
       "Name: Sex, dtype: int64"
      ]
     },
     "execution_count": 42,
     "metadata": {},
     "output_type": "execute_result"
    }
   ],
   "source": [
    "data2[\"Sex\"].value_counts()"
   ]
  },
  {
   "cell_type": "code",
   "execution_count": 43,
   "id": "310b736f",
   "metadata": {},
   "outputs": [
    {
     "data": {
      "text/plain": [
       "array([  3.,   6.,  12.,  22.,  37.,  24.,   4.,  11.,  14.,  19.,  25.,\n",
       "         5.,  21.,   0.,   7.,   9.,   8.,  15.,   2.,  18.,  17.,  30.,\n",
       "        28.,  16.,  13.,   1.,  38.,  10.,  35.,  36.,  31.,  20.,  23.,\n",
       "        58.,  62.,  52.,  40.,  54.,  26.,  33.,  27.,  32.,  34.,  29.,\n",
       "        70., 113.,  44.,  46.,  83.,  63., 140.,  88.,  39., 100.,  56.,\n",
       "        66.,  45.])"
      ]
     },
     "execution_count": 43,
     "metadata": {},
     "output_type": "execute_result"
    }
   ],
   "source": [
    "data2['UsefulCount'].unique()"
   ]
  },
  {
   "cell_type": "code",
   "execution_count": 44,
   "id": "639cf062",
   "metadata": {},
   "outputs": [
    {
     "data": {
      "text/plain": [
       "High Blood Pressure                                         7128\n",
       "Other                                                        210\n",
       "Kidney Disease from Diabetes                                 196\n",
       "Heart Attack                                                 164\n",
       "Chronic Heart Failure                                         72\n",
       "Prevention of Recurrent Atrial Fibrillation                   40\n",
       "Failure of the Left Ventricle of the Heart                    36\n",
       "Migraine Prevention                                           32\n",
       "Kidney Problem caused by Body Tissue Disease-Scleroderma      30\n",
       "Nondiabetic Proteinuric Nephropathy                           18\n",
       "Retinal Changes of Eye in a Patient with Diabetes              8\n",
       "Diastolic Heart Failure                                        6\n",
       "Name: Condition, dtype: int64"
      ]
     },
     "execution_count": 44,
     "metadata": {},
     "output_type": "execute_result"
    }
   ],
   "source": [
    "data2['Condition'].value_counts()"
   ]
  },
  {
   "cell_type": "code",
   "execution_count": 45,
   "id": "3a461bbf",
   "metadata": {},
   "outputs": [],
   "source": [
    "#adding index column\n",
    "list1=list(range(7940))\n",
    "data2=data2.set_index([list1])"
   ]
  },
  {
   "cell_type": "code",
   "execution_count": 46,
   "id": "63f52897",
   "metadata": {},
   "outputs": [
    {
     "data": {
      "text/html": [
       "<div>\n",
       "<style scoped>\n",
       "    .dataframe tbody tr th:only-of-type {\n",
       "        vertical-align: middle;\n",
       "    }\n",
       "\n",
       "    .dataframe tbody tr th {\n",
       "        vertical-align: top;\n",
       "    }\n",
       "\n",
       "    .dataframe thead th {\n",
       "        text-align: right;\n",
       "    }\n",
       "</style>\n",
       "<table border=\"1\" class=\"dataframe\">\n",
       "  <thead>\n",
       "    <tr style=\"text-align: right;\">\n",
       "      <th></th>\n",
       "      <th>Name</th>\n",
       "      <th>Race</th>\n",
       "      <th>Age</th>\n",
       "      <th>Condition</th>\n",
       "      <th>Date</th>\n",
       "      <th>Drug</th>\n",
       "      <th>DrugId</th>\n",
       "      <th>EaseofUse</th>\n",
       "      <th>Effectiveness</th>\n",
       "      <th>Satisfaction</th>\n",
       "      <th>Sex</th>\n",
       "      <th>Sides</th>\n",
       "      <th>UsefulCount</th>\n",
       "    </tr>\n",
       "  </thead>\n",
       "  <tbody>\n",
       "    <tr>\n",
       "      <th>0</th>\n",
       "      <td>Angelena</td>\n",
       "      <td>White</td>\n",
       "      <td>75 or over</td>\n",
       "      <td>High Blood Pressure</td>\n",
       "      <td>2/8/2020</td>\n",
       "      <td>lisinopril solution</td>\n",
       "      <td>6873.0</td>\n",
       "      <td>5.0</td>\n",
       "      <td>4.0</td>\n",
       "      <td>4.0</td>\n",
       "      <td>Female</td>\n",
       "      <td>Dizziness ,  lightheadedness , tiredness, or  ...</td>\n",
       "      <td>3.0</td>\n",
       "    </tr>\n",
       "    <tr>\n",
       "      <th>1</th>\n",
       "      <td>Hosea</td>\n",
       "      <td>Hispanic</td>\n",
       "      <td>55-64</td>\n",
       "      <td>High Blood Pressure</td>\n",
       "      <td>1/14/2020</td>\n",
       "      <td>lisinopril solution</td>\n",
       "      <td>6873.0</td>\n",
       "      <td>4.0</td>\n",
       "      <td>5.0</td>\n",
       "      <td>4.0</td>\n",
       "      <td>Male</td>\n",
       "      <td>Dizziness ,  lightheadedness , tiredness, or  ...</td>\n",
       "      <td>3.0</td>\n",
       "    </tr>\n",
       "    <tr>\n",
       "      <th>2</th>\n",
       "      <td>Chong</td>\n",
       "      <td>Asian</td>\n",
       "      <td>65-74</td>\n",
       "      <td>High Blood Pressure</td>\n",
       "      <td>10/17/2019</td>\n",
       "      <td>lisinopril solution</td>\n",
       "      <td>6873.0</td>\n",
       "      <td>5.0</td>\n",
       "      <td>5.0</td>\n",
       "      <td>5.0</td>\n",
       "      <td>Male</td>\n",
       "      <td>Dizziness ,  lightheadedness , tiredness, or  ...</td>\n",
       "      <td>6.0</td>\n",
       "    </tr>\n",
       "    <tr>\n",
       "      <th>3</th>\n",
       "      <td>Adaline</td>\n",
       "      <td>Black</td>\n",
       "      <td>55-64</td>\n",
       "      <td>High Blood Pressure</td>\n",
       "      <td>10/13/2019</td>\n",
       "      <td>lisinopril solution</td>\n",
       "      <td>6873.0</td>\n",
       "      <td>2.0</td>\n",
       "      <td>4.0</td>\n",
       "      <td>2.0</td>\n",
       "      <td>Male</td>\n",
       "      <td>Dizziness ,  lightheadedness , tiredness, or  ...</td>\n",
       "      <td>12.0</td>\n",
       "    </tr>\n",
       "    <tr>\n",
       "      <th>4</th>\n",
       "      <td>Kathey</td>\n",
       "      <td>Hispanic</td>\n",
       "      <td>55-64</td>\n",
       "      <td>High Blood Pressure</td>\n",
       "      <td>8/16/2019</td>\n",
       "      <td>lisinopril solution</td>\n",
       "      <td>6873.0</td>\n",
       "      <td>3.0</td>\n",
       "      <td>1.0</td>\n",
       "      <td>1.0</td>\n",
       "      <td>Female</td>\n",
       "      <td>Dizziness ,  lightheadedness , tiredness, or  ...</td>\n",
       "      <td>22.0</td>\n",
       "    </tr>\n",
       "  </tbody>\n",
       "</table>\n",
       "</div>"
      ],
      "text/plain": [
       "       Name      Race         Age            Condition        Date  \\\n",
       "0  Angelena     White  75 or over  High Blood Pressure    2/8/2020   \n",
       "1     Hosea  Hispanic       55-64  High Blood Pressure   1/14/2020   \n",
       "2     Chong     Asian       65-74  High Blood Pressure  10/17/2019   \n",
       "3   Adaline     Black       55-64  High Blood Pressure  10/13/2019   \n",
       "4    Kathey  Hispanic       55-64  High Blood Pressure   8/16/2019   \n",
       "\n",
       "                  Drug  DrugId  EaseofUse  Effectiveness  Satisfaction  \\\n",
       "0  lisinopril solution  6873.0        5.0            4.0           4.0   \n",
       "1  lisinopril solution  6873.0        4.0            5.0           4.0   \n",
       "2  lisinopril solution  6873.0        5.0            5.0           5.0   \n",
       "3  lisinopril solution  6873.0        2.0            4.0           2.0   \n",
       "4  lisinopril solution  6873.0        3.0            1.0           1.0   \n",
       "\n",
       "      Sex                                              Sides  UsefulCount  \n",
       "0  Female  Dizziness ,  lightheadedness , tiredness, or  ...          3.0  \n",
       "1    Male  Dizziness ,  lightheadedness , tiredness, or  ...          3.0  \n",
       "2    Male  Dizziness ,  lightheadedness , tiredness, or  ...          6.0  \n",
       "3    Male  Dizziness ,  lightheadedness , tiredness, or  ...         12.0  \n",
       "4  Female  Dizziness ,  lightheadedness , tiredness, or  ...         22.0  "
      ]
     },
     "execution_count": 46,
     "metadata": {},
     "output_type": "execute_result"
    }
   ],
   "source": [
    "data2.head()"
   ]
  },
  {
   "cell_type": "code",
   "execution_count": 47,
   "id": "11f1b846",
   "metadata": {},
   "outputs": [],
   "source": [
    "data2 = data2.drop('DrugId',axis=1)"
   ]
  },
  {
   "cell_type": "markdown",
   "id": "0ca9cdf5",
   "metadata": {},
   "source": [
    "### Correlation Matrix"
   ]
  },
  {
   "cell_type": "code",
   "execution_count": 48,
   "id": "d14195b5",
   "metadata": {},
   "outputs": [
    {
     "data": {
      "text/plain": [
       "<Axes: >"
      ]
     },
     "execution_count": 48,
     "metadata": {},
     "output_type": "execute_result"
    },
    {
     "data": {
      "image/png": "[encoded data removed]",
      "text/plain": [
       "<Figure size 640x480 with 2 Axes>"
      ]
     },
     "metadata": {},
     "output_type": "display_data"
    }
   ],
   "source": [
    "sns.heatmap(data2.corr(),annot=True)"
   ]
  },
  {
   "cell_type": "markdown",
   "id": "8d900e7c",
   "metadata": {},
   "source": [
    "#### Highlevel of correlation is seen with effectiveness and satisfaction."
   ]
  },
  {
   "cell_type": "markdown",
   "id": "c2c2f1ee",
   "metadata": {},
   "source": [
    "### Outlier handling"
   ]
  },
  {
   "cell_type": "code",
   "execution_count": 49,
   "id": "f2e06aff",
   "metadata": {},
   "outputs": [
    {
     "data": {
      "image/png": "[encoded data removed]",
      "text/plain": [
       "<Figure size 640x480 with 1 Axes>"
      ]
     },
     "metadata": {},
     "output_type": "display_data"
    }
   ],
   "source": [
    "plt.boxplot(data2[\"UsefulCount\"])\n",
    "plt.title(\"Boxplot of useful count\")\n",
    "plt.show()"
   ]
  },
  {
   "cell_type": "markdown",
   "id": "3a602d44",
   "metadata": {},
   "source": [
    "\n",
    "There are outliers in useful count column. We need to handle it."
   ]
  },
  {
   "cell_type": "code",
   "execution_count": 50,
   "id": "689e6deb",
   "metadata": {},
   "outputs": [
    {
     "name": "stdout",
     "output_type": "stream",
     "text": [
      "Q1 =  2.0\n",
      "Q2 =  5.0\n",
      "Q3 =  10.0\n",
      "IQR =  8.0\n",
      "up_lim =  22.0\n",
      "low_lim =  -10.0\n",
      "outliers =  [37.0, 24.0, 25.0, 24.0, 30.0, 24.0, 28.0, 38.0, 35.0, 36.0, 31.0, 25.0, 30.0, 30.0, 23.0, 58.0, 62.0, 52.0, 23.0, 40.0, 54.0, 25.0, 26.0, 26.0, 33.0, 27.0, 32.0, 34.0, 25.0, 23.0, 34.0, 25.0, 23.0, 26.0, 26.0, 31.0, 24.0, 24.0, 25.0, 23.0, 29.0, 25.0, 28.0, 25.0, 70.0, 23.0, 23.0, 24.0, 23.0, 27.0, 29.0, 33.0, 33.0, 23.0, 24.0, 23.0, 35.0, 26.0, 27.0, 113.0, 44.0, 26.0, 46.0, 83.0, 25.0, 63.0, 54.0, 140.0, 88.0, 39.0, 100.0, 58.0, 26.0, 29.0, 56.0, 29.0, 25.0, 23.0, 23.0, 66.0, 45.0, 33.0, 37.0, 24.0, 25.0, 24.0, 30.0, 24.0, 28.0, 38.0, 35.0, 30.0, 30.0, 23.0, 58.0, 62.0, 52.0, 23.0, 40.0, 54.0, 25.0, 32.0, 34.0, 25.0, 23.0, 34.0, 25.0, 23.0, 26.0, 26.0, 25.0, 23.0, 29.0, 33.0, 26.0, 23.0, 35.0, 26.0, 27.0, 113.0, 44.0, 26.0, 46.0, 83.0, 31.0, 24.0, 24.0, 23.0, 23.0, 24.0, 23.0, 25.0, 54.0, 140.0, 88.0, 39.0, 100.0, 58.0, 26.0, 33.0, 27.0, 36.0, 31.0, 25.0, 25.0, 63.0, 23.0, 23.0, 66.0, 26.0, 29.0, 56.0, 29.0, 45.0, 28.0, 25.0, 25.0, 70.0, 27.0, 29.0, 33.0, 33.0, 23.0, 24.0]\n"
     ]
    }
   ],
   "source": [
    "Q1 = data2['UsefulCount'].quantile(0.25)\n",
    "Q2 = data2['UsefulCount'].quantile(0.50)\n",
    "Q3 = data2['UsefulCount'].quantile(0.75)\n",
    "\n",
    "print('Q1 = ',Q1)\n",
    "print('Q2 = ',Q2)\n",
    "print('Q3 = ',Q3)\n",
    "\n",
    "IQR = Q3-Q1\n",
    "print('IQR = ',IQR)\n",
    "\n",
    "up_lim = Q3+1.5*IQR\n",
    "low_lim = Q1-1.5*IQR\n",
    "print('up_lim = ',up_lim)\n",
    "print('low_lim = ',low_lim)\n",
    "\n",
    "outlier=[]\n",
    "for x in data2['UsefulCount']:\n",
    "    if (x<low_lim) or (x>up_lim):\n",
    "        outlier.append(x)\n",
    "print('outliers = ',outlier)"
   ]
  },
  {
   "cell_type": "code",
   "execution_count": 51,
   "id": "93c803a5",
   "metadata": {},
   "outputs": [],
   "source": [
    "data2 = data2.drop(data2.loc[data2[\"UsefulCount\"]>up_lim].index)"
   ]
  },
  {
   "cell_type": "code",
   "execution_count": 52,
   "id": "fdc270eb",
   "metadata": {},
   "outputs": [
    {
     "data": {
      "text/plain": [
       "(7776, 12)"
      ]
     },
     "execution_count": 52,
     "metadata": {},
     "output_type": "execute_result"
    }
   ],
   "source": [
    "data2.shape"
   ]
  },
  {
   "cell_type": "code",
   "execution_count": 53,
   "id": "0a45e1c9",
   "metadata": {},
   "outputs": [
    {
     "data": {
      "image/png": "[encoded data removed]",
      "text/plain": [
       "<Figure size 640x480 with 1 Axes>"
      ]
     },
     "metadata": {},
     "output_type": "display_data"
    }
   ],
   "source": [
    "## Boxplot after outlier handling of Usefulcount column\n",
    "plt.boxplot(data2[\"UsefulCount\"])\n",
    "plt.show()"
   ]
  },
  {
   "cell_type": "code",
   "execution_count": 54,
   "id": "0fecdef6",
   "metadata": {},
   "outputs": [
    {
     "data": {
      "text/plain": [
       "(7776, 12)"
      ]
     },
     "execution_count": 54,
     "metadata": {},
     "output_type": "execute_result"
    }
   ],
   "source": [
    "data2.shape"
   ]
  },
  {
   "cell_type": "markdown",
   "id": "525c5499",
   "metadata": {},
   "source": [
    "#### Checking the 'Sides' column with respect to the values of \"Effectiveness column."
   ]
  },
  {
   "cell_type": "code",
   "execution_count": 55,
   "id": "02055988",
   "metadata": {},
   "outputs": [],
   "source": [
    "data_effe_5 = data2[data2.Effectiveness == 5]"
   ]
  },
  {
   "cell_type": "code",
   "execution_count": 56,
   "id": "8840bc23",
   "metadata": {},
   "outputs": [
    {
     "data": {
      "text/html": [
       "<div>\n",
       "<style scoped>\n",
       "    .dataframe tbody tr th:only-of-type {\n",
       "        vertical-align: middle;\n",
       "    }\n",
       "\n",
       "    .dataframe tbody tr th {\n",
       "        vertical-align: top;\n",
       "    }\n",
       "\n",
       "    .dataframe thead th {\n",
       "        text-align: right;\n",
       "    }\n",
       "</style>\n",
       "<table border=\"1\" class=\"dataframe\">\n",
       "  <thead>\n",
       "    <tr style=\"text-align: right;\">\n",
       "      <th></th>\n",
       "      <th>Name</th>\n",
       "      <th>Race</th>\n",
       "      <th>Age</th>\n",
       "      <th>Condition</th>\n",
       "      <th>Date</th>\n",
       "      <th>Drug</th>\n",
       "      <th>EaseofUse</th>\n",
       "      <th>Effectiveness</th>\n",
       "      <th>Satisfaction</th>\n",
       "      <th>Sex</th>\n",
       "      <th>Sides</th>\n",
       "      <th>UsefulCount</th>\n",
       "    </tr>\n",
       "  </thead>\n",
       "  <tbody>\n",
       "    <tr>\n",
       "      <th>1</th>\n",
       "      <td>Hosea</td>\n",
       "      <td>Hispanic</td>\n",
       "      <td>55-64</td>\n",
       "      <td>High Blood Pressure</td>\n",
       "      <td>1/14/2020</td>\n",
       "      <td>lisinopril solution</td>\n",
       "      <td>4.0</td>\n",
       "      <td>5.0</td>\n",
       "      <td>4.0</td>\n",
       "      <td>Male</td>\n",
       "      <td>Dizziness ,  lightheadedness , tiredness, or  ...</td>\n",
       "      <td>3.0</td>\n",
       "    </tr>\n",
       "    <tr>\n",
       "      <th>2</th>\n",
       "      <td>Chong</td>\n",
       "      <td>Asian</td>\n",
       "      <td>65-74</td>\n",
       "      <td>High Blood Pressure</td>\n",
       "      <td>10/17/2019</td>\n",
       "      <td>lisinopril solution</td>\n",
       "      <td>5.0</td>\n",
       "      <td>5.0</td>\n",
       "      <td>5.0</td>\n",
       "      <td>Male</td>\n",
       "      <td>Dizziness ,  lightheadedness , tiredness, or  ...</td>\n",
       "      <td>6.0</td>\n",
       "    </tr>\n",
       "    <tr>\n",
       "      <th>7</th>\n",
       "      <td>Shawanda</td>\n",
       "      <td>White</td>\n",
       "      <td>65-74</td>\n",
       "      <td>High Blood Pressure</td>\n",
       "      <td>5/16/2019</td>\n",
       "      <td>lisinopril solution</td>\n",
       "      <td>5.0</td>\n",
       "      <td>5.0</td>\n",
       "      <td>5.0</td>\n",
       "      <td>Male</td>\n",
       "      <td>Dizziness ,  lightheadedness , tiredness, or  ...</td>\n",
       "      <td>6.0</td>\n",
       "    </tr>\n",
       "    <tr>\n",
       "      <th>11</th>\n",
       "      <td>Georgianne</td>\n",
       "      <td>Hispanic</td>\n",
       "      <td>45-54</td>\n",
       "      <td>High Blood Pressure</td>\n",
       "      <td>3/18/2019</td>\n",
       "      <td>lisinopril solution</td>\n",
       "      <td>5.0</td>\n",
       "      <td>5.0</td>\n",
       "      <td>5.0</td>\n",
       "      <td>Female</td>\n",
       "      <td>Dizziness ,  lightheadedness , tiredness, or  ...</td>\n",
       "      <td>19.0</td>\n",
       "    </tr>\n",
       "    <tr>\n",
       "      <th>14</th>\n",
       "      <td>Bob</td>\n",
       "      <td>Hispanic</td>\n",
       "      <td>45-54</td>\n",
       "      <td>High Blood Pressure</td>\n",
       "      <td>1/26/2019</td>\n",
       "      <td>lisinopril solution</td>\n",
       "      <td>5.0</td>\n",
       "      <td>5.0</td>\n",
       "      <td>5.0</td>\n",
       "      <td>Female</td>\n",
       "      <td>Dizziness ,  lightheadedness , tiredness, or  ...</td>\n",
       "      <td>21.0</td>\n",
       "    </tr>\n",
       "    <tr>\n",
       "      <th>...</th>\n",
       "      <td>...</td>\n",
       "      <td>...</td>\n",
       "      <td>...</td>\n",
       "      <td>...</td>\n",
       "      <td>...</td>\n",
       "      <td>...</td>\n",
       "      <td>...</td>\n",
       "      <td>...</td>\n",
       "      <td>...</td>\n",
       "      <td>...</td>\n",
       "      <td>...</td>\n",
       "      <td>...</td>\n",
       "    </tr>\n",
       "    <tr>\n",
       "      <th>7922</th>\n",
       "      <td>Shantae</td>\n",
       "      <td>White</td>\n",
       "      <td>65-74</td>\n",
       "      <td>High Blood Pressure</td>\n",
       "      <td>5/16/2008</td>\n",
       "      <td>lisinopril</td>\n",
       "      <td>5.0</td>\n",
       "      <td>5.0</td>\n",
       "      <td>5.0</td>\n",
       "      <td>Male</td>\n",
       "      <td>Dizziness ,  lightheadedness , tiredness, or  ...</td>\n",
       "      <td>7.0</td>\n",
       "    </tr>\n",
       "    <tr>\n",
       "      <th>7929</th>\n",
       "      <td>Keenan</td>\n",
       "      <td>Asian</td>\n",
       "      <td>55-64</td>\n",
       "      <td>High Blood Pressure</td>\n",
       "      <td>5/12/2008</td>\n",
       "      <td>lisinopril</td>\n",
       "      <td>5.0</td>\n",
       "      <td>5.0</td>\n",
       "      <td>5.0</td>\n",
       "      <td>Female</td>\n",
       "      <td>Dizziness ,  lightheadedness , tiredness, or  ...</td>\n",
       "      <td>2.0</td>\n",
       "    </tr>\n",
       "    <tr>\n",
       "      <th>7932</th>\n",
       "      <td>Franklin</td>\n",
       "      <td>White</td>\n",
       "      <td>45-54</td>\n",
       "      <td>High Blood Pressure</td>\n",
       "      <td>5/10/2008</td>\n",
       "      <td>lisinopril</td>\n",
       "      <td>5.0</td>\n",
       "      <td>5.0</td>\n",
       "      <td>5.0</td>\n",
       "      <td>Female</td>\n",
       "      <td>Dizziness ,  lightheadedness , tiredness, or  ...</td>\n",
       "      <td>2.0</td>\n",
       "    </tr>\n",
       "    <tr>\n",
       "      <th>7933</th>\n",
       "      <td>Angila</td>\n",
       "      <td>Asian</td>\n",
       "      <td>45-54</td>\n",
       "      <td>High Blood Pressure</td>\n",
       "      <td>5/9/2008</td>\n",
       "      <td>lisinopril</td>\n",
       "      <td>5.0</td>\n",
       "      <td>5.0</td>\n",
       "      <td>4.0</td>\n",
       "      <td>Female</td>\n",
       "      <td>Dizziness ,  lightheadedness , tiredness, or  ...</td>\n",
       "      <td>3.0</td>\n",
       "    </tr>\n",
       "    <tr>\n",
       "      <th>7939</th>\n",
       "      <td>Wendell</td>\n",
       "      <td>Hispanic</td>\n",
       "      <td>45-54</td>\n",
       "      <td>High Blood Pressure</td>\n",
       "      <td>5/4/2008</td>\n",
       "      <td>lisinopril</td>\n",
       "      <td>5.0</td>\n",
       "      <td>5.0</td>\n",
       "      <td>5.0</td>\n",
       "      <td>Female</td>\n",
       "      <td>Dizziness ,  lightheadedness , tiredness, or  ...</td>\n",
       "      <td>5.0</td>\n",
       "    </tr>\n",
       "  </tbody>\n",
       "</table>\n",
       "<p>2056 rows × 12 columns</p>\n",
       "</div>"
      ],
      "text/plain": [
       "            Name      Race    Age            Condition        Date  \\\n",
       "1          Hosea  Hispanic  55-64  High Blood Pressure   1/14/2020   \n",
       "2          Chong     Asian  65-74  High Blood Pressure  10/17/2019   \n",
       "7       Shawanda     White  65-74  High Blood Pressure   5/16/2019   \n",
       "11    Georgianne  Hispanic  45-54  High Blood Pressure   3/18/2019   \n",
       "14           Bob  Hispanic  45-54  High Blood Pressure   1/26/2019   \n",
       "...          ...       ...    ...                  ...         ...   \n",
       "7922     Shantae     White  65-74  High Blood Pressure   5/16/2008   \n",
       "7929      Keenan     Asian  55-64  High Blood Pressure   5/12/2008   \n",
       "7932    Franklin     White  45-54  High Blood Pressure   5/10/2008   \n",
       "7933      Angila     Asian  45-54  High Blood Pressure    5/9/2008   \n",
       "7939     Wendell  Hispanic  45-54  High Blood Pressure    5/4/2008   \n",
       "\n",
       "                     Drug  EaseofUse  Effectiveness  Satisfaction     Sex  \\\n",
       "1     lisinopril solution        4.0            5.0           4.0    Male   \n",
       "2     lisinopril solution        5.0            5.0           5.0    Male   \n",
       "7     lisinopril solution        5.0            5.0           5.0    Male   \n",
       "11    lisinopril solution        5.0            5.0           5.0  Female   \n",
       "14    lisinopril solution        5.0            5.0           5.0  Female   \n",
       "...                   ...        ...            ...           ...     ...   \n",
       "7922           lisinopril        5.0            5.0           5.0    Male   \n",
       "7929           lisinopril        5.0            5.0           5.0  Female   \n",
       "7932           lisinopril        5.0            5.0           5.0  Female   \n",
       "7933           lisinopril        5.0            5.0           4.0  Female   \n",
       "7939           lisinopril        5.0            5.0           5.0  Female   \n",
       "\n",
       "                                                  Sides  UsefulCount  \n",
       "1     Dizziness ,  lightheadedness , tiredness, or  ...          3.0  \n",
       "2     Dizziness ,  lightheadedness , tiredness, or  ...          6.0  \n",
       "7     Dizziness ,  lightheadedness , tiredness, or  ...          6.0  \n",
       "11    Dizziness ,  lightheadedness , tiredness, or  ...         19.0  \n",
       "14    Dizziness ,  lightheadedness , tiredness, or  ...         21.0  \n",
       "...                                                 ...          ...  \n",
       "7922  Dizziness ,  lightheadedness , tiredness, or  ...          7.0  \n",
       "7929  Dizziness ,  lightheadedness , tiredness, or  ...          2.0  \n",
       "7932  Dizziness ,  lightheadedness , tiredness, or  ...          2.0  \n",
       "7933  Dizziness ,  lightheadedness , tiredness, or  ...          3.0  \n",
       "7939  Dizziness ,  lightheadedness , tiredness, or  ...          5.0  \n",
       "\n",
       "[2056 rows x 12 columns]"
      ]
     },
     "execution_count": 56,
     "metadata": {},
     "output_type": "execute_result"
    }
   ],
   "source": [
    "data_effe_5"
   ]
  },
  {
   "cell_type": "code",
   "execution_count": 57,
   "id": "b5a4bdf9",
   "metadata": {},
   "outputs": [
    {
     "data": {
      "text/plain": [
       "1"
      ]
     },
     "execution_count": 57,
     "metadata": {},
     "output_type": "execute_result"
    }
   ],
   "source": [
    "data_effe_5['Sides'].nunique()"
   ]
  },
  {
   "cell_type": "markdown",
   "id": "0c198f3c",
   "metadata": {},
   "source": [
    "Dizziness ,  lightheadedness , tiredness, or  headache  may occur as your body adjusts to the  medication . Dry  cough  may also occur."
   ]
  },
  {
   "cell_type": "code",
   "execution_count": 58,
   "id": "5e16ad57",
   "metadata": {},
   "outputs": [],
   "source": [
    "data_effe_4 = data2[data2.Effectiveness == 4]"
   ]
  },
  {
   "cell_type": "code",
   "execution_count": 59,
   "id": "0875c922",
   "metadata": {},
   "outputs": [
    {
     "data": {
      "text/html": [
       "<div>\n",
       "<style scoped>\n",
       "    .dataframe tbody tr th:only-of-type {\n",
       "        vertical-align: middle;\n",
       "    }\n",
       "\n",
       "    .dataframe tbody tr th {\n",
       "        vertical-align: top;\n",
       "    }\n",
       "\n",
       "    .dataframe thead th {\n",
       "        text-align: right;\n",
       "    }\n",
       "</style>\n",
       "<table border=\"1\" class=\"dataframe\">\n",
       "  <thead>\n",
       "    <tr style=\"text-align: right;\">\n",
       "      <th></th>\n",
       "      <th>Name</th>\n",
       "      <th>Race</th>\n",
       "      <th>Age</th>\n",
       "      <th>Condition</th>\n",
       "      <th>Date</th>\n",
       "      <th>Drug</th>\n",
       "      <th>EaseofUse</th>\n",
       "      <th>Effectiveness</th>\n",
       "      <th>Satisfaction</th>\n",
       "      <th>Sex</th>\n",
       "      <th>Sides</th>\n",
       "      <th>UsefulCount</th>\n",
       "    </tr>\n",
       "  </thead>\n",
       "  <tbody>\n",
       "    <tr>\n",
       "      <th>0</th>\n",
       "      <td>Angelena</td>\n",
       "      <td>White</td>\n",
       "      <td>75 or over</td>\n",
       "      <td>High Blood Pressure</td>\n",
       "      <td>2/8/2020</td>\n",
       "      <td>lisinopril solution</td>\n",
       "      <td>5.0</td>\n",
       "      <td>4.0</td>\n",
       "      <td>4.0</td>\n",
       "      <td>Female</td>\n",
       "      <td>Dizziness ,  lightheadedness , tiredness, or  ...</td>\n",
       "      <td>3.0</td>\n",
       "    </tr>\n",
       "    <tr>\n",
       "      <th>3</th>\n",
       "      <td>Adaline</td>\n",
       "      <td>Black</td>\n",
       "      <td>55-64</td>\n",
       "      <td>High Blood Pressure</td>\n",
       "      <td>10/13/2019</td>\n",
       "      <td>lisinopril solution</td>\n",
       "      <td>2.0</td>\n",
       "      <td>4.0</td>\n",
       "      <td>2.0</td>\n",
       "      <td>Male</td>\n",
       "      <td>Dizziness ,  lightheadedness , tiredness, or  ...</td>\n",
       "      <td>12.0</td>\n",
       "    </tr>\n",
       "    <tr>\n",
       "      <th>10</th>\n",
       "      <td>Columbus</td>\n",
       "      <td>Asian</td>\n",
       "      <td>65-74</td>\n",
       "      <td>High Blood Pressure</td>\n",
       "      <td>3/21/2019</td>\n",
       "      <td>lisinopril solution</td>\n",
       "      <td>5.0</td>\n",
       "      <td>4.0</td>\n",
       "      <td>4.0</td>\n",
       "      <td>Female</td>\n",
       "      <td>Dizziness ,  lightheadedness , tiredness, or  ...</td>\n",
       "      <td>14.0</td>\n",
       "    </tr>\n",
       "    <tr>\n",
       "      <th>15</th>\n",
       "      <td>Genaro</td>\n",
       "      <td>Black</td>\n",
       "      <td>45-54</td>\n",
       "      <td>Migraine Prevention</td>\n",
       "      <td>1/25/2019</td>\n",
       "      <td>lisinopril solution</td>\n",
       "      <td>4.0</td>\n",
       "      <td>4.0</td>\n",
       "      <td>4.0</td>\n",
       "      <td>Female</td>\n",
       "      <td>Dizziness ,  lightheadedness , tiredness, or  ...</td>\n",
       "      <td>0.0</td>\n",
       "    </tr>\n",
       "    <tr>\n",
       "      <th>20</th>\n",
       "      <td>Dustin</td>\n",
       "      <td>Black</td>\n",
       "      <td>55-64</td>\n",
       "      <td>High Blood Pressure</td>\n",
       "      <td>12/11/2018</td>\n",
       "      <td>lisinopril solution</td>\n",
       "      <td>5.0</td>\n",
       "      <td>4.0</td>\n",
       "      <td>3.0</td>\n",
       "      <td>Male</td>\n",
       "      <td>Dizziness ,  lightheadedness , tiredness, or  ...</td>\n",
       "      <td>9.0</td>\n",
       "    </tr>\n",
       "  </tbody>\n",
       "</table>\n",
       "</div>"
      ],
      "text/plain": [
       "        Name   Race         Age            Condition        Date  \\\n",
       "0   Angelena  White  75 or over  High Blood Pressure    2/8/2020   \n",
       "3    Adaline  Black       55-64  High Blood Pressure  10/13/2019   \n",
       "10  Columbus  Asian       65-74  High Blood Pressure   3/21/2019   \n",
       "15    Genaro  Black       45-54  Migraine Prevention   1/25/2019   \n",
       "20    Dustin  Black       55-64  High Blood Pressure  12/11/2018   \n",
       "\n",
       "                   Drug  EaseofUse  Effectiveness  Satisfaction     Sex  \\\n",
       "0   lisinopril solution        5.0            4.0           4.0  Female   \n",
       "3   lisinopril solution        2.0            4.0           2.0    Male   \n",
       "10  lisinopril solution        5.0            4.0           4.0  Female   \n",
       "15  lisinopril solution        4.0            4.0           4.0  Female   \n",
       "20  lisinopril solution        5.0            4.0           3.0    Male   \n",
       "\n",
       "                                                Sides  UsefulCount  \n",
       "0   Dizziness ,  lightheadedness , tiredness, or  ...          3.0  \n",
       "3   Dizziness ,  lightheadedness , tiredness, or  ...         12.0  \n",
       "10  Dizziness ,  lightheadedness , tiredness, or  ...         14.0  \n",
       "15  Dizziness ,  lightheadedness , tiredness, or  ...          0.0  \n",
       "20  Dizziness ,  lightheadedness , tiredness, or  ...          9.0  "
      ]
     },
     "execution_count": 59,
     "metadata": {},
     "output_type": "execute_result"
    }
   ],
   "source": [
    "data_effe_4.head()"
   ]
  },
  {
   "cell_type": "code",
   "execution_count": 60,
   "id": "fdb74c06",
   "metadata": {},
   "outputs": [
    {
     "data": {
      "text/plain": [
       "1"
      ]
     },
     "execution_count": 60,
     "metadata": {},
     "output_type": "execute_result"
    }
   ],
   "source": [
    "data_effe_4['Sides'].nunique()"
   ]
  },
  {
   "cell_type": "code",
   "execution_count": 61,
   "id": "d8d6d55b",
   "metadata": {},
   "outputs": [],
   "source": [
    "data_effe_3 = data2[data2.Effectiveness == 3]"
   ]
  },
  {
   "cell_type": "code",
   "execution_count": 62,
   "id": "5ab3a16e",
   "metadata": {},
   "outputs": [
    {
     "data": {
      "text/html": [
       "<div>\n",
       "<style scoped>\n",
       "    .dataframe tbody tr th:only-of-type {\n",
       "        vertical-align: middle;\n",
       "    }\n",
       "\n",
       "    .dataframe tbody tr th {\n",
       "        vertical-align: top;\n",
       "    }\n",
       "\n",
       "    .dataframe thead th {\n",
       "        text-align: right;\n",
       "    }\n",
       "</style>\n",
       "<table border=\"1\" class=\"dataframe\">\n",
       "  <thead>\n",
       "    <tr style=\"text-align: right;\">\n",
       "      <th></th>\n",
       "      <th>Name</th>\n",
       "      <th>Race</th>\n",
       "      <th>Age</th>\n",
       "      <th>Condition</th>\n",
       "      <th>Date</th>\n",
       "      <th>Drug</th>\n",
       "      <th>EaseofUse</th>\n",
       "      <th>Effectiveness</th>\n",
       "      <th>Satisfaction</th>\n",
       "      <th>Sex</th>\n",
       "      <th>Sides</th>\n",
       "      <th>UsefulCount</th>\n",
       "    </tr>\n",
       "  </thead>\n",
       "  <tbody>\n",
       "    <tr>\n",
       "      <th>9</th>\n",
       "      <td>Julene</td>\n",
       "      <td>White</td>\n",
       "      <td>55-64</td>\n",
       "      <td>High Blood Pressure</td>\n",
       "      <td>3/27/2019</td>\n",
       "      <td>lisinopril solution</td>\n",
       "      <td>5.0</td>\n",
       "      <td>3.0</td>\n",
       "      <td>2.0</td>\n",
       "      <td>Male</td>\n",
       "      <td>Dizziness ,  lightheadedness , tiredness, or  ...</td>\n",
       "      <td>11.0</td>\n",
       "    </tr>\n",
       "    <tr>\n",
       "      <th>17</th>\n",
       "      <td>Edison</td>\n",
       "      <td>Asian</td>\n",
       "      <td>35-44</td>\n",
       "      <td>High Blood Pressure</td>\n",
       "      <td>1/6/2019</td>\n",
       "      <td>lisinopril solution</td>\n",
       "      <td>5.0</td>\n",
       "      <td>3.0</td>\n",
       "      <td>2.0</td>\n",
       "      <td>Female</td>\n",
       "      <td>Dizziness ,  lightheadedness , tiredness, or  ...</td>\n",
       "      <td>7.0</td>\n",
       "    </tr>\n",
       "    <tr>\n",
       "      <th>26</th>\n",
       "      <td>Rafael</td>\n",
       "      <td>Hispanic</td>\n",
       "      <td>65-74</td>\n",
       "      <td>High Blood Pressure</td>\n",
       "      <td>9/7/2018</td>\n",
       "      <td>lisinopril solution</td>\n",
       "      <td>2.0</td>\n",
       "      <td>3.0</td>\n",
       "      <td>3.0</td>\n",
       "      <td>Male</td>\n",
       "      <td>Dizziness ,  lightheadedness , tiredness, or  ...</td>\n",
       "      <td>2.0</td>\n",
       "    </tr>\n",
       "    <tr>\n",
       "      <th>32</th>\n",
       "      <td>Keith</td>\n",
       "      <td>White</td>\n",
       "      <td>45-54</td>\n",
       "      <td>High Blood Pressure</td>\n",
       "      <td>4/26/2018</td>\n",
       "      <td>lisinopril solution</td>\n",
       "      <td>3.0</td>\n",
       "      <td>3.0</td>\n",
       "      <td>3.0</td>\n",
       "      <td>Male</td>\n",
       "      <td>Dizziness ,  lightheadedness , tiredness, or  ...</td>\n",
       "      <td>7.0</td>\n",
       "    </tr>\n",
       "    <tr>\n",
       "      <th>33</th>\n",
       "      <td>Katherina</td>\n",
       "      <td>Hispanic</td>\n",
       "      <td>55-64</td>\n",
       "      <td>High Blood Pressure</td>\n",
       "      <td>4/20/2018</td>\n",
       "      <td>lisinopril solution</td>\n",
       "      <td>5.0</td>\n",
       "      <td>3.0</td>\n",
       "      <td>2.0</td>\n",
       "      <td>Female</td>\n",
       "      <td>Dizziness ,  lightheadedness , tiredness, or  ...</td>\n",
       "      <td>11.0</td>\n",
       "    </tr>\n",
       "  </tbody>\n",
       "</table>\n",
       "</div>"
      ],
      "text/plain": [
       "         Name      Race    Age            Condition       Date  \\\n",
       "9      Julene     White  55-64  High Blood Pressure  3/27/2019   \n",
       "17     Edison     Asian  35-44  High Blood Pressure   1/6/2019   \n",
       "26     Rafael  Hispanic  65-74  High Blood Pressure   9/7/2018   \n",
       "32      Keith     White  45-54  High Blood Pressure  4/26/2018   \n",
       "33  Katherina  Hispanic  55-64  High Blood Pressure  4/20/2018   \n",
       "\n",
       "                   Drug  EaseofUse  Effectiveness  Satisfaction     Sex  \\\n",
       "9   lisinopril solution        5.0            3.0           2.0    Male   \n",
       "17  lisinopril solution        5.0            3.0           2.0  Female   \n",
       "26  lisinopril solution        2.0            3.0           3.0    Male   \n",
       "32  lisinopril solution        3.0            3.0           3.0    Male   \n",
       "33  lisinopril solution        5.0            3.0           2.0  Female   \n",
       "\n",
       "                                                Sides  UsefulCount  \n",
       "9   Dizziness ,  lightheadedness , tiredness, or  ...         11.0  \n",
       "17  Dizziness ,  lightheadedness , tiredness, or  ...          7.0  \n",
       "26  Dizziness ,  lightheadedness , tiredness, or  ...          2.0  \n",
       "32  Dizziness ,  lightheadedness , tiredness, or  ...          7.0  \n",
       "33  Dizziness ,  lightheadedness , tiredness, or  ...         11.0  "
      ]
     },
     "execution_count": 62,
     "metadata": {},
     "output_type": "execute_result"
    }
   ],
   "source": [
    "data_effe_3.head()"
   ]
  },
  {
   "cell_type": "code",
   "execution_count": 63,
   "id": "38c60d62",
   "metadata": {},
   "outputs": [
    {
     "data": {
      "text/plain": [
       "1"
      ]
     },
     "execution_count": 63,
     "metadata": {},
     "output_type": "execute_result"
    }
   ],
   "source": [
    "data_effe_3['Sides'].nunique()"
   ]
  },
  {
   "cell_type": "code",
   "execution_count": 64,
   "id": "ad4aacb6",
   "metadata": {},
   "outputs": [],
   "source": [
    "data_effe_2 = data2[data2.Effectiveness == 2]"
   ]
  },
  {
   "cell_type": "code",
   "execution_count": 65,
   "id": "56d34b1c",
   "metadata": {},
   "outputs": [
    {
     "data": {
      "text/html": [
       "<div>\n",
       "<style scoped>\n",
       "    .dataframe tbody tr th:only-of-type {\n",
       "        vertical-align: middle;\n",
       "    }\n",
       "\n",
       "    .dataframe tbody tr th {\n",
       "        vertical-align: top;\n",
       "    }\n",
       "\n",
       "    .dataframe thead th {\n",
       "        text-align: right;\n",
       "    }\n",
       "</style>\n",
       "<table border=\"1\" class=\"dataframe\">\n",
       "  <thead>\n",
       "    <tr style=\"text-align: right;\">\n",
       "      <th></th>\n",
       "      <th>Name</th>\n",
       "      <th>Race</th>\n",
       "      <th>Age</th>\n",
       "      <th>Condition</th>\n",
       "      <th>Date</th>\n",
       "      <th>Drug</th>\n",
       "      <th>EaseofUse</th>\n",
       "      <th>Effectiveness</th>\n",
       "      <th>Satisfaction</th>\n",
       "      <th>Sex</th>\n",
       "      <th>Sides</th>\n",
       "      <th>UsefulCount</th>\n",
       "    </tr>\n",
       "  </thead>\n",
       "  <tbody>\n",
       "    <tr>\n",
       "      <th>8</th>\n",
       "      <td>Williemae</td>\n",
       "      <td>White</td>\n",
       "      <td>65-74</td>\n",
       "      <td>High Blood Pressure</td>\n",
       "      <td>5/6/2019</td>\n",
       "      <td>lisinopril solution</td>\n",
       "      <td>3.0</td>\n",
       "      <td>2.0</td>\n",
       "      <td>2.0</td>\n",
       "      <td>Female</td>\n",
       "      <td>Dizziness ,  lightheadedness , tiredness, or  ...</td>\n",
       "      <td>4.0</td>\n",
       "    </tr>\n",
       "    <tr>\n",
       "      <th>19</th>\n",
       "      <td>Micheal</td>\n",
       "      <td>White</td>\n",
       "      <td>25-34</td>\n",
       "      <td>High Blood Pressure</td>\n",
       "      <td>12/11/2018</td>\n",
       "      <td>lisinopril solution</td>\n",
       "      <td>2.0</td>\n",
       "      <td>2.0</td>\n",
       "      <td>2.0</td>\n",
       "      <td>Male</td>\n",
       "      <td>Dizziness ,  lightheadedness , tiredness, or  ...</td>\n",
       "      <td>11.0</td>\n",
       "    </tr>\n",
       "    <tr>\n",
       "      <th>23</th>\n",
       "      <td>Sung</td>\n",
       "      <td>Black</td>\n",
       "      <td>65-74</td>\n",
       "      <td>High Blood Pressure</td>\n",
       "      <td>10/20/2018</td>\n",
       "      <td>lisinopril solution</td>\n",
       "      <td>2.0</td>\n",
       "      <td>2.0</td>\n",
       "      <td>1.0</td>\n",
       "      <td>Female</td>\n",
       "      <td>Dizziness ,  lightheadedness , tiredness, or  ...</td>\n",
       "      <td>15.0</td>\n",
       "    </tr>\n",
       "    <tr>\n",
       "      <th>30</th>\n",
       "      <td>Lorenzo</td>\n",
       "      <td>Hispanic</td>\n",
       "      <td>55-64</td>\n",
       "      <td>High Blood Pressure</td>\n",
       "      <td>5/31/2018</td>\n",
       "      <td>lisinopril solution</td>\n",
       "      <td>2.0</td>\n",
       "      <td>2.0</td>\n",
       "      <td>1.0</td>\n",
       "      <td>Male</td>\n",
       "      <td>Dizziness ,  lightheadedness , tiredness, or  ...</td>\n",
       "      <td>19.0</td>\n",
       "    </tr>\n",
       "    <tr>\n",
       "      <th>61</th>\n",
       "      <td>Kasha</td>\n",
       "      <td>White</td>\n",
       "      <td>45-54</td>\n",
       "      <td>High Blood Pressure</td>\n",
       "      <td>3/21/2017</td>\n",
       "      <td>lisinopril solution</td>\n",
       "      <td>2.0</td>\n",
       "      <td>2.0</td>\n",
       "      <td>2.0</td>\n",
       "      <td>Female</td>\n",
       "      <td>Dizziness ,  lightheadedness , tiredness, or  ...</td>\n",
       "      <td>8.0</td>\n",
       "    </tr>\n",
       "  </tbody>\n",
       "</table>\n",
       "</div>"
      ],
      "text/plain": [
       "         Name      Race    Age            Condition        Date  \\\n",
       "8   Williemae     White  65-74  High Blood Pressure    5/6/2019   \n",
       "19    Micheal     White  25-34  High Blood Pressure  12/11/2018   \n",
       "23       Sung     Black  65-74  High Blood Pressure  10/20/2018   \n",
       "30    Lorenzo  Hispanic  55-64  High Blood Pressure   5/31/2018   \n",
       "61      Kasha     White  45-54  High Blood Pressure   3/21/2017   \n",
       "\n",
       "                   Drug  EaseofUse  Effectiveness  Satisfaction     Sex  \\\n",
       "8   lisinopril solution        3.0            2.0           2.0  Female   \n",
       "19  lisinopril solution        2.0            2.0           2.0    Male   \n",
       "23  lisinopril solution        2.0            2.0           1.0  Female   \n",
       "30  lisinopril solution        2.0            2.0           1.0    Male   \n",
       "61  lisinopril solution        2.0            2.0           2.0  Female   \n",
       "\n",
       "                                                Sides  UsefulCount  \n",
       "8   Dizziness ,  lightheadedness , tiredness, or  ...          4.0  \n",
       "19  Dizziness ,  lightheadedness , tiredness, or  ...         11.0  \n",
       "23  Dizziness ,  lightheadedness , tiredness, or  ...         15.0  \n",
       "30  Dizziness ,  lightheadedness , tiredness, or  ...         19.0  \n",
       "61  Dizziness ,  lightheadedness , tiredness, or  ...          8.0  "
      ]
     },
     "execution_count": 65,
     "metadata": {},
     "output_type": "execute_result"
    }
   ],
   "source": [
    "data_effe_2.head()"
   ]
  },
  {
   "cell_type": "code",
   "execution_count": 66,
   "id": "bef9a1fe",
   "metadata": {},
   "outputs": [
    {
     "data": {
      "text/plain": [
       "1"
      ]
     },
     "execution_count": 66,
     "metadata": {},
     "output_type": "execute_result"
    }
   ],
   "source": [
    "data_effe_2['Sides'].nunique()"
   ]
  },
  {
   "cell_type": "code",
   "execution_count": 67,
   "id": "bfa73ded",
   "metadata": {},
   "outputs": [],
   "source": [
    "data_effe_1 = data2[data2.Effectiveness == 1]"
   ]
  },
  {
   "cell_type": "code",
   "execution_count": 68,
   "id": "5636e00b",
   "metadata": {},
   "outputs": [
    {
     "data": {
      "text/html": [
       "<div>\n",
       "<style scoped>\n",
       "    .dataframe tbody tr th:only-of-type {\n",
       "        vertical-align: middle;\n",
       "    }\n",
       "\n",
       "    .dataframe tbody tr th {\n",
       "        vertical-align: top;\n",
       "    }\n",
       "\n",
       "    .dataframe thead th {\n",
       "        text-align: right;\n",
       "    }\n",
       "</style>\n",
       "<table border=\"1\" class=\"dataframe\">\n",
       "  <thead>\n",
       "    <tr style=\"text-align: right;\">\n",
       "      <th></th>\n",
       "      <th>Name</th>\n",
       "      <th>Race</th>\n",
       "      <th>Age</th>\n",
       "      <th>Condition</th>\n",
       "      <th>Date</th>\n",
       "      <th>Drug</th>\n",
       "      <th>EaseofUse</th>\n",
       "      <th>Effectiveness</th>\n",
       "      <th>Satisfaction</th>\n",
       "      <th>Sex</th>\n",
       "      <th>Sides</th>\n",
       "      <th>UsefulCount</th>\n",
       "    </tr>\n",
       "  </thead>\n",
       "  <tbody>\n",
       "    <tr>\n",
       "      <th>4</th>\n",
       "      <td>Kathey</td>\n",
       "      <td>Hispanic</td>\n",
       "      <td>55-64</td>\n",
       "      <td>High Blood Pressure</td>\n",
       "      <td>8/16/2019</td>\n",
       "      <td>lisinopril solution</td>\n",
       "      <td>3.0</td>\n",
       "      <td>1.0</td>\n",
       "      <td>1.0</td>\n",
       "      <td>Female</td>\n",
       "      <td>Dizziness ,  lightheadedness , tiredness, or  ...</td>\n",
       "      <td>22.0</td>\n",
       "    </tr>\n",
       "    <tr>\n",
       "      <th>13</th>\n",
       "      <td>Apolonia</td>\n",
       "      <td>Asian</td>\n",
       "      <td>75 or over</td>\n",
       "      <td>High Blood Pressure</td>\n",
       "      <td>2/11/2019</td>\n",
       "      <td>lisinopril solution</td>\n",
       "      <td>5.0</td>\n",
       "      <td>1.0</td>\n",
       "      <td>1.0</td>\n",
       "      <td>Male</td>\n",
       "      <td>Dizziness ,  lightheadedness , tiredness, or  ...</td>\n",
       "      <td>5.0</td>\n",
       "    </tr>\n",
       "    <tr>\n",
       "      <th>18</th>\n",
       "      <td>Floyd</td>\n",
       "      <td>Hispanic</td>\n",
       "      <td>55-64</td>\n",
       "      <td>High Blood Pressure</td>\n",
       "      <td>12/21/2018</td>\n",
       "      <td>lisinopril solution</td>\n",
       "      <td>5.0</td>\n",
       "      <td>1.0</td>\n",
       "      <td>1.0</td>\n",
       "      <td>Male</td>\n",
       "      <td>Dizziness ,  lightheadedness , tiredness, or  ...</td>\n",
       "      <td>12.0</td>\n",
       "    </tr>\n",
       "    <tr>\n",
       "      <th>21</th>\n",
       "      <td>Merilyn</td>\n",
       "      <td>Black</td>\n",
       "      <td>45-54</td>\n",
       "      <td>High Blood Pressure</td>\n",
       "      <td>12/8/2018</td>\n",
       "      <td>lisinopril solution</td>\n",
       "      <td>1.0</td>\n",
       "      <td>1.0</td>\n",
       "      <td>1.0</td>\n",
       "      <td>Female</td>\n",
       "      <td>Dizziness ,  lightheadedness , tiredness, or  ...</td>\n",
       "      <td>19.0</td>\n",
       "    </tr>\n",
       "    <tr>\n",
       "      <th>22</th>\n",
       "      <td>Bryanna</td>\n",
       "      <td>Hispanic</td>\n",
       "      <td>45-54</td>\n",
       "      <td>High Blood Pressure</td>\n",
       "      <td>12/7/2018</td>\n",
       "      <td>lisinopril solution</td>\n",
       "      <td>5.0</td>\n",
       "      <td>1.0</td>\n",
       "      <td>1.0</td>\n",
       "      <td>Male</td>\n",
       "      <td>Dizziness ,  lightheadedness , tiredness, or  ...</td>\n",
       "      <td>8.0</td>\n",
       "    </tr>\n",
       "  </tbody>\n",
       "</table>\n",
       "</div>"
      ],
      "text/plain": [
       "        Name      Race         Age            Condition        Date  \\\n",
       "4     Kathey  Hispanic       55-64  High Blood Pressure   8/16/2019   \n",
       "13  Apolonia     Asian  75 or over  High Blood Pressure   2/11/2019   \n",
       "18     Floyd  Hispanic       55-64  High Blood Pressure  12/21/2018   \n",
       "21   Merilyn     Black       45-54  High Blood Pressure   12/8/2018   \n",
       "22   Bryanna  Hispanic       45-54  High Blood Pressure   12/7/2018   \n",
       "\n",
       "                   Drug  EaseofUse  Effectiveness  Satisfaction     Sex  \\\n",
       "4   lisinopril solution        3.0            1.0           1.0  Female   \n",
       "13  lisinopril solution        5.0            1.0           1.0    Male   \n",
       "18  lisinopril solution        5.0            1.0           1.0    Male   \n",
       "21  lisinopril solution        1.0            1.0           1.0  Female   \n",
       "22  lisinopril solution        5.0            1.0           1.0    Male   \n",
       "\n",
       "                                                Sides  UsefulCount  \n",
       "4   Dizziness ,  lightheadedness , tiredness, or  ...         22.0  \n",
       "13  Dizziness ,  lightheadedness , tiredness, or  ...          5.0  \n",
       "18  Dizziness ,  lightheadedness , tiredness, or  ...         12.0  \n",
       "21  Dizziness ,  lightheadedness , tiredness, or  ...         19.0  \n",
       "22  Dizziness ,  lightheadedness , tiredness, or  ...          8.0  "
      ]
     },
     "execution_count": 68,
     "metadata": {},
     "output_type": "execute_result"
    }
   ],
   "source": [
    "data_effe_1.head()"
   ]
  },
  {
   "cell_type": "code",
   "execution_count": 69,
   "id": "63803329",
   "metadata": {},
   "outputs": [
    {
     "data": {
      "text/plain": [
       "1"
      ]
     },
     "execution_count": 69,
     "metadata": {},
     "output_type": "execute_result"
    }
   ],
   "source": [
    "data_effe_1['Sides'].nunique()"
   ]
  },
  {
   "cell_type": "markdown",
   "id": "55783849",
   "metadata": {},
   "source": [
    "##### **The column 'Sides' is unique."
   ]
  },
  {
   "cell_type": "markdown",
   "id": "6ec552f9",
   "metadata": {},
   "source": [
    "## Feature deduction"
   ]
  },
  {
   "cell_type": "markdown",
   "id": "3f5841ef",
   "metadata": {},
   "source": [
    "#### **Here we can drop the columns of 'Drug', ,'Sides' because it is common. The other columns such as date can also be dropped. The column 'Name' can also be dropped ,since name doesnt deal with the side effects of a drug."
   ]
  },
  {
   "cell_type": "code",
   "execution_count": 70,
   "id": "f9166cce",
   "metadata": {},
   "outputs": [],
   "source": [
    "data2 = data2.drop(['Date','Drug','Sides','Name'],axis=1)"
   ]
  },
  {
   "cell_type": "code",
   "execution_count": 71,
   "id": "6f9de068",
   "metadata": {},
   "outputs": [
    {
     "data": {
      "text/html": [
       "<div>\n",
       "<style scoped>\n",
       "    .dataframe tbody tr th:only-of-type {\n",
       "        vertical-align: middle;\n",
       "    }\n",
       "\n",
       "    .dataframe tbody tr th {\n",
       "        vertical-align: top;\n",
       "    }\n",
       "\n",
       "    .dataframe thead th {\n",
       "        text-align: right;\n",
       "    }\n",
       "</style>\n",
       "<table border=\"1\" class=\"dataframe\">\n",
       "  <thead>\n",
       "    <tr style=\"text-align: right;\">\n",
       "      <th></th>\n",
       "      <th>Race</th>\n",
       "      <th>Age</th>\n",
       "      <th>Condition</th>\n",
       "      <th>EaseofUse</th>\n",
       "      <th>Effectiveness</th>\n",
       "      <th>Satisfaction</th>\n",
       "      <th>Sex</th>\n",
       "      <th>UsefulCount</th>\n",
       "    </tr>\n",
       "  </thead>\n",
       "  <tbody>\n",
       "    <tr>\n",
       "      <th>0</th>\n",
       "      <td>White</td>\n",
       "      <td>75 or over</td>\n",
       "      <td>High Blood Pressure</td>\n",
       "      <td>5.0</td>\n",
       "      <td>4.0</td>\n",
       "      <td>4.0</td>\n",
       "      <td>Female</td>\n",
       "      <td>3.0</td>\n",
       "    </tr>\n",
       "    <tr>\n",
       "      <th>1</th>\n",
       "      <td>Hispanic</td>\n",
       "      <td>55-64</td>\n",
       "      <td>High Blood Pressure</td>\n",
       "      <td>4.0</td>\n",
       "      <td>5.0</td>\n",
       "      <td>4.0</td>\n",
       "      <td>Male</td>\n",
       "      <td>3.0</td>\n",
       "    </tr>\n",
       "    <tr>\n",
       "      <th>2</th>\n",
       "      <td>Asian</td>\n",
       "      <td>65-74</td>\n",
       "      <td>High Blood Pressure</td>\n",
       "      <td>5.0</td>\n",
       "      <td>5.0</td>\n",
       "      <td>5.0</td>\n",
       "      <td>Male</td>\n",
       "      <td>6.0</td>\n",
       "    </tr>\n",
       "    <tr>\n",
       "      <th>3</th>\n",
       "      <td>Black</td>\n",
       "      <td>55-64</td>\n",
       "      <td>High Blood Pressure</td>\n",
       "      <td>2.0</td>\n",
       "      <td>4.0</td>\n",
       "      <td>2.0</td>\n",
       "      <td>Male</td>\n",
       "      <td>12.0</td>\n",
       "    </tr>\n",
       "    <tr>\n",
       "      <th>4</th>\n",
       "      <td>Hispanic</td>\n",
       "      <td>55-64</td>\n",
       "      <td>High Blood Pressure</td>\n",
       "      <td>3.0</td>\n",
       "      <td>1.0</td>\n",
       "      <td>1.0</td>\n",
       "      <td>Female</td>\n",
       "      <td>22.0</td>\n",
       "    </tr>\n",
       "  </tbody>\n",
       "</table>\n",
       "</div>"
      ],
      "text/plain": [
       "       Race         Age            Condition  EaseofUse  Effectiveness  \\\n",
       "0     White  75 or over  High Blood Pressure        5.0            4.0   \n",
       "1  Hispanic       55-64  High Blood Pressure        4.0            5.0   \n",
       "2     Asian       65-74  High Blood Pressure        5.0            5.0   \n",
       "3     Black       55-64  High Blood Pressure        2.0            4.0   \n",
       "4  Hispanic       55-64  High Blood Pressure        3.0            1.0   \n",
       "\n",
       "   Satisfaction     Sex  UsefulCount  \n",
       "0           4.0  Female          3.0  \n",
       "1           4.0    Male          3.0  \n",
       "2           5.0    Male          6.0  \n",
       "3           2.0    Male         12.0  \n",
       "4           1.0  Female         22.0  "
      ]
     },
     "execution_count": 71,
     "metadata": {},
     "output_type": "execute_result"
    }
   ],
   "source": [
    "data2.head()"
   ]
  },
  {
   "cell_type": "markdown",
   "id": "ae306575",
   "metadata": {},
   "source": [
    "### Recode the values of Effectiveness to a categorical values."
   ]
  },
  {
   "cell_type": "code",
   "execution_count": 72,
   "id": "739a2f6c",
   "metadata": {},
   "outputs": [],
   "source": [
    "data2['Effectiveness'].replace(to_replace = [1], value =['extreme severe side effects'], inplace = True)\n",
    "data2['Effectiveness'].replace(to_replace = [2], value =['severe side effects'], inplace = True)\n",
    "data2['Effectiveness'].replace(to_replace = [3], value =['moderate side effects'], inplace = True)\n",
    "data2['Effectiveness'].replace(to_replace = [4], value =['mild side effects'], inplace = True)\n",
    "data2['Effectiveness'].replace(to_replace = [5], value =['no side effects'], inplace = True)"
   ]
  },
  {
   "cell_type": "code",
   "execution_count": 73,
   "id": "867343c2",
   "metadata": {},
   "outputs": [
    {
     "data": {
      "text/html": [
       "<div>\n",
       "<style scoped>\n",
       "    .dataframe tbody tr th:only-of-type {\n",
       "        vertical-align: middle;\n",
       "    }\n",
       "\n",
       "    .dataframe tbody tr th {\n",
       "        vertical-align: top;\n",
       "    }\n",
       "\n",
       "    .dataframe thead th {\n",
       "        text-align: right;\n",
       "    }\n",
       "</style>\n",
       "<table border=\"1\" class=\"dataframe\">\n",
       "  <thead>\n",
       "    <tr style=\"text-align: right;\">\n",
       "      <th></th>\n",
       "      <th>Race</th>\n",
       "      <th>Age</th>\n",
       "      <th>Condition</th>\n",
       "      <th>EaseofUse</th>\n",
       "      <th>Effectiveness</th>\n",
       "      <th>Satisfaction</th>\n",
       "      <th>Sex</th>\n",
       "      <th>UsefulCount</th>\n",
       "    </tr>\n",
       "  </thead>\n",
       "  <tbody>\n",
       "    <tr>\n",
       "      <th>0</th>\n",
       "      <td>White</td>\n",
       "      <td>75 or over</td>\n",
       "      <td>High Blood Pressure</td>\n",
       "      <td>5.0</td>\n",
       "      <td>mild side effects</td>\n",
       "      <td>4.0</td>\n",
       "      <td>Female</td>\n",
       "      <td>3.0</td>\n",
       "    </tr>\n",
       "    <tr>\n",
       "      <th>1</th>\n",
       "      <td>Hispanic</td>\n",
       "      <td>55-64</td>\n",
       "      <td>High Blood Pressure</td>\n",
       "      <td>4.0</td>\n",
       "      <td>no side effects</td>\n",
       "      <td>4.0</td>\n",
       "      <td>Male</td>\n",
       "      <td>3.0</td>\n",
       "    </tr>\n",
       "    <tr>\n",
       "      <th>2</th>\n",
       "      <td>Asian</td>\n",
       "      <td>65-74</td>\n",
       "      <td>High Blood Pressure</td>\n",
       "      <td>5.0</td>\n",
       "      <td>no side effects</td>\n",
       "      <td>5.0</td>\n",
       "      <td>Male</td>\n",
       "      <td>6.0</td>\n",
       "    </tr>\n",
       "    <tr>\n",
       "      <th>3</th>\n",
       "      <td>Black</td>\n",
       "      <td>55-64</td>\n",
       "      <td>High Blood Pressure</td>\n",
       "      <td>2.0</td>\n",
       "      <td>mild side effects</td>\n",
       "      <td>2.0</td>\n",
       "      <td>Male</td>\n",
       "      <td>12.0</td>\n",
       "    </tr>\n",
       "    <tr>\n",
       "      <th>4</th>\n",
       "      <td>Hispanic</td>\n",
       "      <td>55-64</td>\n",
       "      <td>High Blood Pressure</td>\n",
       "      <td>3.0</td>\n",
       "      <td>extreme severe side effects</td>\n",
       "      <td>1.0</td>\n",
       "      <td>Female</td>\n",
       "      <td>22.0</td>\n",
       "    </tr>\n",
       "  </tbody>\n",
       "</table>\n",
       "</div>"
      ],
      "text/plain": [
       "       Race         Age            Condition  EaseofUse  \\\n",
       "0     White  75 or over  High Blood Pressure        5.0   \n",
       "1  Hispanic       55-64  High Blood Pressure        4.0   \n",
       "2     Asian       65-74  High Blood Pressure        5.0   \n",
       "3     Black       55-64  High Blood Pressure        2.0   \n",
       "4  Hispanic       55-64  High Blood Pressure        3.0   \n",
       "\n",
       "                 Effectiveness  Satisfaction     Sex  UsefulCount  \n",
       "0            mild side effects           4.0  Female          3.0  \n",
       "1              no side effects           4.0    Male          3.0  \n",
       "2              no side effects           5.0    Male          6.0  \n",
       "3            mild side effects           2.0    Male         12.0  \n",
       "4  extreme severe side effects           1.0  Female         22.0  "
      ]
     },
     "execution_count": 73,
     "metadata": {},
     "output_type": "execute_result"
    }
   ],
   "source": [
    "data2.head()"
   ]
  },
  {
   "cell_type": "markdown",
   "id": "c9b73108",
   "metadata": {},
   "source": [
    "### Pie chart of Percentage of Effectiveness."
   ]
  },
  {
   "cell_type": "code",
   "execution_count": 74,
   "id": "5c6cad74",
   "metadata": {},
   "outputs": [
    {
     "data": {
      "image/png": "[encoded data removed]",
      "text/plain": [
       "<Figure size 1000x600 with 1 Axes>"
      ]
     },
     "metadata": {},
     "output_type": "display_data"
    }
   ],
   "source": [
    "plt.figure(figsize=(10,6))\n",
    "plt.title('% of EFFECTIVENESS')\n",
    "tr = pd.DataFrame(data2['Effectiveness'].value_counts())\n",
    "tr_names = tr.index\n",
    "count = tr['Effectiveness']\n",
    "plt.style.use('ggplot')\n",
    "plt.rc('font', size=12)\n",
    "plt.pie(count, autopct='%1.1f%%', labels = tr_names, pctdistance=0.9, labeldistance=1.1,shadow=False, startangle=90)\n",
    "\n",
    "plt.show()"
   ]
  },
  {
   "cell_type": "markdown",
   "id": "41d9c94a",
   "metadata": {},
   "source": [
    "26.4% of people say that there are no side effects."
   ]
  },
  {
   "cell_type": "markdown",
   "id": "2c3b8c26",
   "metadata": {},
   "source": [
    "### Effect of Drug on Age group 55-64(most commonly used by)"
   ]
  },
  {
   "cell_type": "code",
   "execution_count": 75,
   "id": "7b617a64",
   "metadata": {},
   "outputs": [],
   "source": [
    "dt=data2.loc[(data2['Age']==\"55-64\")]"
   ]
  },
  {
   "cell_type": "code",
   "execution_count": 76,
   "id": "4f90e2b6",
   "metadata": {},
   "outputs": [
    {
     "data": {
      "image/png": "[encoded data removed]",
      "text/plain": [
       "<Figure size 600x600 with 1 Axes>"
      ]
     },
     "metadata": {},
     "output_type": "display_data"
    }
   ],
   "source": [
    "tr = pd.DataFrame(dt['Effectiveness'].value_counts())\n",
    "tr_names = tr.index\n",
    "count=tr['Effectiveness']\n",
    "\n",
    "plt.style.use('ggplot')\n",
    "plt.figure(figsize=(6,6))\n",
    "plt.rc('font', size=10)\n",
    "plt.pie(count, autopct='%1.0f%%', labels = tr_names, pctdistance=1.1, labeldistance=1.2)\n",
    "plt.title('% of patients having side effects in age group 55-64')\n",
    "\n",
    "plt.show()"
   ]
  },
  {
   "cell_type": "markdown",
   "id": "5a30f7b8",
   "metadata": {},
   "source": [
    "## Label encoding"
   ]
  },
  {
   "cell_type": "code",
   "execution_count": 77,
   "id": "df85425f",
   "metadata": {},
   "outputs": [],
   "source": [
    "from sklearn.preprocessing import LabelEncoder\n",
    "le = LabelEncoder()\n",
    "\n",
    "for col in [\"Race\",\"Age\",\"Condition\",\"Sex\"]:\n",
    "    data2[col]=le.fit_transform(data2[col]) "
   ]
  },
  {
   "cell_type": "code",
   "execution_count": 78,
   "id": "45a4df40",
   "metadata": {},
   "outputs": [
    {
     "name": "stdout",
     "output_type": "stream",
     "text": [
      "{'Female': 0, 'Male': 1}\n"
     ]
    }
   ],
   "source": [
    "encoded_values = dict(zip(le.classes_, le.transform(le.classes_)))\n",
    "print(encoded_values)"
   ]
  },
  {
   "cell_type": "code",
   "execution_count": 79,
   "id": "40a11458",
   "metadata": {},
   "outputs": [
    {
     "data": {
      "text/html": [
       "<div>\n",
       "<style scoped>\n",
       "    .dataframe tbody tr th:only-of-type {\n",
       "        vertical-align: middle;\n",
       "    }\n",
       "\n",
       "    .dataframe tbody tr th {\n",
       "        vertical-align: top;\n",
       "    }\n",
       "\n",
       "    .dataframe thead th {\n",
       "        text-align: right;\n",
       "    }\n",
       "</style>\n",
       "<table border=\"1\" class=\"dataframe\">\n",
       "  <thead>\n",
       "    <tr style=\"text-align: right;\">\n",
       "      <th></th>\n",
       "      <th>Race</th>\n",
       "      <th>Age</th>\n",
       "      <th>Condition</th>\n",
       "      <th>EaseofUse</th>\n",
       "      <th>Effectiveness</th>\n",
       "      <th>Satisfaction</th>\n",
       "      <th>Sex</th>\n",
       "      <th>UsefulCount</th>\n",
       "    </tr>\n",
       "  </thead>\n",
       "  <tbody>\n",
       "    <tr>\n",
       "      <th>0</th>\n",
       "      <td>3</td>\n",
       "      <td>9</td>\n",
       "      <td>4</td>\n",
       "      <td>5.0</td>\n",
       "      <td>mild side effects</td>\n",
       "      <td>4.0</td>\n",
       "      <td>0</td>\n",
       "      <td>3.0</td>\n",
       "    </tr>\n",
       "    <tr>\n",
       "      <th>1</th>\n",
       "      <td>2</td>\n",
       "      <td>6</td>\n",
       "      <td>4</td>\n",
       "      <td>4.0</td>\n",
       "      <td>no side effects</td>\n",
       "      <td>4.0</td>\n",
       "      <td>1</td>\n",
       "      <td>3.0</td>\n",
       "    </tr>\n",
       "    <tr>\n",
       "      <th>2</th>\n",
       "      <td>0</td>\n",
       "      <td>7</td>\n",
       "      <td>4</td>\n",
       "      <td>5.0</td>\n",
       "      <td>no side effects</td>\n",
       "      <td>5.0</td>\n",
       "      <td>1</td>\n",
       "      <td>6.0</td>\n",
       "    </tr>\n",
       "    <tr>\n",
       "      <th>3</th>\n",
       "      <td>1</td>\n",
       "      <td>6</td>\n",
       "      <td>4</td>\n",
       "      <td>2.0</td>\n",
       "      <td>mild side effects</td>\n",
       "      <td>2.0</td>\n",
       "      <td>1</td>\n",
       "      <td>12.0</td>\n",
       "    </tr>\n",
       "    <tr>\n",
       "      <th>4</th>\n",
       "      <td>2</td>\n",
       "      <td>6</td>\n",
       "      <td>4</td>\n",
       "      <td>3.0</td>\n",
       "      <td>extreme severe side effects</td>\n",
       "      <td>1.0</td>\n",
       "      <td>0</td>\n",
       "      <td>22.0</td>\n",
       "    </tr>\n",
       "  </tbody>\n",
       "</table>\n",
       "</div>"
      ],
      "text/plain": [
       "   Race  Age  Condition  EaseofUse                Effectiveness  Satisfaction  \\\n",
       "0     3    9          4        5.0            mild side effects           4.0   \n",
       "1     2    6          4        4.0              no side effects           4.0   \n",
       "2     0    7          4        5.0              no side effects           5.0   \n",
       "3     1    6          4        2.0            mild side effects           2.0   \n",
       "4     2    6          4        3.0  extreme severe side effects           1.0   \n",
       "\n",
       "   Sex  UsefulCount  \n",
       "0    0          3.0  \n",
       "1    1          3.0  \n",
       "2    1          6.0  \n",
       "3    1         12.0  \n",
       "4    0         22.0  "
      ]
     },
     "execution_count": 79,
     "metadata": {},
     "output_type": "execute_result"
    }
   ],
   "source": [
    "data2.head()"
   ]
  },
  {
   "cell_type": "code",
   "execution_count": 80,
   "id": "d333308a",
   "metadata": {},
   "outputs": [
    {
     "data": {
      "text/plain": [
       "(7776, 8)"
      ]
     },
     "execution_count": 80,
     "metadata": {},
     "output_type": "execute_result"
    }
   ],
   "source": [
    "data2.shape"
   ]
  },
  {
   "cell_type": "markdown",
   "id": "59f922b7",
   "metadata": {},
   "source": [
    "## Data Splitting"
   ]
  },
  {
   "cell_type": "code",
   "execution_count": 81,
   "id": "2d99fd7b",
   "metadata": {},
   "outputs": [],
   "source": [
    "x = data2.drop('Effectiveness', axis=1)\n",
    "y = data2['Effectiveness']"
   ]
  },
  {
   "cell_type": "code",
   "execution_count": 82,
   "id": "65a8909b",
   "metadata": {},
   "outputs": [
    {
     "data": {
      "text/plain": [
       "((7776, 7), (7776,))"
      ]
     },
     "execution_count": 82,
     "metadata": {},
     "output_type": "execute_result"
    }
   ],
   "source": [
    "x.shape, y.shape"
   ]
  },
  {
   "cell_type": "code",
   "execution_count": 83,
   "id": "a74b8b1f",
   "metadata": {},
   "outputs": [],
   "source": [
    "from sklearn.model_selection import train_test_split"
   ]
  },
  {
   "cell_type": "code",
   "execution_count": 84,
   "id": "1d74d7a3",
   "metadata": {},
   "outputs": [],
   "source": [
    "x_train,x_test,y_train,y_test = train_test_split(x,y, test_size=0.25, random_state=42)"
   ]
  },
  {
   "cell_type": "markdown",
   "id": "c75ebbb1",
   "metadata": {},
   "source": [
    "## Model selection"
   ]
  },
  {
   "cell_type": "markdown",
   "id": "93667cd7",
   "metadata": {},
   "source": [
    "### Logistic Regression"
   ]
  },
  {
   "cell_type": "code",
   "execution_count": 85,
   "id": "89c51df3",
   "metadata": {},
   "outputs": [],
   "source": [
    "from sklearn.linear_model import LogisticRegression\n",
    "logit_model = LogisticRegression()\n",
    "model = logit_model.fit(x_train,y_train)"
   ]
  },
  {
   "cell_type": "code",
   "execution_count": 86,
   "id": "53a357d4",
   "metadata": {},
   "outputs": [],
   "source": [
    "y_pred_lr = model.predict(x_test)"
   ]
  },
  {
   "cell_type": "code",
   "execution_count": 87,
   "id": "5c3d5f79",
   "metadata": {},
   "outputs": [
    {
     "name": "stdout",
     "output_type": "stream",
     "text": [
      "Accuracy = 0.514\n",
      "confusion matrix is [[249  20  28   0   0]\n",
      " [ 76 205  58 174   1]\n",
      " [ 97 117 140  50   6]\n",
      " [ 34  54  30 402   0]\n",
      " [ 97  28  67   7   4]]\n"
     ]
    }
   ],
   "source": [
    "#checking the accuracy of the model\n",
    "from sklearn.metrics import confusion_matrix,accuracy_score,precision_score,recall_score,f1_score\n",
    "print('Accuracy = {:.3f}'.format(accuracy_score(y_test, y_pred_lr)))\n",
    "print(\"confusion matrix is\",confusion_matrix(y_test,y_pred_lr))"
   ]
  },
  {
   "cell_type": "markdown",
   "id": "5430ccf4",
   "metadata": {},
   "source": [
    "### k-Nearest Neighbour"
   ]
  },
  {
   "cell_type": "code",
   "execution_count": 88,
   "id": "8a223ea1",
   "metadata": {},
   "outputs": [],
   "source": [
    "from sklearn.neighbors import KNeighborsClassifier\n",
    "metric = []\n",
    "neighbors = np.arange(3,15)\n",
    "\n",
    "for k in neighbors:\n",
    "    Classifier = KNeighborsClassifier(n_neighbors = k,metric = 'minkowski',p=2)\n",
    "    Classifier.fit(x_train,y_train)\n",
    "    y_pred_knn = Classifier.predict(x_test)\n",
    "    acc = accuracy_score(y_test,y_pred_knn)\n",
    "    metric.append(acc)"
   ]
  },
  {
   "cell_type": "code",
   "execution_count": 89,
   "id": "a78a9305",
   "metadata": {},
   "outputs": [
    {
     "data": {
      "image/png": "[encoded data removed]",
      "text/plain": [
       "<Figure size 640x480 with 1 Axes>"
      ]
     },
     "metadata": {},
     "output_type": "display_data"
    }
   ],
   "source": [
    "plt.plot(neighbors,metric,'o-')\n",
    "plt.xlabel('k value')\n",
    "plt.ylabel('accuracy')\n",
    "plt.grid()"
   ]
  },
  {
   "cell_type": "code",
   "execution_count": 90,
   "id": "dd2b9489",
   "metadata": {},
   "outputs": [
    {
     "name": "stdout",
     "output_type": "stream",
     "text": [
      "Accuracy = 0.559\n",
      "Confusion matrix =  [[200  28  36   8  25]\n",
      " [ 49 276  83  99   7]\n",
      " [ 66  92 202  33  17]\n",
      " [ 38  70  41 368   3]\n",
      " [ 66  34  48  15  40]]\n"
     ]
    }
   ],
   "source": [
    "# Model creation using selected k value\n",
    "Classifier = KNeighborsClassifier(n_neighbors = 8,metric = 'minkowski',p=2)\n",
    "Classifier.fit(x_train,y_train)\n",
    "y_pred_knn = Classifier.predict(x_test)\n",
    "\n",
    "print('Accuracy = {:.3f}'.format(accuracy_score(y_test, y_pred_knn)))\n",
    "print('Confusion matrix = ',confusion_matrix(y_test,y_pred_knn))"
   ]
  },
  {
   "cell_type": "markdown",
   "id": "27260ad7",
   "metadata": {},
   "source": [
    "### Linear SVM"
   ]
  },
  {
   "cell_type": "code",
   "execution_count": 91,
   "id": "e4614989",
   "metadata": {},
   "outputs": [],
   "source": [
    "from sklearn.svm import SVC\n",
    "svmclf=SVC(kernel='linear')\n",
    "svmclf.fit(x_train,y_train)\n",
    "y_pred_svm=svmclf.predict(x_test)"
   ]
  },
  {
   "cell_type": "code",
   "execution_count": 92,
   "id": "301619a7",
   "metadata": {},
   "outputs": [
    {
     "name": "stdout",
     "output_type": "stream",
     "text": [
      "Accuracy = 0.511\n",
      "Confusion matrix =  [[283   5   9   0   0]\n",
      " [106 181  55 172   0]\n",
      " [130 101 130  49   0]\n",
      " [ 67  43  11 399   0]\n",
      " [121  22  54   6   0]]\n"
     ]
    }
   ],
   "source": [
    "print('Accuracy = {:.3f}'.format(accuracy_score(y_test, y_pred_svm)))\n",
    "print('Confusion matrix = ',confusion_matrix(y_test,y_pred_svm))"
   ]
  },
  {
   "cell_type": "markdown",
   "id": "689237b2",
   "metadata": {},
   "source": [
    "### RBF SVM"
   ]
  },
  {
   "cell_type": "code",
   "execution_count": 93,
   "id": "7e9521e8",
   "metadata": {},
   "outputs": [],
   "source": [
    "svmclf1=SVC(kernel='rbf')\n",
    "svmclf1.fit(x_train,y_train)\n",
    "y_pred_svm_rbf=svmclf1.predict(x_test)"
   ]
  },
  {
   "cell_type": "code",
   "execution_count": 94,
   "id": "d2896153",
   "metadata": {},
   "outputs": [
    {
     "name": "stdout",
     "output_type": "stream",
     "text": [
      "Accuracy = 0.554\n",
      "Confusion matrix =  [[259   3  35   0   0]\n",
      " [ 71 269  96  78   0]\n",
      " [107 103 192   8   0]\n",
      " [ 51  78  35 356   0]\n",
      " [114  18  70   0   1]]\n"
     ]
    }
   ],
   "source": [
    "print('Accuracy = {:.3f}'.format(accuracy_score(y_test, y_pred_svm_rbf)))\n",
    "print('Confusion matrix = ',confusion_matrix(y_test,y_pred_svm_rbf))"
   ]
  },
  {
   "cell_type": "markdown",
   "id": "bb813a87",
   "metadata": {},
   "source": [
    "### Polynomial SVM"
   ]
  },
  {
   "cell_type": "code",
   "execution_count": 95,
   "id": "53eb0843",
   "metadata": {},
   "outputs": [],
   "source": [
    "svmclf2=SVC(kernel='poly')\n",
    "svmclf2.fit(x_train,y_train)\n",
    "y_pred_svm_poly=svmclf2.predict(x_test)"
   ]
  },
  {
   "cell_type": "code",
   "execution_count": 96,
   "id": "1dda5da4",
   "metadata": {},
   "outputs": [
    {
     "name": "stdout",
     "output_type": "stream",
     "text": [
      "Accuracy = 0.546\n",
      "Confusion matrix =  [[281   1  13   2   0]\n",
      " [104 212 113  85   0]\n",
      " [129  60 206  14   1]\n",
      " [ 67  65  28 360   0]\n",
      " [122   8  67   3   3]]\n"
     ]
    }
   ],
   "source": [
    "print('Accuracy = {:.3f}'.format(accuracy_score(y_test, y_pred_svm_poly)))\n",
    "print('Confusion matrix = ',confusion_matrix(y_test,y_pred_svm_poly))"
   ]
  },
  {
   "cell_type": "markdown",
   "id": "5026a25f",
   "metadata": {},
   "source": [
    "### Gradient Boosting Classifier"
   ]
  },
  {
   "cell_type": "code",
   "execution_count": 97,
   "id": "64343d52",
   "metadata": {},
   "outputs": [
    {
     "name": "stdout",
     "output_type": "stream",
     "text": [
      "Gradient Boosting Classifier accuracy is : 0.612\n"
     ]
    }
   ],
   "source": [
    "from sklearn.ensemble import GradientBoostingClassifier\n",
    "# Instantiate Gradient Boosting Classifier\n",
    "gbc = GradientBoostingClassifier(n_estimators=300,\n",
    "                                 learning_rate=0.05,\n",
    "                                 random_state=42,\n",
    "                                 max_features=5 )\n",
    "# Fit to training set\n",
    "gbc.fit(x_train,y_train)\n",
    " \n",
    "# Predict on test set\n",
    "y_pred_gbc = gbc.predict(x_test)\n",
    " \n",
    "# accuracy\n",
    "acc = accuracy_score(y_test,y_pred_gbc)\n",
    "print(\"Gradient Boosting Classifier accuracy is : {:.3f}\".format(acc))"
   ]
  },
  {
   "cell_type": "code",
   "execution_count": 98,
   "id": "777fa26f",
   "metadata": {},
   "outputs": [
    {
     "name": "stdout",
     "output_type": "stream",
     "text": [
      "Confusion matrix =  [[228  15  25  17  12]\n",
      " [ 31 306  74  92  11]\n",
      " [ 61  75 222  31  21]\n",
      " [ 40  61  42 375   2]\n",
      " [ 54  26  43  22  58]]\n"
     ]
    }
   ],
   "source": [
    "print('Confusion matrix = ',confusion_matrix(y_test,y_pred_gbc))"
   ]
  },
  {
   "cell_type": "markdown",
   "id": "e33044af",
   "metadata": {},
   "source": [
    "### Bernoulli Naive Bayes"
   ]
  },
  {
   "cell_type": "code",
   "execution_count": 99,
   "id": "ca419bb1",
   "metadata": {},
   "outputs": [],
   "source": [
    "from sklearn.naive_bayes import BernoulliNB\n",
    "BNB=BernoulliNB()\n",
    "BNB.fit(x_train,y_train)\n",
    "y_pred_bnb=BNB.predict(x_test)"
   ]
  },
  {
   "cell_type": "code",
   "execution_count": 100,
   "id": "8c339222",
   "metadata": {},
   "outputs": [
    {
     "name": "stdout",
     "output_type": "stream",
     "text": [
      "Accuracy = 0.268\n",
      "Confusion matrix =  [[  0  71   3 223   0]\n",
      " [  0 136   1 377   0]\n",
      " [  0 120   6 284   0]\n",
      " [  0 135   6 379   0]\n",
      " [  0  50   3 150   0]]\n"
     ]
    }
   ],
   "source": [
    "print('Accuracy = {:.3f}'.format(accuracy_score(y_test, y_pred_bnb)))\n",
    "print('Confusion matrix = ',confusion_matrix(y_test,y_pred_bnb))"
   ]
  },
  {
   "cell_type": "markdown",
   "id": "017e327e",
   "metadata": {},
   "source": [
    "### Decision Tree"
   ]
  },
  {
   "cell_type": "code",
   "execution_count": 101,
   "id": "818fe35c",
   "metadata": {},
   "outputs": [
    {
     "name": "stdout",
     "output_type": "stream",
     "text": [
      "Accuracy = 0.633\n",
      "Confusion matrix =  [[203  14  38  18  24]\n",
      " [ 31 313  69  76  25]\n",
      " [ 45  63 247  27  28]\n",
      " [ 23  91  34 368   4]\n",
      " [ 30  24  38  12  99]]\n"
     ]
    }
   ],
   "source": [
    "from sklearn.tree import DecisionTreeClassifier\n",
    "dt = DecisionTreeClassifier()\n",
    "dt.fit(x_train,y_train)\n",
    "y_pred_dt = dt.predict(x_test)\n",
    "\n",
    "print('Accuracy = {:.3f}'.format(accuracy_score(y_test, y_pred_dt)))\n",
    "print('Confusion matrix = ',confusion_matrix(y_test,y_pred_dt))"
   ]
  },
  {
   "cell_type": "code",
   "execution_count": 102,
   "id": "61fba523",
   "metadata": {},
   "outputs": [
    {
     "name": "stdout",
     "output_type": "stream",
     "text": [
      "                             precision    recall  f1-score   support\n",
      "\n",
      "extreme severe side effects       0.61      0.68      0.65       297\n",
      "          mild side effects       0.62      0.61      0.61       514\n",
      "      moderate side effects       0.58      0.60      0.59       410\n",
      "            no side effects       0.73      0.71      0.72       520\n",
      "        severe side effects       0.55      0.49      0.52       203\n",
      "\n",
      "                   accuracy                           0.63      1944\n",
      "                  macro avg       0.62      0.62      0.62      1944\n",
      "               weighted avg       0.63      0.63      0.63      1944\n",
      "\n"
     ]
    }
   ],
   "source": [
    "#Classification Report\n",
    "from sklearn.metrics import classification_report\n",
    "report = classification_report(y_test,y_pred_dt)\n",
    "print(report)"
   ]
  },
  {
   "cell_type": "markdown",
   "id": "97953421",
   "metadata": {},
   "source": [
    "### Random Forest"
   ]
  },
  {
   "cell_type": "code",
   "execution_count": 103,
   "id": "0f4667da",
   "metadata": {},
   "outputs": [],
   "source": [
    "from sklearn.ensemble import RandomForestClassifier\n",
    "rf = RandomForestClassifier()\n",
    "rf.fit(x_train,y_train)\n",
    "y_pred_rf = rf.predict(x_test)"
   ]
  },
  {
   "cell_type": "code",
   "execution_count": 104,
   "id": "b2b3f3ca",
   "metadata": {},
   "outputs": [
    {
     "name": "stdout",
     "output_type": "stream",
     "text": [
      "Accuracy = 0.634\n",
      "confusion matrix is [[197  17  39  19  25]\n",
      " [ 30 297  83  87  17]\n",
      " [ 49  59 245  35  22]\n",
      " [ 22  65  32 393   8]\n",
      " [ 30  15  45  13 100]]\n"
     ]
    }
   ],
   "source": [
    "print('Accuracy = {:.3f}'.format(accuracy_score(y_test, y_pred_rf)))\n",
    "print(\"confusion matrix is\",confusion_matrix(y_test,y_pred_rf))"
   ]
  },
  {
   "cell_type": "code",
   "execution_count": 105,
   "id": "def6e90e",
   "metadata": {},
   "outputs": [
    {
     "name": "stdout",
     "output_type": "stream",
     "text": [
      "                             precision    recall  f1-score   support\n",
      "\n",
      "extreme severe side effects       0.60      0.66      0.63       297\n",
      "          mild side effects       0.66      0.58      0.61       514\n",
      "      moderate side effects       0.55      0.60      0.57       410\n",
      "            no side effects       0.72      0.76      0.74       520\n",
      "        severe side effects       0.58      0.49      0.53       203\n",
      "\n",
      "                   accuracy                           0.63      1944\n",
      "                  macro avg       0.62      0.62      0.62      1944\n",
      "               weighted avg       0.63      0.63      0.63      1944\n",
      "\n"
     ]
    }
   ],
   "source": [
    "#CLassification Report\n",
    "report_rf = classification_report(y_test,y_pred_rf)\n",
    "print(report_rf)"
   ]
  },
  {
   "cell_type": "markdown",
   "id": "fd1dd2a4",
   "metadata": {},
   "source": [
    "### Ridge Classifier"
   ]
  },
  {
   "cell_type": "code",
   "execution_count": 106,
   "id": "77c28416",
   "metadata": {},
   "outputs": [
    {
     "name": "stdout",
     "output_type": "stream",
     "text": [
      "Accuracy = 0.400\n",
      "confusion matrix is [[203  10  80   4   0]\n",
      " [ 64  46  71 333   0]\n",
      " [121  74  97 118   0]\n",
      " [ 13  21  54 432   0]\n",
      " [103  19  62  19   0]]\n",
      "                             precision    recall  f1-score   support\n",
      "\n",
      "extreme severe side effects       0.40      0.68      0.51       297\n",
      "          mild side effects       0.27      0.09      0.13       514\n",
      "      moderate side effects       0.27      0.24      0.25       410\n",
      "            no side effects       0.48      0.83      0.61       520\n",
      "        severe side effects       0.00      0.00      0.00       203\n",
      "\n",
      "                   accuracy                           0.40      1944\n",
      "                  macro avg       0.28      0.37      0.30      1944\n",
      "               weighted avg       0.32      0.40      0.33      1944\n",
      "\n"
     ]
    }
   ],
   "source": [
    "from sklearn.linear_model import RidgeClassifier\n",
    "rid_clf = RidgeClassifier()\n",
    "rid_clf.fit(x_train, y_train)\n",
    "y_pred_rid = rid_clf.predict(x_test)\n",
    "\n",
    "# metrics\n",
    "print('Accuracy = {:.3f}'.format(accuracy_score(y_test, y_pred_rid)))\n",
    "print(\"confusion matrix is\",confusion_matrix(y_test,y_pred_rid))\n",
    "\n",
    "\n",
    "#CLassification Report\n",
    "report_rid = classification_report(y_test,y_pred_rid)\n",
    "print(report_rid)"
   ]
  },
  {
   "cell_type": "markdown",
   "id": "26413df0",
   "metadata": {},
   "source": [
    "### Bagging Classifier"
   ]
  },
  {
   "cell_type": "code",
   "execution_count": 107,
   "id": "6b72ccbd",
   "metadata": {},
   "outputs": [
    {
     "name": "stdout",
     "output_type": "stream",
     "text": [
      "Accuracy = 0.629\n",
      "confusion matrix is [[191  17  37  18  34]\n",
      " [ 26 297  74  97  20]\n",
      " [ 44  60 244  36  26]\n",
      " [ 19  72  30 390   9]\n",
      " [ 31  21  38  12 101]]\n",
      "                             precision    recall  f1-score   support\n",
      "\n",
      "extreme severe side effects       0.61      0.64      0.63       297\n",
      "          mild side effects       0.64      0.58      0.61       514\n",
      "      moderate side effects       0.58      0.60      0.59       410\n",
      "            no side effects       0.71      0.75      0.73       520\n",
      "        severe side effects       0.53      0.50      0.51       203\n",
      "\n",
      "                   accuracy                           0.63      1944\n",
      "                  macro avg       0.61      0.61      0.61      1944\n",
      "               weighted avg       0.63      0.63      0.63      1944\n",
      "\n"
     ]
    }
   ],
   "source": [
    "from sklearn.ensemble import BaggingClassifier\n",
    "bag_clf = BaggingClassifier()\n",
    "bag_clf.fit(x_train, y_train)\n",
    "y_pred_bag = bag_clf.predict(x_test)\n",
    "\n",
    "# metrics\n",
    "print('Accuracy = {:.3f}'.format(accuracy_score(y_test, y_pred_bag)))\n",
    "print(\"confusion matrix is\",confusion_matrix(y_test,y_pred_bag))\n",
    "\n",
    "\n",
    "#CLassification Report\n",
    "report_bag = classification_report(y_test,y_pred_bag)\n",
    "print(report_bag)"
   ]
  },
  {
   "cell_type": "markdown",
   "id": "b607b56e",
   "metadata": {},
   "source": [
    "## Random forest classifier algorithm gives high accuracy score."
   ]
  },
  {
   "cell_type": "markdown",
   "id": "ec0b0e7d",
   "metadata": {},
   "source": [
    "## Hyperparameter tuning"
   ]
  },
  {
   "cell_type": "markdown",
   "id": "9fb898aa",
   "metadata": {},
   "source": [
    "### RandomizedSearchCV "
   ]
  },
  {
   "cell_type": "code",
   "execution_count": 108,
   "id": "258ab8ad",
   "metadata": {},
   "outputs": [],
   "source": [
    "from sklearn.model_selection import RandomizedSearchCV"
   ]
  },
  {
   "cell_type": "code",
   "execution_count": 109,
   "id": "c98fdfc0",
   "metadata": {},
   "outputs": [],
   "source": [
    "n_estimators = [int(x) for x in np.linspace(start=200,stop=2000,num=10)]\n",
    "max_features = ['auto','sqrt','log2']\n",
    "max_depth = [int(x) for x in np.linspace(start=10,stop=1000,num=10)]\n",
    "min_samples_split = [2,5,10,14]\n",
    "min_samples_leaf = [1,2,4,6,8]"
   ]
  },
  {
   "cell_type": "code",
   "execution_count": 110,
   "id": "724dcdeb",
   "metadata": {},
   "outputs": [],
   "source": [
    "#making dictionary\n",
    "\n",
    "random_grid = {'n_estimators':n_estimators,\n",
    "              'max_features':max_features,\n",
    "              'max_depth':max_depth,\n",
    "              'min_samples_split':min_samples_split,\n",
    "              'min_samples_leaf':min_samples_leaf,\n",
    "              'criterion':['entropy','gini','log_loss']}"
   ]
  },
  {
   "cell_type": "code",
   "execution_count": 111,
   "id": "eff6ac4b",
   "metadata": {},
   "outputs": [],
   "source": [
    "rf = RandomForestClassifier()"
   ]
  },
  {
   "cell_type": "code",
   "execution_count": 112,
   "id": "8d4a8a74",
   "metadata": {},
   "outputs": [
    {
     "name": "stdout",
     "output_type": "stream",
     "text": [
      "Fitting 3 folds for each of 100 candidates, totalling 300 fits\n"
     ]
    },
    {
     "data": {
      "text/html": [
       "<style>#sk-container-id-1 {color: black;background-color: white;}#sk-container-id-1 pre{padding: 0;}#sk-container-id-1 div.sk-toggleable {background-color: white;}#sk-container-id-1 label.sk-toggleable__label {cursor: pointer;display: block;width: 100%;margin-bottom: 0;padding: 0.3em;box-sizing: border-box;text-align: center;}#sk-container-id-1 label.sk-toggleable__label-arrow:before {content: \"▸\";float: left;margin-right: 0.25em;color: #696969;}#sk-container-id-1 label.sk-toggleable__label-arrow:hover:before {color: black;}#sk-container-id-1 div.sk-estimator:hover label.sk-toggleable__label-arrow:before {color: black;}#sk-container-id-1 div.sk-toggleable__content {max-height: 0;max-width: 0;overflow: hidden;text-align: left;background-color: #f0f8ff;}#sk-container-id-1 div.sk-toggleable__content pre {margin: 0.2em;color: black;border-radius: 0.25em;background-color: #f0f8ff;}#sk-container-id-1 input.sk-toggleable__control:checked~div.sk-toggleable__content {max-height: 200px;max-width: 100%;overflow: auto;}#sk-container-id-1 input.sk-toggleable__control:checked~label.sk-toggleable__label-arrow:before {content: \"▾\";}#sk-container-id-1 div.sk-estimator input.sk-toggleable__control:checked~label.sk-toggleable__label {background-color: #d4ebff;}#sk-container-id-1 div.sk-label input.sk-toggleable__control:checked~label.sk-toggleable__label {background-color: #d4ebff;}#sk-container-id-1 input.sk-hidden--visually {border: 0;clip: rect(1px 1px 1px 1px);clip: rect(1px, 1px, 1px, 1px);height: 1px;margin: -1px;overflow: hidden;padding: 0;position: absolute;width: 1px;}#sk-container-id-1 div.sk-estimator {font-family: monospace;background-color: #f0f8ff;border: 1px dotted black;border-radius: 0.25em;box-sizing: border-box;margin-bottom: 0.5em;}#sk-container-id-1 div.sk-estimator:hover {background-color: #d4ebff;}#sk-container-id-1 div.sk-parallel-item::after {content: \"\";width: 100%;border-bottom: 1px solid gray;flex-grow: 1;}#sk-container-id-1 div.sk-label:hover label.sk-toggleable__label {background-color: #d4ebff;}#sk-container-id-1 div.sk-serial::before {content: \"\";position: absolute;border-left: 1px solid gray;box-sizing: border-box;top: 0;bottom: 0;left: 50%;z-index: 0;}#sk-container-id-1 div.sk-serial {display: flex;flex-direction: column;align-items: center;background-color: white;padding-right: 0.2em;padding-left: 0.2em;position: relative;}#sk-container-id-1 div.sk-item {position: relative;z-index: 1;}#sk-container-id-1 div.sk-parallel {display: flex;align-items: stretch;justify-content: center;background-color: white;position: relative;}#sk-container-id-1 div.sk-item::before, #sk-container-id-1 div.sk-parallel-item::before {content: \"\";position: absolute;border-left: 1px solid gray;box-sizing: border-box;top: 0;bottom: 0;left: 50%;z-index: -1;}#sk-container-id-1 div.sk-parallel-item {display: flex;flex-direction: column;z-index: 1;position: relative;background-color: white;}#sk-container-id-1 div.sk-parallel-item:first-child::after {align-self: flex-end;width: 50%;}#sk-container-id-1 div.sk-parallel-item:last-child::after {align-self: flex-start;width: 50%;}#sk-container-id-1 div.sk-parallel-item:only-child::after {width: 0;}#sk-container-id-1 div.sk-dashed-wrapped {border: 1px dashed gray;margin: 0 0.4em 0.5em 0.4em;box-sizing: border-box;padding-bottom: 0.4em;background-color: white;}#sk-container-id-1 div.sk-label label {font-family: monospace;font-weight: bold;display: inline-block;line-height: 1.2em;}#sk-container-id-1 div.sk-label-container {text-align: center;}#sk-container-id-1 div.sk-container {/* jupyter's `normalize.less` sets `[hidden] { display: none; }` but bootstrap.min.css set `[hidden] { display: none !important; }` so we also need the `!important` here to be able to override the default hidden behavior on the sphinx rendered scikit-learn.org. See: https://github.com/scikit-learn/scikit-learn/issues/21755 */display: inline-block !important;position: relative;}#sk-container-id-1 div.sk-text-repr-fallback {display: none;}</style><div id=\"sk-container-id-1\" class=\"sk-top-container\"><div class=\"sk-text-repr-fallback\"><pre>RandomizedSearchCV(cv=3, estimator=RandomForestClassifier(), n_iter=100,\n",
       "                   n_jobs=-1,\n",
       "                   param_distributions={&#x27;criterion&#x27;: [&#x27;entropy&#x27;, &#x27;gini&#x27;,\n",
       "                                                      &#x27;log_loss&#x27;],\n",
       "                                        &#x27;max_depth&#x27;: [10, 120, 230, 340, 450,\n",
       "                                                      560, 670, 780, 890,\n",
       "                                                      1000],\n",
       "                                        &#x27;max_features&#x27;: [&#x27;auto&#x27;, &#x27;sqrt&#x27;,\n",
       "                                                         &#x27;log2&#x27;],\n",
       "                                        &#x27;min_samples_leaf&#x27;: [1, 2, 4, 6, 8],\n",
       "                                        &#x27;min_samples_split&#x27;: [2, 5, 10, 14],\n",
       "                                        &#x27;n_estimators&#x27;: [200, 400, 600, 800,\n",
       "                                                         1000, 1200, 1400, 1600,\n",
       "                                                         1800, 2000]},\n",
       "                   random_state=100, verbose=2)</pre><b>In a Jupyter environment, please rerun this cell to show the HTML representation or trust the notebook. <br />On GitHub, the HTML representation is unable to render, please try loading this page with nbviewer.org.</b></div><div class=\"sk-container\" hidden><div class=\"sk-item sk-dashed-wrapped\"><div class=\"sk-label-container\"><div class=\"sk-label sk-toggleable\"><input class=\"sk-toggleable__control sk-hidden--visually\" id=\"sk-estimator-id-1\" type=\"checkbox\" ><label for=\"sk-estimator-id-1\" class=\"sk-toggleable__label sk-toggleable__label-arrow\">RandomizedSearchCV</label><div class=\"sk-toggleable__content\"><pre>RandomizedSearchCV(cv=3, estimator=RandomForestClassifier(), n_iter=100,\n",
       "                   n_jobs=-1,\n",
       "                   param_distributions={&#x27;criterion&#x27;: [&#x27;entropy&#x27;, &#x27;gini&#x27;,\n",
       "                                                      &#x27;log_loss&#x27;],\n",
       "                                        &#x27;max_depth&#x27;: [10, 120, 230, 340, 450,\n",
       "                                                      560, 670, 780, 890,\n",
       "                                                      1000],\n",
       "                                        &#x27;max_features&#x27;: [&#x27;auto&#x27;, &#x27;sqrt&#x27;,\n",
       "                                                         &#x27;log2&#x27;],\n",
       "                                        &#x27;min_samples_leaf&#x27;: [1, 2, 4, 6, 8],\n",
       "                                        &#x27;min_samples_split&#x27;: [2, 5, 10, 14],\n",
       "                                        &#x27;n_estimators&#x27;: [200, 400, 600, 800,\n",
       "                                                         1000, 1200, 1400, 1600,\n",
       "                                                         1800, 2000]},\n",
       "                   random_state=100, verbose=2)</pre></div></div></div><div class=\"sk-parallel\"><div class=\"sk-parallel-item\"><div class=\"sk-item\"><div class=\"sk-label-container\"><div class=\"sk-label sk-toggleable\"><input class=\"sk-toggleable__control sk-hidden--visually\" id=\"sk-estimator-id-2\" type=\"checkbox\" ><label for=\"sk-estimator-id-2\" class=\"sk-toggleable__label sk-toggleable__label-arrow\">estimator: RandomForestClassifier</label><div class=\"sk-toggleable__content\"><pre>RandomForestClassifier()</pre></div></div></div><div class=\"sk-serial\"><div class=\"sk-item\"><div class=\"sk-estimator sk-toggleable\"><input class=\"sk-toggleable__control sk-hidden--visually\" id=\"sk-estimator-id-3\" type=\"checkbox\" ><label for=\"sk-estimator-id-3\" class=\"sk-toggleable__label sk-toggleable__label-arrow\">RandomForestClassifier</label><div class=\"sk-toggleable__content\"><pre>RandomForestClassifier()</pre></div></div></div></div></div></div></div></div></div></div>"
      ],
      "text/plain": [
       "RandomizedSearchCV(cv=3, estimator=RandomForestClassifier(), n_iter=100,\n",
       "                   n_jobs=-1,\n",
       "                   param_distributions={'criterion': ['entropy', 'gini',\n",
       "                                                      'log_loss'],\n",
       "                                        'max_depth': [10, 120, 230, 340, 450,\n",
       "                                                      560, 670, 780, 890,\n",
       "                                                      1000],\n",
       "                                        'max_features': ['auto', 'sqrt',\n",
       "                                                         'log2'],\n",
       "                                        'min_samples_leaf': [1, 2, 4, 6, 8],\n",
       "                                        'min_samples_split': [2, 5, 10, 14],\n",
       "                                        'n_estimators': [200, 400, 600, 800,\n",
       "                                                         1000, 1200, 1400, 1600,\n",
       "                                                         1800, 2000]},\n",
       "                   random_state=100, verbose=2)"
      ]
     },
     "execution_count": 112,
     "metadata": {},
     "output_type": "execute_result"
    }
   ],
   "source": [
    "rf_randomcv = RandomizedSearchCV(estimator = rf,param_distributions=random_grid,n_iter=100,\n",
    "                                cv=3,verbose=2,random_state=100,n_jobs=-1)\n",
    "rf_randomcv.fit(x_train,y_train)\n",
    "#estimator: which algorithm"
   ]
  },
  {
   "cell_type": "code",
   "execution_count": 113,
   "id": "7d2b9d50",
   "metadata": {},
   "outputs": [
    {
     "data": {
      "text/plain": [
       "{'n_estimators': 800,\n",
       " 'min_samples_split': 2,\n",
       " 'min_samples_leaf': 2,\n",
       " 'max_features': 'auto',\n",
       " 'max_depth': 890,\n",
       " 'criterion': 'gini'}"
      ]
     },
     "execution_count": 113,
     "metadata": {},
     "output_type": "execute_result"
    }
   ],
   "source": [
    "rf_randomcv.best_params_"
   ]
  },
  {
   "cell_type": "code",
   "execution_count": 114,
   "id": "13a3379f",
   "metadata": {},
   "outputs": [
    {
     "data": {
      "text/html": [
       "<style>#sk-container-id-2 {color: black;background-color: white;}#sk-container-id-2 pre{padding: 0;}#sk-container-id-2 div.sk-toggleable {background-color: white;}#sk-container-id-2 label.sk-toggleable__label {cursor: pointer;display: block;width: 100%;margin-bottom: 0;padding: 0.3em;box-sizing: border-box;text-align: center;}#sk-container-id-2 label.sk-toggleable__label-arrow:before {content: \"▸\";float: left;margin-right: 0.25em;color: #696969;}#sk-container-id-2 label.sk-toggleable__label-arrow:hover:before {color: black;}#sk-container-id-2 div.sk-estimator:hover label.sk-toggleable__label-arrow:before {color: black;}#sk-container-id-2 div.sk-toggleable__content {max-height: 0;max-width: 0;overflow: hidden;text-align: left;background-color: #f0f8ff;}#sk-container-id-2 div.sk-toggleable__content pre {margin: 0.2em;color: black;border-radius: 0.25em;background-color: #f0f8ff;}#sk-container-id-2 input.sk-toggleable__control:checked~div.sk-toggleable__content {max-height: 200px;max-width: 100%;overflow: auto;}#sk-container-id-2 input.sk-toggleable__control:checked~label.sk-toggleable__label-arrow:before {content: \"▾\";}#sk-container-id-2 div.sk-estimator input.sk-toggleable__control:checked~label.sk-toggleable__label {background-color: #d4ebff;}#sk-container-id-2 div.sk-label input.sk-toggleable__control:checked~label.sk-toggleable__label {background-color: #d4ebff;}#sk-container-id-2 input.sk-hidden--visually {border: 0;clip: rect(1px 1px 1px 1px);clip: rect(1px, 1px, 1px, 1px);height: 1px;margin: -1px;overflow: hidden;padding: 0;position: absolute;width: 1px;}#sk-container-id-2 div.sk-estimator {font-family: monospace;background-color: #f0f8ff;border: 1px dotted black;border-radius: 0.25em;box-sizing: border-box;margin-bottom: 0.5em;}#sk-container-id-2 div.sk-estimator:hover {background-color: #d4ebff;}#sk-container-id-2 div.sk-parallel-item::after {content: \"\";width: 100%;border-bottom: 1px solid gray;flex-grow: 1;}#sk-container-id-2 div.sk-label:hover label.sk-toggleable__label {background-color: #d4ebff;}#sk-container-id-2 div.sk-serial::before {content: \"\";position: absolute;border-left: 1px solid gray;box-sizing: border-box;top: 0;bottom: 0;left: 50%;z-index: 0;}#sk-container-id-2 div.sk-serial {display: flex;flex-direction: column;align-items: center;background-color: white;padding-right: 0.2em;padding-left: 0.2em;position: relative;}#sk-container-id-2 div.sk-item {position: relative;z-index: 1;}#sk-container-id-2 div.sk-parallel {display: flex;align-items: stretch;justify-content: center;background-color: white;position: relative;}#sk-container-id-2 div.sk-item::before, #sk-container-id-2 div.sk-parallel-item::before {content: \"\";position: absolute;border-left: 1px solid gray;box-sizing: border-box;top: 0;bottom: 0;left: 50%;z-index: -1;}#sk-container-id-2 div.sk-parallel-item {display: flex;flex-direction: column;z-index: 1;position: relative;background-color: white;}#sk-container-id-2 div.sk-parallel-item:first-child::after {align-self: flex-end;width: 50%;}#sk-container-id-2 div.sk-parallel-item:last-child::after {align-self: flex-start;width: 50%;}#sk-container-id-2 div.sk-parallel-item:only-child::after {width: 0;}#sk-container-id-2 div.sk-dashed-wrapped {border: 1px dashed gray;margin: 0 0.4em 0.5em 0.4em;box-sizing: border-box;padding-bottom: 0.4em;background-color: white;}#sk-container-id-2 div.sk-label label {font-family: monospace;font-weight: bold;display: inline-block;line-height: 1.2em;}#sk-container-id-2 div.sk-label-container {text-align: center;}#sk-container-id-2 div.sk-container {/* jupyter's `normalize.less` sets `[hidden] { display: none; }` but bootstrap.min.css set `[hidden] { display: none !important; }` so we also need the `!important` here to be able to override the default hidden behavior on the sphinx rendered scikit-learn.org. See: https://github.com/scikit-learn/scikit-learn/issues/21755 */display: inline-block !important;position: relative;}#sk-container-id-2 div.sk-text-repr-fallback {display: none;}</style><div id=\"sk-container-id-2\" class=\"sk-top-container\"><div class=\"sk-text-repr-fallback\"><pre>RandomForestClassifier(max_depth=890, max_features=&#x27;auto&#x27;, min_samples_leaf=2,\n",
       "                       n_estimators=800)</pre><b>In a Jupyter environment, please rerun this cell to show the HTML representation or trust the notebook. <br />On GitHub, the HTML representation is unable to render, please try loading this page with nbviewer.org.</b></div><div class=\"sk-container\" hidden><div class=\"sk-item\"><div class=\"sk-estimator sk-toggleable\"><input class=\"sk-toggleable__control sk-hidden--visually\" id=\"sk-estimator-id-4\" type=\"checkbox\" checked><label for=\"sk-estimator-id-4\" class=\"sk-toggleable__label sk-toggleable__label-arrow\">RandomForestClassifier</label><div class=\"sk-toggleable__content\"><pre>RandomForestClassifier(max_depth=890, max_features=&#x27;auto&#x27;, min_samples_leaf=2,\n",
       "                       n_estimators=800)</pre></div></div></div></div></div>"
      ],
      "text/plain": [
       "RandomForestClassifier(max_depth=890, max_features='auto', min_samples_leaf=2,\n",
       "                       n_estimators=800)"
      ]
     },
     "execution_count": 114,
     "metadata": {},
     "output_type": "execute_result"
    }
   ],
   "source": [
    "rf_randomcv.best_estimator_"
   ]
  },
  {
   "cell_type": "code",
   "execution_count": 115,
   "id": "427b909c",
   "metadata": {},
   "outputs": [],
   "source": [
    "best_random = rf_randomcv.best_estimator_"
   ]
  },
  {
   "cell_type": "code",
   "execution_count": 116,
   "id": "6f78bbca",
   "metadata": {},
   "outputs": [
    {
     "name": "stdout",
     "output_type": "stream",
     "text": [
      "[[220  16  29  13  19]\n",
      " [ 34 297  76  93  14]\n",
      " [ 60  62 236  32  20]\n",
      " [ 27  59  32 395   7]\n",
      " [ 38  17  52  12  84]]\n",
      "0.6337448559670782\n",
      "                             precision    recall  f1-score   support\n",
      "\n",
      "extreme severe side effects       0.58      0.74      0.65       297\n",
      "          mild side effects       0.66      0.58      0.62       514\n",
      "      moderate side effects       0.56      0.58      0.57       410\n",
      "            no side effects       0.72      0.76      0.74       520\n",
      "        severe side effects       0.58      0.41      0.48       203\n",
      "\n",
      "                   accuracy                           0.63      1944\n",
      "                  macro avg       0.62      0.61      0.61      1944\n",
      "               weighted avg       0.63      0.63      0.63      1944\n",
      "\n"
     ]
    }
   ],
   "source": [
    "y_pred_rf_random = best_random.predict(x_test)\n",
    "print(confusion_matrix(y_test,y_pred_rf_random))\n",
    "print(accuracy_score(y_test,y_pred_rf_random))\n",
    "print(classification_report(y_test,y_pred_rf_random))"
   ]
  },
  {
   "cell_type": "markdown",
   "id": "b3d9c269",
   "metadata": {},
   "source": [
    "### GridSearchCV "
   ]
  },
  {
   "cell_type": "code",
   "execution_count": 117,
   "id": "affb288d",
   "metadata": {},
   "outputs": [
    {
     "name": "stdout",
     "output_type": "stream",
     "text": [
      "{'criterion': ['gini'], 'max_depth': [890], 'max_features': ['auto'], 'min_samples_leaf': [2, 4, 6], 'min_samples_split': [0, 1, 2, 3, 4], 'n_estimators': [600, 700, 800, 900, 1000]}\n"
     ]
    }
   ],
   "source": [
    "from sklearn.model_selection import GridSearchCV\n",
    "param_grid = {\n",
    "    'criterion': [rf_randomcv.best_params_['criterion']],\n",
    "    'max_depth': [rf_randomcv.best_params_['max_depth']],\n",
    "    'max_features': [rf_randomcv.best_params_['max_features']],\n",
    "    'min_samples_leaf': [rf_randomcv.best_params_['min_samples_leaf'],\n",
    "                         rf_randomcv.best_params_['min_samples_leaf']+2,\n",
    "                         rf_randomcv.best_params_['min_samples_leaf'] + 4],\n",
    "    'min_samples_split': [rf_randomcv.best_params_['min_samples_split'] - 2,\n",
    "                          rf_randomcv.best_params_['min_samples_split'] - 1,\n",
    "                          rf_randomcv.best_params_['min_samples_split'],\n",
    "                          rf_randomcv.best_params_['min_samples_split'] +1,\n",
    "                          rf_randomcv.best_params_['min_samples_split'] + 2],\n",
    "    'n_estimators': [rf_randomcv.best_params_['n_estimators'] - 200, rf_randomcv.best_params_['n_estimators'] - 100,\n",
    "                     rf_randomcv.best_params_['n_estimators'],\n",
    "                     rf_randomcv.best_params_['n_estimators'] + 100, rf_randomcv.best_params_['n_estimators'] + 200]\n",
    "}\n",
    "\n",
    "print(param_grid)"
   ]
  },
  {
   "cell_type": "code",
   "execution_count": 118,
   "id": "9bf5b61e",
   "metadata": {},
   "outputs": [
    {
     "name": "stdout",
     "output_type": "stream",
     "text": [
      "Fitting 10 folds for each of 75 candidates, totalling 750 fits\n"
     ]
    },
    {
     "data": {
      "text/html": [
       "<style>#sk-container-id-3 {color: black;background-color: white;}#sk-container-id-3 pre{padding: 0;}#sk-container-id-3 div.sk-toggleable {background-color: white;}#sk-container-id-3 label.sk-toggleable__label {cursor: pointer;display: block;width: 100%;margin-bottom: 0;padding: 0.3em;box-sizing: border-box;text-align: center;}#sk-container-id-3 label.sk-toggleable__label-arrow:before {content: \"▸\";float: left;margin-right: 0.25em;color: #696969;}#sk-container-id-3 label.sk-toggleable__label-arrow:hover:before {color: black;}#sk-container-id-3 div.sk-estimator:hover label.sk-toggleable__label-arrow:before {color: black;}#sk-container-id-3 div.sk-toggleable__content {max-height: 0;max-width: 0;overflow: hidden;text-align: left;background-color: #f0f8ff;}#sk-container-id-3 div.sk-toggleable__content pre {margin: 0.2em;color: black;border-radius: 0.25em;background-color: #f0f8ff;}#sk-container-id-3 input.sk-toggleable__control:checked~div.sk-toggleable__content {max-height: 200px;max-width: 100%;overflow: auto;}#sk-container-id-3 input.sk-toggleable__control:checked~label.sk-toggleable__label-arrow:before {content: \"▾\";}#sk-container-id-3 div.sk-estimator input.sk-toggleable__control:checked~label.sk-toggleable__label {background-color: #d4ebff;}#sk-container-id-3 div.sk-label input.sk-toggleable__control:checked~label.sk-toggleable__label {background-color: #d4ebff;}#sk-container-id-3 input.sk-hidden--visually {border: 0;clip: rect(1px 1px 1px 1px);clip: rect(1px, 1px, 1px, 1px);height: 1px;margin: -1px;overflow: hidden;padding: 0;position: absolute;width: 1px;}#sk-container-id-3 div.sk-estimator {font-family: monospace;background-color: #f0f8ff;border: 1px dotted black;border-radius: 0.25em;box-sizing: border-box;margin-bottom: 0.5em;}#sk-container-id-3 div.sk-estimator:hover {background-color: #d4ebff;}#sk-container-id-3 div.sk-parallel-item::after {content: \"\";width: 100%;border-bottom: 1px solid gray;flex-grow: 1;}#sk-container-id-3 div.sk-label:hover label.sk-toggleable__label {background-color: #d4ebff;}#sk-container-id-3 div.sk-serial::before {content: \"\";position: absolute;border-left: 1px solid gray;box-sizing: border-box;top: 0;bottom: 0;left: 50%;z-index: 0;}#sk-container-id-3 div.sk-serial {display: flex;flex-direction: column;align-items: center;background-color: white;padding-right: 0.2em;padding-left: 0.2em;position: relative;}#sk-container-id-3 div.sk-item {position: relative;z-index: 1;}#sk-container-id-3 div.sk-parallel {display: flex;align-items: stretch;justify-content: center;background-color: white;position: relative;}#sk-container-id-3 div.sk-item::before, #sk-container-id-3 div.sk-parallel-item::before {content: \"\";position: absolute;border-left: 1px solid gray;box-sizing: border-box;top: 0;bottom: 0;left: 50%;z-index: -1;}#sk-container-id-3 div.sk-parallel-item {display: flex;flex-direction: column;z-index: 1;position: relative;background-color: white;}#sk-container-id-3 div.sk-parallel-item:first-child::after {align-self: flex-end;width: 50%;}#sk-container-id-3 div.sk-parallel-item:last-child::after {align-self: flex-start;width: 50%;}#sk-container-id-3 div.sk-parallel-item:only-child::after {width: 0;}#sk-container-id-3 div.sk-dashed-wrapped {border: 1px dashed gray;margin: 0 0.4em 0.5em 0.4em;box-sizing: border-box;padding-bottom: 0.4em;background-color: white;}#sk-container-id-3 div.sk-label label {font-family: monospace;font-weight: bold;display: inline-block;line-height: 1.2em;}#sk-container-id-3 div.sk-label-container {text-align: center;}#sk-container-id-3 div.sk-container {/* jupyter's `normalize.less` sets `[hidden] { display: none; }` but bootstrap.min.css set `[hidden] { display: none !important; }` so we also need the `!important` here to be able to override the default hidden behavior on the sphinx rendered scikit-learn.org. See: https://github.com/scikit-learn/scikit-learn/issues/21755 */display: inline-block !important;position: relative;}#sk-container-id-3 div.sk-text-repr-fallback {display: none;}</style><div id=\"sk-container-id-3\" class=\"sk-top-container\"><div class=\"sk-text-repr-fallback\"><pre>GridSearchCV(cv=10, estimator=RandomForestClassifier(), n_jobs=-1,\n",
       "             param_grid={&#x27;criterion&#x27;: [&#x27;gini&#x27;], &#x27;max_depth&#x27;: [890],\n",
       "                         &#x27;max_features&#x27;: [&#x27;auto&#x27;],\n",
       "                         &#x27;min_samples_leaf&#x27;: [2, 4, 6],\n",
       "                         &#x27;min_samples_split&#x27;: [0, 1, 2, 3, 4],\n",
       "                         &#x27;n_estimators&#x27;: [600, 700, 800, 900, 1000]},\n",
       "             verbose=2)</pre><b>In a Jupyter environment, please rerun this cell to show the HTML representation or trust the notebook. <br />On GitHub, the HTML representation is unable to render, please try loading this page with nbviewer.org.</b></div><div class=\"sk-container\" hidden><div class=\"sk-item sk-dashed-wrapped\"><div class=\"sk-label-container\"><div class=\"sk-label sk-toggleable\"><input class=\"sk-toggleable__control sk-hidden--visually\" id=\"sk-estimator-id-5\" type=\"checkbox\" ><label for=\"sk-estimator-id-5\" class=\"sk-toggleable__label sk-toggleable__label-arrow\">GridSearchCV</label><div class=\"sk-toggleable__content\"><pre>GridSearchCV(cv=10, estimator=RandomForestClassifier(), n_jobs=-1,\n",
       "             param_grid={&#x27;criterion&#x27;: [&#x27;gini&#x27;], &#x27;max_depth&#x27;: [890],\n",
       "                         &#x27;max_features&#x27;: [&#x27;auto&#x27;],\n",
       "                         &#x27;min_samples_leaf&#x27;: [2, 4, 6],\n",
       "                         &#x27;min_samples_split&#x27;: [0, 1, 2, 3, 4],\n",
       "                         &#x27;n_estimators&#x27;: [600, 700, 800, 900, 1000]},\n",
       "             verbose=2)</pre></div></div></div><div class=\"sk-parallel\"><div class=\"sk-parallel-item\"><div class=\"sk-item\"><div class=\"sk-label-container\"><div class=\"sk-label sk-toggleable\"><input class=\"sk-toggleable__control sk-hidden--visually\" id=\"sk-estimator-id-6\" type=\"checkbox\" ><label for=\"sk-estimator-id-6\" class=\"sk-toggleable__label sk-toggleable__label-arrow\">estimator: RandomForestClassifier</label><div class=\"sk-toggleable__content\"><pre>RandomForestClassifier()</pre></div></div></div><div class=\"sk-serial\"><div class=\"sk-item\"><div class=\"sk-estimator sk-toggleable\"><input class=\"sk-toggleable__control sk-hidden--visually\" id=\"sk-estimator-id-7\" type=\"checkbox\" ><label for=\"sk-estimator-id-7\" class=\"sk-toggleable__label sk-toggleable__label-arrow\">RandomForestClassifier</label><div class=\"sk-toggleable__content\"><pre>RandomForestClassifier()</pre></div></div></div></div></div></div></div></div></div></div>"
      ],
      "text/plain": [
       "GridSearchCV(cv=10, estimator=RandomForestClassifier(), n_jobs=-1,\n",
       "             param_grid={'criterion': ['gini'], 'max_depth': [890],\n",
       "                         'max_features': ['auto'],\n",
       "                         'min_samples_leaf': [2, 4, 6],\n",
       "                         'min_samples_split': [0, 1, 2, 3, 4],\n",
       "                         'n_estimators': [600, 700, 800, 900, 1000]},\n",
       "             verbose=2)"
      ]
     },
     "execution_count": 118,
     "metadata": {},
     "output_type": "execute_result"
    }
   ],
   "source": [
    "rf = RandomForestClassifier()\n",
    "grid_search = GridSearchCV(estimator = rf,param_grid=param_grid,\n",
    "                                cv=10,verbose=2,n_jobs=-1)\n",
    "grid_search.fit(x_train,y_train)"
   ]
  },
  {
   "cell_type": "code",
   "execution_count": 119,
   "id": "c7c54fb9",
   "metadata": {},
   "outputs": [],
   "source": [
    "best_grid = grid_search.best_estimator_"
   ]
  },
  {
   "cell_type": "code",
   "execution_count": 120,
   "id": "6665cf36",
   "metadata": {},
   "outputs": [
    {
     "name": "stdout",
     "output_type": "stream",
     "text": [
      "[[217  16  32  13  19]\n",
      " [ 36 297  75  92  14]\n",
      " [ 57  63 236  34  20]\n",
      " [ 28  64  31 390   7]\n",
      " [ 36  21  54  13  79]]\n",
      "0.6270576131687243\n",
      "                             precision    recall  f1-score   support\n",
      "\n",
      "extreme severe side effects       0.58      0.73      0.65       297\n",
      "          mild side effects       0.64      0.58      0.61       514\n",
      "      moderate side effects       0.55      0.58      0.56       410\n",
      "            no side effects       0.72      0.75      0.73       520\n",
      "        severe side effects       0.57      0.39      0.46       203\n",
      "\n",
      "                   accuracy                           0.63      1944\n",
      "                  macro avg       0.61      0.60      0.60      1944\n",
      "               weighted avg       0.63      0.63      0.62      1944\n",
      "\n"
     ]
    }
   ],
   "source": [
    "prediction = best_grid.predict(x_test)\n",
    "print(confusion_matrix(y_test,prediction))\n",
    "print(accuracy_score(y_test,prediction))\n",
    "print(classification_report(y_test,prediction))"
   ]
  },
  {
   "cell_type": "markdown",
   "id": "48183061",
   "metadata": {},
   "source": [
    "##### After the hyperparameter tuning of random forest classifier alogorithm, there is no increase the accuracy score, hence model without tuning selected as the best."
   ]
  },
  {
   "cell_type": "markdown",
   "id": "38244ea7",
   "metadata": {},
   "source": [
    "### Evaluating Model"
   ]
  },
  {
   "cell_type": "code",
   "execution_count": 121,
   "id": "8cafaa66",
   "metadata": {},
   "outputs": [
    {
     "data": {
      "text/plain": [
       "no side effects                520\n",
       "mild side effects              514\n",
       "moderate side effects          410\n",
       "extreme severe side effects    297\n",
       "severe side effects            203\n",
       "Name: Effectiveness, dtype: int64"
      ]
     },
     "execution_count": 121,
     "metadata": {},
     "output_type": "execute_result"
    }
   ],
   "source": [
    "y_test.value_counts()"
   ]
  },
  {
   "cell_type": "code",
   "execution_count": 122,
   "id": "126b71b3",
   "metadata": {},
   "outputs": [
    {
     "data": {
      "text/html": [
       "<div>\n",
       "<style scoped>\n",
       "    .dataframe tbody tr th:only-of-type {\n",
       "        vertical-align: middle;\n",
       "    }\n",
       "\n",
       "    .dataframe tbody tr th {\n",
       "        vertical-align: top;\n",
       "    }\n",
       "\n",
       "    .dataframe thead th {\n",
       "        text-align: right;\n",
       "    }\n",
       "</style>\n",
       "<table border=\"1\" class=\"dataframe\">\n",
       "  <thead>\n",
       "    <tr style=\"text-align: right;\">\n",
       "      <th></th>\n",
       "      <th>y_predicted</th>\n",
       "      <th>original</th>\n",
       "    </tr>\n",
       "  </thead>\n",
       "  <tbody>\n",
       "    <tr>\n",
       "      <th>1469</th>\n",
       "      <td>moderate side effects</td>\n",
       "      <td>mild side effects</td>\n",
       "    </tr>\n",
       "    <tr>\n",
       "      <th>2813</th>\n",
       "      <td>no side effects</td>\n",
       "      <td>no side effects</td>\n",
       "    </tr>\n",
       "    <tr>\n",
       "      <th>3554</th>\n",
       "      <td>extreme severe side effects</td>\n",
       "      <td>extreme severe side effects</td>\n",
       "    </tr>\n",
       "    <tr>\n",
       "      <th>5154</th>\n",
       "      <td>no side effects</td>\n",
       "      <td>no side effects</td>\n",
       "    </tr>\n",
       "    <tr>\n",
       "      <th>3077</th>\n",
       "      <td>mild side effects</td>\n",
       "      <td>no side effects</td>\n",
       "    </tr>\n",
       "  </tbody>\n",
       "</table>\n",
       "</div>"
      ],
      "text/plain": [
       "                      y_predicted                     original\n",
       "1469        moderate side effects            mild side effects\n",
       "2813              no side effects              no side effects\n",
       "3554  extreme severe side effects  extreme severe side effects\n",
       "5154              no side effects              no side effects\n",
       "3077            mild side effects              no side effects"
      ]
     },
     "execution_count": 122,
     "metadata": {},
     "output_type": "execute_result"
    }
   ],
   "source": [
    "df=pd.DataFrame({\"y_predicted\": y_pred_rf,\"original\":y_test})\n",
    "df.head()"
   ]
  },
  {
   "cell_type": "code",
   "execution_count": 123,
   "id": "d0c2deb6",
   "metadata": {},
   "outputs": [
    {
     "data": {
      "text/html": [
       "<div>\n",
       "<style scoped>\n",
       "    .dataframe tbody tr th:only-of-type {\n",
       "        vertical-align: middle;\n",
       "    }\n",
       "\n",
       "    .dataframe tbody tr th {\n",
       "        vertical-align: top;\n",
       "    }\n",
       "\n",
       "    .dataframe thead th {\n",
       "        text-align: right;\n",
       "    }\n",
       "</style>\n",
       "<table border=\"1\" class=\"dataframe\">\n",
       "  <thead>\n",
       "    <tr style=\"text-align: right;\">\n",
       "      <th>original</th>\n",
       "      <th>extreme severe side effects</th>\n",
       "      <th>mild side effects</th>\n",
       "      <th>moderate side effects</th>\n",
       "      <th>no side effects</th>\n",
       "      <th>severe side effects</th>\n",
       "    </tr>\n",
       "    <tr>\n",
       "      <th>y_predicted</th>\n",
       "      <th></th>\n",
       "      <th></th>\n",
       "      <th></th>\n",
       "      <th></th>\n",
       "      <th></th>\n",
       "    </tr>\n",
       "  </thead>\n",
       "  <tbody>\n",
       "    <tr>\n",
       "      <th>extreme severe side effects</th>\n",
       "      <td>197</td>\n",
       "      <td>30</td>\n",
       "      <td>49</td>\n",
       "      <td>22</td>\n",
       "      <td>30</td>\n",
       "    </tr>\n",
       "    <tr>\n",
       "      <th>mild side effects</th>\n",
       "      <td>17</td>\n",
       "      <td>297</td>\n",
       "      <td>59</td>\n",
       "      <td>65</td>\n",
       "      <td>15</td>\n",
       "    </tr>\n",
       "    <tr>\n",
       "      <th>moderate side effects</th>\n",
       "      <td>39</td>\n",
       "      <td>83</td>\n",
       "      <td>245</td>\n",
       "      <td>32</td>\n",
       "      <td>45</td>\n",
       "    </tr>\n",
       "    <tr>\n",
       "      <th>no side effects</th>\n",
       "      <td>19</td>\n",
       "      <td>87</td>\n",
       "      <td>35</td>\n",
       "      <td>393</td>\n",
       "      <td>13</td>\n",
       "    </tr>\n",
       "    <tr>\n",
       "      <th>severe side effects</th>\n",
       "      <td>25</td>\n",
       "      <td>17</td>\n",
       "      <td>22</td>\n",
       "      <td>8</td>\n",
       "      <td>100</td>\n",
       "    </tr>\n",
       "  </tbody>\n",
       "</table>\n",
       "</div>"
      ],
      "text/plain": [
       "original                     extreme severe side effects  mild side effects  \\\n",
       "y_predicted                                                                   \n",
       "extreme severe side effects                          197                 30   \n",
       "mild side effects                                     17                297   \n",
       "moderate side effects                                 39                 83   \n",
       "no side effects                                       19                 87   \n",
       "severe side effects                                   25                 17   \n",
       "\n",
       "original                     moderate side effects  no side effects  \\\n",
       "y_predicted                                                           \n",
       "extreme severe side effects                     49               22   \n",
       "mild side effects                               59               65   \n",
       "moderate side effects                          245               32   \n",
       "no side effects                                 35              393   \n",
       "severe side effects                             22                8   \n",
       "\n",
       "original                     severe side effects  \n",
       "y_predicted                                       \n",
       "extreme severe side effects                   30  \n",
       "mild side effects                             15  \n",
       "moderate side effects                         45  \n",
       "no side effects                               13  \n",
       "severe side effects                          100  "
      ]
     },
     "execution_count": 123,
     "metadata": {},
     "output_type": "execute_result"
    }
   ],
   "source": [
    "pd.crosstab(df[\"y_predicted\"],df[\"original\"])"
   ]
  },
  {
   "cell_type": "code",
   "execution_count": null,
   "id": "30beb7ae",
   "metadata": {},
   "outputs": [],
   "source": []
  }
 ],
 "metadata": {
  "kernelspec": {
   "display_name": "Python 3 (ipykernel)",
   "language": "python",
   "name": "python3"
  },
  "language_info": {
   "codemirror_mode": {
    "name": "ipython",
    "version": 3
   },
   "file_extension": ".py",
   "mimetype": "text/x-python",
   "name": "python",
   "nbconvert_exporter": "python",
   "pygments_lexer": "ipython3",
   "version": "3.11.3"
  }
 },
 "nbformat": 4,
 "nbformat_minor": 5
}
